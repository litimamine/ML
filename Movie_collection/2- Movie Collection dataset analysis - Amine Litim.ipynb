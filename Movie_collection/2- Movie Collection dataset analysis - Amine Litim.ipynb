{
 "cells": [
  {
   "cell_type": "markdown",
   "metadata": {},
   "source": [
    "# Movie Collection Dataset\n",
    "    ###  by Amine Litim\n",
    "### The purpose of this analysis is to apply 3 major classifiers ;  K-nearest Neighbors, Logistic Regression and Linear Discriminant Analysis to Classify data and predict if the movie is winning an Oscar or not"
   ]
  },
  {
   "cell_type": "markdown",
   "metadata": {},
   "source": [
    " ### For an organizational purpose, all libraries and packages are imported in this first cell:"
   ]
  },
  {
   "cell_type": "code",
   "execution_count": 1,
   "metadata": {},
   "outputs": [],
   "source": [
    "import pandas as pd\n",
    "import numpy as np\n",
    "\n",
    "\n",
    "import matplotlib.pyplot as plt\n",
    "import seaborn as sns #for data visualisation ( just like matplotlib) \n",
    "\n",
    "\n",
    "import statsmodels.api as sn \n",
    "import statsmodels.discrete.discrete_model as sm \n",
    "\n",
    "# Sickit Learn Models: \n",
    "from sklearn.linear_model import LogisticRegression as lr\n",
    "from sklearn.metrics import confusion_matrix, accuracy_score\n",
    "from sklearn.metrics import precision_score, recall_score, roc_auc_score\n",
    "from sklearn.discriminant_analysis import LinearDiscriminantAnalysis\n",
    "from sklearn.model_selection import train_test_split   # to split data into train - test\n",
    "from sklearn.neighbors import KNeighborsClassifier as knc\n",
    "from sklearn import preprocessing\n",
    "from sklearn.model_selection import GridSearchCV\n",
    "\n",
    "\n",
    "# sns.distplot(dataset.variable)\n",
    "# sns.jointplot(x= , y= , data= '') \n",
    "#sns.pairplot(dataset)\n",
    "#to get help about any function, it is possible to use the symbol \"?\" before it; example: ?sns.boxplot"
   ]
  },
  {
   "cell_type": "code",
   "execution_count": 2,
   "metadata": {},
   "outputs": [],
   "source": [
    "# pwd command is to localise my work path"
   ]
  },
  {
   "cell_type": "code",
   "execution_count": 3,
   "metadata": {},
   "outputs": [
    {
     "data": {
      "text/plain": [
       "'C:\\\\Users\\\\amine\\\\Data mining course\\\\Data mining homeworks'"
      ]
     },
     "execution_count": 3,
     "metadata": {},
     "output_type": "execute_result"
    }
   ],
   "source": [
    "\n",
    "pwd"
   ]
  },
  {
   "cell_type": "code",
   "execution_count": 4,
   "metadata": {},
   "outputs": [
    {
     "data": {
      "text/html": [
       "<div>\n",
       "<style scoped>\n",
       "    .dataframe tbody tr th:only-of-type {\n",
       "        vertical-align: middle;\n",
       "    }\n",
       "\n",
       "    .dataframe tbody tr th {\n",
       "        vertical-align: top;\n",
       "    }\n",
       "\n",
       "    .dataframe thead th {\n",
       "        text-align: right;\n",
       "    }\n",
       "</style>\n",
       "<table border=\"1\" class=\"dataframe\">\n",
       "  <thead>\n",
       "    <tr style=\"text-align: right;\">\n",
       "      <th></th>\n",
       "      <th>Collection</th>\n",
       "      <th>Marketing expense</th>\n",
       "      <th>Production expense</th>\n",
       "      <th>Multiplex coverage</th>\n",
       "      <th>Budget</th>\n",
       "      <th>Movie_length</th>\n",
       "      <th>Lead_ Actor_Rating</th>\n",
       "      <th>Lead_Actress_rating</th>\n",
       "      <th>Director_rating</th>\n",
       "      <th>Producer_rating</th>\n",
       "      <th>Critic_rating</th>\n",
       "      <th>Trailer_views</th>\n",
       "      <th>3D_available</th>\n",
       "      <th>Time_taken</th>\n",
       "      <th>Twitter_hastags</th>\n",
       "      <th>Genre</th>\n",
       "      <th>Avg_age_actors</th>\n",
       "      <th>MPAA_film_rating</th>\n",
       "      <th>Num_multiplex</th>\n",
       "      <th>Start_Tech_Oscar</th>\n",
       "    </tr>\n",
       "  </thead>\n",
       "  <tbody>\n",
       "    <tr>\n",
       "      <td>0</td>\n",
       "      <td>48000</td>\n",
       "      <td>20.1264</td>\n",
       "      <td>59.62</td>\n",
       "      <td>0.462</td>\n",
       "      <td>36524.125</td>\n",
       "      <td>138.7</td>\n",
       "      <td>7.825</td>\n",
       "      <td>8.095</td>\n",
       "      <td>7.910</td>\n",
       "      <td>7.995</td>\n",
       "      <td>7.94</td>\n",
       "      <td>527367</td>\n",
       "      <td>YES</td>\n",
       "      <td>109.60</td>\n",
       "      <td>223.840</td>\n",
       "      <td>Thriller</td>\n",
       "      <td>23</td>\n",
       "      <td>PG</td>\n",
       "      <td>494</td>\n",
       "      <td>0</td>\n",
       "    </tr>\n",
       "    <tr>\n",
       "      <td>1</td>\n",
       "      <td>43200</td>\n",
       "      <td>20.5462</td>\n",
       "      <td>69.14</td>\n",
       "      <td>0.531</td>\n",
       "      <td>35668.655</td>\n",
       "      <td>152.4</td>\n",
       "      <td>7.505</td>\n",
       "      <td>7.650</td>\n",
       "      <td>7.440</td>\n",
       "      <td>7.470</td>\n",
       "      <td>7.44</td>\n",
       "      <td>494055</td>\n",
       "      <td>NO</td>\n",
       "      <td>146.64</td>\n",
       "      <td>243.456</td>\n",
       "      <td>Drama</td>\n",
       "      <td>42</td>\n",
       "      <td>PG</td>\n",
       "      <td>462</td>\n",
       "      <td>1</td>\n",
       "    </tr>\n",
       "    <tr>\n",
       "      <td>2</td>\n",
       "      <td>69400</td>\n",
       "      <td>20.5458</td>\n",
       "      <td>69.14</td>\n",
       "      <td>0.531</td>\n",
       "      <td>39912.675</td>\n",
       "      <td>134.6</td>\n",
       "      <td>7.485</td>\n",
       "      <td>7.570</td>\n",
       "      <td>7.495</td>\n",
       "      <td>7.515</td>\n",
       "      <td>7.44</td>\n",
       "      <td>547051</td>\n",
       "      <td>NO</td>\n",
       "      <td>147.88</td>\n",
       "      <td>2022.400</td>\n",
       "      <td>Comedy</td>\n",
       "      <td>38</td>\n",
       "      <td>PG</td>\n",
       "      <td>458</td>\n",
       "      <td>0</td>\n",
       "    </tr>\n",
       "    <tr>\n",
       "      <td>3</td>\n",
       "      <td>66800</td>\n",
       "      <td>20.6474</td>\n",
       "      <td>59.36</td>\n",
       "      <td>0.542</td>\n",
       "      <td>38873.890</td>\n",
       "      <td>119.3</td>\n",
       "      <td>6.895</td>\n",
       "      <td>7.035</td>\n",
       "      <td>6.920</td>\n",
       "      <td>7.020</td>\n",
       "      <td>8.26</td>\n",
       "      <td>516279</td>\n",
       "      <td>YES</td>\n",
       "      <td>185.36</td>\n",
       "      <td>225.344</td>\n",
       "      <td>Drama</td>\n",
       "      <td>45</td>\n",
       "      <td>PG</td>\n",
       "      <td>472</td>\n",
       "      <td>0</td>\n",
       "    </tr>\n",
       "    <tr>\n",
       "      <td>4</td>\n",
       "      <td>72400</td>\n",
       "      <td>21.3810</td>\n",
       "      <td>59.36</td>\n",
       "      <td>0.542</td>\n",
       "      <td>39701.585</td>\n",
       "      <td>127.7</td>\n",
       "      <td>6.920</td>\n",
       "      <td>7.070</td>\n",
       "      <td>6.815</td>\n",
       "      <td>7.070</td>\n",
       "      <td>8.26</td>\n",
       "      <td>531448</td>\n",
       "      <td>NO</td>\n",
       "      <td>176.48</td>\n",
       "      <td>225.792</td>\n",
       "      <td>Drama</td>\n",
       "      <td>55</td>\n",
       "      <td>PG</td>\n",
       "      <td>395</td>\n",
       "      <td>0</td>\n",
       "    </tr>\n",
       "    <tr>\n",
       "      <td>...</td>\n",
       "      <td>...</td>\n",
       "      <td>...</td>\n",
       "      <td>...</td>\n",
       "      <td>...</td>\n",
       "      <td>...</td>\n",
       "      <td>...</td>\n",
       "      <td>...</td>\n",
       "      <td>...</td>\n",
       "      <td>...</td>\n",
       "      <td>...</td>\n",
       "      <td>...</td>\n",
       "      <td>...</td>\n",
       "      <td>...</td>\n",
       "      <td>...</td>\n",
       "      <td>...</td>\n",
       "      <td>...</td>\n",
       "      <td>...</td>\n",
       "      <td>...</td>\n",
       "      <td>...</td>\n",
       "      <td>...</td>\n",
       "    </tr>\n",
       "    <tr>\n",
       "      <td>501</td>\n",
       "      <td>44800</td>\n",
       "      <td>21.2526</td>\n",
       "      <td>78.86</td>\n",
       "      <td>0.427</td>\n",
       "      <td>36624.115</td>\n",
       "      <td>142.6</td>\n",
       "      <td>8.680</td>\n",
       "      <td>8.775</td>\n",
       "      <td>8.620</td>\n",
       "      <td>8.970</td>\n",
       "      <td>6.80</td>\n",
       "      <td>492480</td>\n",
       "      <td>NO</td>\n",
       "      <td>186.96</td>\n",
       "      <td>243.584</td>\n",
       "      <td>Action</td>\n",
       "      <td>27</td>\n",
       "      <td>PG</td>\n",
       "      <td>561</td>\n",
       "      <td>1</td>\n",
       "    </tr>\n",
       "    <tr>\n",
       "      <td>502</td>\n",
       "      <td>41200</td>\n",
       "      <td>20.9054</td>\n",
       "      <td>78.86</td>\n",
       "      <td>0.427</td>\n",
       "      <td>33996.600</td>\n",
       "      <td>150.2</td>\n",
       "      <td>8.780</td>\n",
       "      <td>8.945</td>\n",
       "      <td>8.770</td>\n",
       "      <td>8.930</td>\n",
       "      <td>7.80</td>\n",
       "      <td>482875</td>\n",
       "      <td>YES</td>\n",
       "      <td>132.24</td>\n",
       "      <td>263.296</td>\n",
       "      <td>Action</td>\n",
       "      <td>20</td>\n",
       "      <td>PG</td>\n",
       "      <td>600</td>\n",
       "      <td>1</td>\n",
       "    </tr>\n",
       "    <tr>\n",
       "      <td>503</td>\n",
       "      <td>47800</td>\n",
       "      <td>21.2152</td>\n",
       "      <td>78.86</td>\n",
       "      <td>0.427</td>\n",
       "      <td>38751.680</td>\n",
       "      <td>164.5</td>\n",
       "      <td>8.830</td>\n",
       "      <td>8.970</td>\n",
       "      <td>8.855</td>\n",
       "      <td>9.010</td>\n",
       "      <td>7.80</td>\n",
       "      <td>532239</td>\n",
       "      <td>NO</td>\n",
       "      <td>109.56</td>\n",
       "      <td>243.824</td>\n",
       "      <td>Comedy</td>\n",
       "      <td>31</td>\n",
       "      <td>PG</td>\n",
       "      <td>576</td>\n",
       "      <td>1</td>\n",
       "    </tr>\n",
       "    <tr>\n",
       "      <td>504</td>\n",
       "      <td>44000</td>\n",
       "      <td>22.1918</td>\n",
       "      <td>78.86</td>\n",
       "      <td>0.427</td>\n",
       "      <td>37740.670</td>\n",
       "      <td>162.8</td>\n",
       "      <td>8.730</td>\n",
       "      <td>8.845</td>\n",
       "      <td>8.800</td>\n",
       "      <td>8.845</td>\n",
       "      <td>6.80</td>\n",
       "      <td>496077</td>\n",
       "      <td>YES</td>\n",
       "      <td>158.80</td>\n",
       "      <td>303.520</td>\n",
       "      <td>Comedy</td>\n",
       "      <td>47</td>\n",
       "      <td>PG</td>\n",
       "      <td>607</td>\n",
       "      <td>1</td>\n",
       "    </tr>\n",
       "    <tr>\n",
       "      <td>505</td>\n",
       "      <td>38000</td>\n",
       "      <td>20.9482</td>\n",
       "      <td>78.86</td>\n",
       "      <td>0.427</td>\n",
       "      <td>33496.650</td>\n",
       "      <td>154.3</td>\n",
       "      <td>8.640</td>\n",
       "      <td>8.880</td>\n",
       "      <td>8.680</td>\n",
       "      <td>8.790</td>\n",
       "      <td>6.80</td>\n",
       "      <td>518438</td>\n",
       "      <td>YES</td>\n",
       "      <td>205.60</td>\n",
       "      <td>203.040</td>\n",
       "      <td>Comedy</td>\n",
       "      <td>45</td>\n",
       "      <td>PG</td>\n",
       "      <td>604</td>\n",
       "      <td>1</td>\n",
       "    </tr>\n",
       "  </tbody>\n",
       "</table>\n",
       "<p>506 rows × 20 columns</p>\n",
       "</div>"
      ],
      "text/plain": [
       "     Collection  Marketing expense  Production expense  Multiplex coverage  \\\n",
       "0         48000            20.1264               59.62               0.462   \n",
       "1         43200            20.5462               69.14               0.531   \n",
       "2         69400            20.5458               69.14               0.531   \n",
       "3         66800            20.6474               59.36               0.542   \n",
       "4         72400            21.3810               59.36               0.542   \n",
       "..          ...                ...                 ...                 ...   \n",
       "501       44800            21.2526               78.86               0.427   \n",
       "502       41200            20.9054               78.86               0.427   \n",
       "503       47800            21.2152               78.86               0.427   \n",
       "504       44000            22.1918               78.86               0.427   \n",
       "505       38000            20.9482               78.86               0.427   \n",
       "\n",
       "        Budget  Movie_length  Lead_ Actor_Rating  Lead_Actress_rating  \\\n",
       "0    36524.125         138.7               7.825                8.095   \n",
       "1    35668.655         152.4               7.505                7.650   \n",
       "2    39912.675         134.6               7.485                7.570   \n",
       "3    38873.890         119.3               6.895                7.035   \n",
       "4    39701.585         127.7               6.920                7.070   \n",
       "..         ...           ...                 ...                  ...   \n",
       "501  36624.115         142.6               8.680                8.775   \n",
       "502  33996.600         150.2               8.780                8.945   \n",
       "503  38751.680         164.5               8.830                8.970   \n",
       "504  37740.670         162.8               8.730                8.845   \n",
       "505  33496.650         154.3               8.640                8.880   \n",
       "\n",
       "     Director_rating  Producer_rating  Critic_rating  Trailer_views  \\\n",
       "0              7.910            7.995           7.94         527367   \n",
       "1              7.440            7.470           7.44         494055   \n",
       "2              7.495            7.515           7.44         547051   \n",
       "3              6.920            7.020           8.26         516279   \n",
       "4              6.815            7.070           8.26         531448   \n",
       "..               ...              ...            ...            ...   \n",
       "501            8.620            8.970           6.80         492480   \n",
       "502            8.770            8.930           7.80         482875   \n",
       "503            8.855            9.010           7.80         532239   \n",
       "504            8.800            8.845           6.80         496077   \n",
       "505            8.680            8.790           6.80         518438   \n",
       "\n",
       "    3D_available  Time_taken  Twitter_hastags     Genre  Avg_age_actors  \\\n",
       "0            YES      109.60          223.840  Thriller              23   \n",
       "1             NO      146.64          243.456     Drama              42   \n",
       "2             NO      147.88         2022.400    Comedy              38   \n",
       "3            YES      185.36          225.344     Drama              45   \n",
       "4             NO      176.48          225.792     Drama              55   \n",
       "..           ...         ...              ...       ...             ...   \n",
       "501           NO      186.96          243.584    Action              27   \n",
       "502          YES      132.24          263.296    Action              20   \n",
       "503           NO      109.56          243.824    Comedy              31   \n",
       "504          YES      158.80          303.520    Comedy              47   \n",
       "505          YES      205.60          203.040    Comedy              45   \n",
       "\n",
       "    MPAA_film_rating  Num_multiplex  Start_Tech_Oscar  \n",
       "0                 PG            494                 0  \n",
       "1                 PG            462                 1  \n",
       "2                 PG            458                 0  \n",
       "3                 PG            472                 0  \n",
       "4                 PG            395                 0  \n",
       "..               ...            ...               ...  \n",
       "501               PG            561                 1  \n",
       "502               PG            600                 1  \n",
       "503               PG            576                 1  \n",
       "504               PG            607                 1  \n",
       "505               PG            604                 1  \n",
       "\n",
       "[506 rows x 20 columns]"
      ]
     },
     "execution_count": 4,
     "metadata": {},
     "output_type": "execute_result"
    }
   ],
   "source": [
    "df= pd.read_csv(\"movie_collection.csv\", header= 0)\n",
    "df"
   ]
  },
  {
   "cell_type": "code",
   "execution_count": 5,
   "metadata": {},
   "outputs": [
    {
     "data": {
      "text/html": [
       "<div>\n",
       "<style scoped>\n",
       "    .dataframe tbody tr th:only-of-type {\n",
       "        vertical-align: middle;\n",
       "    }\n",
       "\n",
       "    .dataframe tbody tr th {\n",
       "        vertical-align: top;\n",
       "    }\n",
       "\n",
       "    .dataframe thead th {\n",
       "        text-align: right;\n",
       "    }\n",
       "</style>\n",
       "<table border=\"1\" class=\"dataframe\">\n",
       "  <thead>\n",
       "    <tr style=\"text-align: right;\">\n",
       "      <th></th>\n",
       "      <th>Collection</th>\n",
       "      <th>Marketing expense</th>\n",
       "      <th>Production expense</th>\n",
       "      <th>Multiplex coverage</th>\n",
       "      <th>Budget</th>\n",
       "      <th>Movie_length</th>\n",
       "      <th>Lead_ Actor_Rating</th>\n",
       "      <th>Lead_Actress_rating</th>\n",
       "      <th>Director_rating</th>\n",
       "      <th>Producer_rating</th>\n",
       "      <th>Critic_rating</th>\n",
       "      <th>Trailer_views</th>\n",
       "      <th>Time_taken</th>\n",
       "      <th>Twitter_hastags</th>\n",
       "      <th>Avg_age_actors</th>\n",
       "      <th>Num_multiplex</th>\n",
       "      <th>Start_Tech_Oscar</th>\n",
       "    </tr>\n",
       "  </thead>\n",
       "  <tbody>\n",
       "    <tr>\n",
       "      <td>count</td>\n",
       "      <td>506.000000</td>\n",
       "      <td>506.000000</td>\n",
       "      <td>506.000000</td>\n",
       "      <td>506.000000</td>\n",
       "      <td>506.000000</td>\n",
       "      <td>506.000000</td>\n",
       "      <td>506.000000</td>\n",
       "      <td>506.000000</td>\n",
       "      <td>506.000000</td>\n",
       "      <td>506.000000</td>\n",
       "      <td>506.000000</td>\n",
       "      <td>506.000000</td>\n",
       "      <td>494.000000</td>\n",
       "      <td>506.000000</td>\n",
       "      <td>506.000000</td>\n",
       "      <td>506.000000</td>\n",
       "      <td>506.000000</td>\n",
       "    </tr>\n",
       "    <tr>\n",
       "      <td>mean</td>\n",
       "      <td>45057.707510</td>\n",
       "      <td>92.270471</td>\n",
       "      <td>77.273557</td>\n",
       "      <td>0.445305</td>\n",
       "      <td>34911.144022</td>\n",
       "      <td>142.074901</td>\n",
       "      <td>8.014002</td>\n",
       "      <td>8.185613</td>\n",
       "      <td>8.019664</td>\n",
       "      <td>8.190514</td>\n",
       "      <td>7.810870</td>\n",
       "      <td>449860.715415</td>\n",
       "      <td>157.391498</td>\n",
       "      <td>260.832095</td>\n",
       "      <td>39.181818</td>\n",
       "      <td>545.043478</td>\n",
       "      <td>0.454545</td>\n",
       "    </tr>\n",
       "    <tr>\n",
       "      <td>std</td>\n",
       "      <td>18364.351764</td>\n",
       "      <td>172.030902</td>\n",
       "      <td>13.720706</td>\n",
       "      <td>0.115878</td>\n",
       "      <td>3903.038232</td>\n",
       "      <td>28.148861</td>\n",
       "      <td>1.054266</td>\n",
       "      <td>1.054290</td>\n",
       "      <td>1.059899</td>\n",
       "      <td>1.049601</td>\n",
       "      <td>0.659699</td>\n",
       "      <td>68917.763145</td>\n",
       "      <td>31.295161</td>\n",
       "      <td>104.779133</td>\n",
       "      <td>12.513697</td>\n",
       "      <td>106.332889</td>\n",
       "      <td>0.498422</td>\n",
       "    </tr>\n",
       "    <tr>\n",
       "      <td>min</td>\n",
       "      <td>10000.000000</td>\n",
       "      <td>20.126400</td>\n",
       "      <td>55.920000</td>\n",
       "      <td>0.129000</td>\n",
       "      <td>19781.355000</td>\n",
       "      <td>76.400000</td>\n",
       "      <td>3.840000</td>\n",
       "      <td>4.035000</td>\n",
       "      <td>3.840000</td>\n",
       "      <td>4.030000</td>\n",
       "      <td>6.600000</td>\n",
       "      <td>212912.000000</td>\n",
       "      <td>0.000000</td>\n",
       "      <td>201.152000</td>\n",
       "      <td>3.000000</td>\n",
       "      <td>333.000000</td>\n",
       "      <td>0.000000</td>\n",
       "    </tr>\n",
       "    <tr>\n",
       "      <td>25%</td>\n",
       "      <td>34050.000000</td>\n",
       "      <td>21.640900</td>\n",
       "      <td>65.380000</td>\n",
       "      <td>0.376000</td>\n",
       "      <td>32693.952500</td>\n",
       "      <td>118.525000</td>\n",
       "      <td>7.316250</td>\n",
       "      <td>7.503750</td>\n",
       "      <td>7.296250</td>\n",
       "      <td>7.507500</td>\n",
       "      <td>7.200000</td>\n",
       "      <td>409128.000000</td>\n",
       "      <td>132.300000</td>\n",
       "      <td>223.796000</td>\n",
       "      <td>28.000000</td>\n",
       "      <td>465.000000</td>\n",
       "      <td>0.000000</td>\n",
       "    </tr>\n",
       "    <tr>\n",
       "      <td>50%</td>\n",
       "      <td>42400.000000</td>\n",
       "      <td>25.130200</td>\n",
       "      <td>74.380000</td>\n",
       "      <td>0.462000</td>\n",
       "      <td>34488.217500</td>\n",
       "      <td>151.000000</td>\n",
       "      <td>8.307500</td>\n",
       "      <td>8.495000</td>\n",
       "      <td>8.312500</td>\n",
       "      <td>8.465000</td>\n",
       "      <td>7.960000</td>\n",
       "      <td>462460.000000</td>\n",
       "      <td>160.000000</td>\n",
       "      <td>254.400000</td>\n",
       "      <td>39.000000</td>\n",
       "      <td>535.500000</td>\n",
       "      <td>0.000000</td>\n",
       "    </tr>\n",
       "    <tr>\n",
       "      <td>75%</td>\n",
       "      <td>50000.000000</td>\n",
       "      <td>93.541650</td>\n",
       "      <td>91.200000</td>\n",
       "      <td>0.551000</td>\n",
       "      <td>36793.542500</td>\n",
       "      <td>167.575000</td>\n",
       "      <td>8.865000</td>\n",
       "      <td>9.030000</td>\n",
       "      <td>8.883750</td>\n",
       "      <td>9.030000</td>\n",
       "      <td>8.260000</td>\n",
       "      <td>500247.500000</td>\n",
       "      <td>181.890000</td>\n",
       "      <td>283.416000</td>\n",
       "      <td>50.000000</td>\n",
       "      <td>614.750000</td>\n",
       "      <td>1.000000</td>\n",
       "    </tr>\n",
       "    <tr>\n",
       "      <td>max</td>\n",
       "      <td>100000.000000</td>\n",
       "      <td>1799.524000</td>\n",
       "      <td>110.480000</td>\n",
       "      <td>0.615000</td>\n",
       "      <td>48772.900000</td>\n",
       "      <td>173.500000</td>\n",
       "      <td>9.435000</td>\n",
       "      <td>9.540000</td>\n",
       "      <td>9.425000</td>\n",
       "      <td>9.635000</td>\n",
       "      <td>9.400000</td>\n",
       "      <td>567784.000000</td>\n",
       "      <td>217.520000</td>\n",
       "      <td>2022.400000</td>\n",
       "      <td>60.000000</td>\n",
       "      <td>868.000000</td>\n",
       "      <td>1.000000</td>\n",
       "    </tr>\n",
       "  </tbody>\n",
       "</table>\n",
       "</div>"
      ],
      "text/plain": [
       "          Collection  Marketing expense  Production expense  \\\n",
       "count     506.000000         506.000000          506.000000   \n",
       "mean    45057.707510          92.270471           77.273557   \n",
       "std     18364.351764         172.030902           13.720706   \n",
       "min     10000.000000          20.126400           55.920000   \n",
       "25%     34050.000000          21.640900           65.380000   \n",
       "50%     42400.000000          25.130200           74.380000   \n",
       "75%     50000.000000          93.541650           91.200000   \n",
       "max    100000.000000        1799.524000          110.480000   \n",
       "\n",
       "       Multiplex coverage        Budget  Movie_length  Lead_ Actor_Rating  \\\n",
       "count          506.000000    506.000000    506.000000          506.000000   \n",
       "mean             0.445305  34911.144022    142.074901            8.014002   \n",
       "std              0.115878   3903.038232     28.148861            1.054266   \n",
       "min              0.129000  19781.355000     76.400000            3.840000   \n",
       "25%              0.376000  32693.952500    118.525000            7.316250   \n",
       "50%              0.462000  34488.217500    151.000000            8.307500   \n",
       "75%              0.551000  36793.542500    167.575000            8.865000   \n",
       "max              0.615000  48772.900000    173.500000            9.435000   \n",
       "\n",
       "       Lead_Actress_rating  Director_rating  Producer_rating  Critic_rating  \\\n",
       "count           506.000000       506.000000       506.000000     506.000000   \n",
       "mean              8.185613         8.019664         8.190514       7.810870   \n",
       "std               1.054290         1.059899         1.049601       0.659699   \n",
       "min               4.035000         3.840000         4.030000       6.600000   \n",
       "25%               7.503750         7.296250         7.507500       7.200000   \n",
       "50%               8.495000         8.312500         8.465000       7.960000   \n",
       "75%               9.030000         8.883750         9.030000       8.260000   \n",
       "max               9.540000         9.425000         9.635000       9.400000   \n",
       "\n",
       "       Trailer_views  Time_taken  Twitter_hastags  Avg_age_actors  \\\n",
       "count     506.000000  494.000000       506.000000      506.000000   \n",
       "mean   449860.715415  157.391498       260.832095       39.181818   \n",
       "std     68917.763145   31.295161       104.779133       12.513697   \n",
       "min    212912.000000    0.000000       201.152000        3.000000   \n",
       "25%    409128.000000  132.300000       223.796000       28.000000   \n",
       "50%    462460.000000  160.000000       254.400000       39.000000   \n",
       "75%    500247.500000  181.890000       283.416000       50.000000   \n",
       "max    567784.000000  217.520000      2022.400000       60.000000   \n",
       "\n",
       "       Num_multiplex  Start_Tech_Oscar  \n",
       "count     506.000000        506.000000  \n",
       "mean      545.043478          0.454545  \n",
       "std       106.332889          0.498422  \n",
       "min       333.000000          0.000000  \n",
       "25%       465.000000          0.000000  \n",
       "50%       535.500000          0.000000  \n",
       "75%       614.750000          1.000000  \n",
       "max       868.000000          1.000000  "
      ]
     },
     "execution_count": 5,
     "metadata": {},
     "output_type": "execute_result"
    }
   ],
   "source": [
    "df.describe()"
   ]
  },
  {
   "cell_type": "code",
   "execution_count": 6,
   "metadata": {},
   "outputs": [],
   "source": [
    "#The mean is not too different from the median ( 45057 comparing to 42400), and quartile ranges are close to each other\n",
    "# ( always compare the distance between the 5 lower numbers from \"min\" to \"max\")\n",
    "#it's a case of a normal distibution "
   ]
  },
  {
   "cell_type": "code",
   "execution_count": 7,
   "metadata": {},
   "outputs": [
    {
     "name": "stdout",
     "output_type": "stream",
     "text": [
      "<class 'pandas.core.frame.DataFrame'>\n",
      "RangeIndex: 506 entries, 0 to 505\n",
      "Data columns (total 20 columns):\n",
      "Collection             506 non-null int64\n",
      "Marketing expense      506 non-null float64\n",
      "Production expense     506 non-null float64\n",
      "Multiplex coverage     506 non-null float64\n",
      "Budget                 506 non-null float64\n",
      "Movie_length           506 non-null float64\n",
      "Lead_ Actor_Rating     506 non-null float64\n",
      "Lead_Actress_rating    506 non-null float64\n",
      "Director_rating        506 non-null float64\n",
      "Producer_rating        506 non-null float64\n",
      "Critic_rating          506 non-null float64\n",
      "Trailer_views          506 non-null int64\n",
      "3D_available           506 non-null object\n",
      "Time_taken             494 non-null float64\n",
      "Twitter_hastags        506 non-null float64\n",
      "Genre                  506 non-null object\n",
      "Avg_age_actors         506 non-null int64\n",
      "MPAA_film_rating       506 non-null object\n",
      "Num_multiplex          506 non-null int64\n",
      "Start_Tech_Oscar       506 non-null int64\n",
      "dtypes: float64(12), int64(5), object(3)\n",
      "memory usage: 79.2+ KB\n"
     ]
    }
   ],
   "source": [
    "df.info()\n",
    "# the Column '3D_available' shows object as type of data (String)\n",
    "#the column 'Time_taken' is missing some values, we should deal with that. \n"
   ]
  },
  {
   "cell_type": "code",
   "execution_count": 8,
   "metadata": {},
   "outputs": [
    {
     "data": {
      "text/plain": [
       "<matplotlib.axes._subplots.AxesSubplot at 0x2c4e6f89e48>"
      ]
     },
     "execution_count": 8,
     "metadata": {},
     "output_type": "execute_result"
    },
    {
     "data": {
      "image/png": "[encoded data removed]",
      "text/plain": [
       "<Figure size 432x288 with 1 Axes>"
      ]
     },
     "metadata": {
      "needs_background": "light"
     },
     "output_type": "display_data"
    }
   ],
   "source": [
    "sns.boxplot( y= \"Trailer_views\", data=df)"
   ]
  },
  {
   "cell_type": "code",
   "execution_count": 9,
   "metadata": {},
   "outputs": [],
   "source": [
    "#The interquartile range of the distribution is between 40k and 50k, \n",
    "#also, the boxplot shows the existence of outliers among the values of the variable \"Trailer_views\""
   ]
  },
  {
   "cell_type": "code",
   "execution_count": 10,
   "metadata": {},
   "outputs": [
    {
     "data": {
      "text/plain": [
       "<matplotlib.axes._subplots.AxesSubplot at 0x2c4e72af708>"
      ]
     },
     "execution_count": 10,
     "metadata": {},
     "output_type": "execute_result"
    },
    {
     "data": {
      "image/png": "[encoded data removed]",
      "text/plain": [
       "<Figure size 432x288 with 1 Axes>"
      ]
     },
     "metadata": {
      "needs_background": "light"
     },
     "output_type": "display_data"
    }
   ],
   "source": [
    "sns.boxplot(y=\"Time_taken\",data=df)"
   ]
  },
  {
   "cell_type": "code",
   "execution_count": 11,
   "metadata": {},
   "outputs": [],
   "source": [
    "#The interquartile range of the distribution is between 130 and 180, \n",
    "#also, the boxplot shows the existence of outliers among the values of the variable \"Time_taken\" of a value 0"
   ]
  },
  {
   "cell_type": "code",
   "execution_count": 12,
   "metadata": {},
   "outputs": [
    {
     "data": {
      "text/plain": [
       "<matplotlib.axes._subplots.AxesSubplot at 0x2c4e732b148>"
      ]
     },
     "execution_count": 12,
     "metadata": {},
     "output_type": "execute_result"
    },
    {
     "data": {
      "image/png": "[encoded data removed]",
      "text/plain": [
       "<Figure size 432x288 with 1 Axes>"
      ]
     },
     "metadata": {
      "needs_background": "light"
     },
     "output_type": "display_data"
    }
   ],
   "source": [
    "sns.boxplot(y=\"Twitter_hastags\",data=df) "
   ]
  },
  {
   "cell_type": "code",
   "execution_count": 13,
   "metadata": {},
   "outputs": [],
   "source": [
    "#The interquartile range of the distribution is between 223 and 283 \n",
    "#also, the boxplot shows the existence of outliers among the values of the variable \"Twitter_hastags\""
   ]
  },
  {
   "cell_type": "code",
   "execution_count": 14,
   "metadata": {},
   "outputs": [
    {
     "data": {
      "text/plain": [
       "<seaborn.axisgrid.JointGrid at 0x2c4e73a8bc8>"
      ]
     },
     "execution_count": 14,
     "metadata": {},
     "output_type": "execute_result"
    },
    {
     "data": {
      "image/png": "[encoded data removed]",
      "text/plain": [
       "<Figure size 432x432 with 3 Axes>"
      ]
     },
     "metadata": {
      "needs_background": "light"
     },
     "output_type": "display_data"
    }
   ],
   "source": [
    "sns.jointplot(x=\"Marketing expense\" , y=\"Start_Tech_Oscar\" , data=df)\n",
    "# both must be of type float, categorical variables of type string are not accepted"
   ]
  },
  {
   "cell_type": "code",
   "execution_count": 15,
   "metadata": {},
   "outputs": [
    {
     "data": {
      "text/plain": [
       "<matplotlib.axes._subplots.AxesSubplot at 0x2c4e7568f08>"
      ]
     },
     "execution_count": 15,
     "metadata": {},
     "output_type": "execute_result"
    },
    {
     "data": {
      "image/png": "[encoded data removed]",
      "text/plain": [
       "<Figure size 432x288 with 1 Axes>"
      ]
     },
     "metadata": {
      "needs_background": "light"
     },
     "output_type": "display_data"
    }
   ],
   "source": [
    "sns.countplot(x=\"Start_Tech_Oscar\", data= df)"
   ]
  },
  {
   "cell_type": "code",
   "execution_count": 16,
   "metadata": {},
   "outputs": [
    {
     "data": {
      "text/plain": [
       "<matplotlib.axes._subplots.AxesSubplot at 0x2c4e75abe48>"
      ]
     },
     "execution_count": 16,
     "metadata": {},
     "output_type": "execute_result"
    },
    {
     "data": {
      "image/png": "[encoded data removed]",
      "text/plain": [
       "<Figure size 432x288 with 1 Axes>"
      ]
     },
     "metadata": {
      "needs_background": "light"
     },
     "output_type": "display_data"
    }
   ],
   "source": [
    "sns.countplot(x=\"3D_available\", data= df)"
   ]
  },
  {
   "cell_type": "code",
   "execution_count": 17,
   "metadata": {},
   "outputs": [
    {
     "data": {
      "text/plain": [
       "<matplotlib.axes._subplots.AxesSubplot at 0x2c4e7612e48>"
      ]
     },
     "execution_count": 17,
     "metadata": {},
     "output_type": "execute_result"
    },
    {
     "data": {
      "image/png": "[encoded data removed]",
      "text/plain": [
       "<Figure size 432x288 with 1 Axes>"
      ]
     },
     "metadata": {
      "needs_background": "light"
     },
     "output_type": "display_data"
    }
   ],
   "source": [
    " sns.countplot(x=\"MPAA_film_rating\", data= df)"
   ]
  },
  {
   "cell_type": "markdown",
   "metadata": {},
   "source": [
    "### this variable here \"MPAA FILM RATING\" shows only one result: it's considered a constant; we can delete it\n",
    "### we apply del df['MPAA_film_rating'] "
   ]
  },
  {
   "cell_type": "markdown",
   "metadata": {},
   "source": [
    "### now we should deal with outliers, and adjust their values: "
   ]
  },
  {
   "cell_type": "code",
   "execution_count": 18,
   "metadata": {},
   "outputs": [
    {
     "data": {
      "text/plain": [
       "257424.94999999998"
      ]
     },
     "execution_count": 18,
     "metadata": {},
     "output_type": "execute_result"
    }
   ],
   "source": [
    "#detect the outlier and display is as a value not an array output ( the reason behind using [0])\n",
    "lv = np.percentile(df.Trailer_views,[1])[0]\n",
    "lv"
   ]
  },
  {
   "cell_type": "code",
   "execution_count": 19,
   "metadata": {},
   "outputs": [
    {
     "data": {
      "text/html": [
       "<div>\n",
       "<style scoped>\n",
       "    .dataframe tbody tr th:only-of-type {\n",
       "        vertical-align: middle;\n",
       "    }\n",
       "\n",
       "    .dataframe tbody tr th {\n",
       "        vertical-align: top;\n",
       "    }\n",
       "\n",
       "    .dataframe thead th {\n",
       "        text-align: right;\n",
       "    }\n",
       "</style>\n",
       "<table border=\"1\" class=\"dataframe\">\n",
       "  <thead>\n",
       "    <tr style=\"text-align: right;\">\n",
       "      <th></th>\n",
       "      <th>Collection</th>\n",
       "      <th>Marketing expense</th>\n",
       "      <th>Production expense</th>\n",
       "      <th>Multiplex coverage</th>\n",
       "      <th>Budget</th>\n",
       "      <th>Movie_length</th>\n",
       "      <th>Lead_ Actor_Rating</th>\n",
       "      <th>Lead_Actress_rating</th>\n",
       "      <th>Director_rating</th>\n",
       "      <th>Producer_rating</th>\n",
       "      <th>Critic_rating</th>\n",
       "      <th>Trailer_views</th>\n",
       "      <th>3D_available</th>\n",
       "      <th>Time_taken</th>\n",
       "      <th>Twitter_hastags</th>\n",
       "      <th>Genre</th>\n",
       "      <th>Avg_age_actors</th>\n",
       "      <th>MPAA_film_rating</th>\n",
       "      <th>Num_multiplex</th>\n",
       "      <th>Start_Tech_Oscar</th>\n",
       "    </tr>\n",
       "  </thead>\n",
       "  <tbody>\n",
       "    <tr>\n",
       "      <td>141</td>\n",
       "      <td>28800</td>\n",
       "      <td>52.5728</td>\n",
       "      <td>98.78</td>\n",
       "      <td>0.376</td>\n",
       "      <td>27880.545</td>\n",
       "      <td>173.5</td>\n",
       "      <td>9.185</td>\n",
       "      <td>9.340</td>\n",
       "      <td>9.145</td>\n",
       "      <td>9.450</td>\n",
       "      <td>7.76</td>\n",
       "      <td>233100</td>\n",
       "      <td>YES</td>\n",
       "      <td>199.76</td>\n",
       "      <td>242.304</td>\n",
       "      <td>Comedy</td>\n",
       "      <td>43</td>\n",
       "      <td>PG</td>\n",
       "      <td>561</td>\n",
       "      <td>0</td>\n",
       "    </tr>\n",
       "    <tr>\n",
       "      <td>373</td>\n",
       "      <td>27600</td>\n",
       "      <td>242.1620</td>\n",
       "      <td>91.20</td>\n",
       "      <td>0.332</td>\n",
       "      <td>27252.830</td>\n",
       "      <td>173.5</td>\n",
       "      <td>9.260</td>\n",
       "      <td>9.505</td>\n",
       "      <td>9.360</td>\n",
       "      <td>9.525</td>\n",
       "      <td>7.96</td>\n",
       "      <td>237541</td>\n",
       "      <td>YES</td>\n",
       "      <td>137.52</td>\n",
       "      <td>262.208</td>\n",
       "      <td>Comedy</td>\n",
       "      <td>56</td>\n",
       "      <td>PG</td>\n",
       "      <td>611</td>\n",
       "      <td>0</td>\n",
       "    </tr>\n",
       "    <tr>\n",
       "      <td>374</td>\n",
       "      <td>27600</td>\n",
       "      <td>389.9640</td>\n",
       "      <td>91.20</td>\n",
       "      <td>0.332</td>\n",
       "      <td>22986.590</td>\n",
       "      <td>173.5</td>\n",
       "      <td>9.270</td>\n",
       "      <td>9.480</td>\n",
       "      <td>9.425</td>\n",
       "      <td>9.550</td>\n",
       "      <td>6.96</td>\n",
       "      <td>215432</td>\n",
       "      <td>NO</td>\n",
       "      <td>141.52</td>\n",
       "      <td>262.208</td>\n",
       "      <td>Drama</td>\n",
       "      <td>35</td>\n",
       "      <td>PG</td>\n",
       "      <td>712</td>\n",
       "      <td>0</td>\n",
       "    </tr>\n",
       "    <tr>\n",
       "      <td>412</td>\n",
       "      <td>35800</td>\n",
       "      <td>396.2200</td>\n",
       "      <td>91.20</td>\n",
       "      <td>0.403</td>\n",
       "      <td>25708.540</td>\n",
       "      <td>173.5</td>\n",
       "      <td>9.115</td>\n",
       "      <td>9.230</td>\n",
       "      <td>9.110</td>\n",
       "      <td>9.435</td>\n",
       "      <td>7.96</td>\n",
       "      <td>233720</td>\n",
       "      <td>NO</td>\n",
       "      <td>167.16</td>\n",
       "      <td>302.864</td>\n",
       "      <td>Comedy</td>\n",
       "      <td>40</td>\n",
       "      <td>PG</td>\n",
       "      <td>587</td>\n",
       "      <td>0</td>\n",
       "    </tr>\n",
       "    <tr>\n",
       "      <td>414</td>\n",
       "      <td>14000</td>\n",
       "      <td>934.9220</td>\n",
       "      <td>91.20</td>\n",
       "      <td>0.307</td>\n",
       "      <td>25103.045</td>\n",
       "      <td>173.5</td>\n",
       "      <td>9.130</td>\n",
       "      <td>9.250</td>\n",
       "      <td>9.050</td>\n",
       "      <td>9.255</td>\n",
       "      <td>7.96</td>\n",
       "      <td>212912</td>\n",
       "      <td>YES</td>\n",
       "      <td>120.80</td>\n",
       "      <td>241.120</td>\n",
       "      <td>Thriller</td>\n",
       "      <td>40</td>\n",
       "      <td>PG</td>\n",
       "      <td>693</td>\n",
       "      <td>0</td>\n",
       "    </tr>\n",
       "    <tr>\n",
       "      <td>438</td>\n",
       "      <td>16800</td>\n",
       "      <td>293.5620</td>\n",
       "      <td>91.20</td>\n",
       "      <td>0.260</td>\n",
       "      <td>32968.925</td>\n",
       "      <td>161.4</td>\n",
       "      <td>9.075</td>\n",
       "      <td>9.195</td>\n",
       "      <td>9.065</td>\n",
       "      <td>9.025</td>\n",
       "      <td>6.96</td>\n",
       "      <td>257073</td>\n",
       "      <td>YES</td>\n",
       "      <td>191.36</td>\n",
       "      <td>281.344</td>\n",
       "      <td>Comedy</td>\n",
       "      <td>57</td>\n",
       "      <td>PG</td>\n",
       "      <td>712</td>\n",
       "      <td>0</td>\n",
       "    </tr>\n",
       "  </tbody>\n",
       "</table>\n",
       "</div>"
      ],
      "text/plain": [
       "     Collection  Marketing expense  Production expense  Multiplex coverage  \\\n",
       "141       28800            52.5728               98.78               0.376   \n",
       "373       27600           242.1620               91.20               0.332   \n",
       "374       27600           389.9640               91.20               0.332   \n",
       "412       35800           396.2200               91.20               0.403   \n",
       "414       14000           934.9220               91.20               0.307   \n",
       "438       16800           293.5620               91.20               0.260   \n",
       "\n",
       "        Budget  Movie_length  Lead_ Actor_Rating  Lead_Actress_rating  \\\n",
       "141  27880.545         173.5               9.185                9.340   \n",
       "373  27252.830         173.5               9.260                9.505   \n",
       "374  22986.590         173.5               9.270                9.480   \n",
       "412  25708.540         173.5               9.115                9.230   \n",
       "414  25103.045         173.5               9.130                9.250   \n",
       "438  32968.925         161.4               9.075                9.195   \n",
       "\n",
       "     Director_rating  Producer_rating  Critic_rating  Trailer_views  \\\n",
       "141            9.145            9.450           7.76         233100   \n",
       "373            9.360            9.525           7.96         237541   \n",
       "374            9.425            9.550           6.96         215432   \n",
       "412            9.110            9.435           7.96         233720   \n",
       "414            9.050            9.255           7.96         212912   \n",
       "438            9.065            9.025           6.96         257073   \n",
       "\n",
       "    3D_available  Time_taken  Twitter_hastags     Genre  Avg_age_actors  \\\n",
       "141          YES      199.76          242.304    Comedy              43   \n",
       "373          YES      137.52          262.208    Comedy              56   \n",
       "374           NO      141.52          262.208     Drama              35   \n",
       "412           NO      167.16          302.864    Comedy              40   \n",
       "414          YES      120.80          241.120  Thriller              40   \n",
       "438          YES      191.36          281.344    Comedy              57   \n",
       "\n",
       "    MPAA_film_rating  Num_multiplex  Start_Tech_Oscar  \n",
       "141               PG            561                 0  \n",
       "373               PG            611                 0  \n",
       "374               PG            712                 0  \n",
       "412               PG            587                 0  \n",
       "414               PG            693                 0  \n",
       "438               PG            712                 0  "
      ]
     },
     "execution_count": 19,
     "metadata": {},
     "output_type": "execute_result"
    }
   ],
   "source": [
    "#display all the values lower then 0.3*1% percentile value\n",
    "df[(df.Trailer_views<lv)]"
   ]
  },
  {
   "cell_type": "markdown",
   "metadata": {},
   "source": [
    "### we don't want to touch close outliers, we'll only affect guenine outliers which are too far. \n",
    "### so we'll use a 0.3 multiplier as a tolerance interval ( 3 for the case of upper outliers)"
   ]
  },
  {
   "cell_type": "code",
   "execution_count": 20,
   "metadata": {},
   "outputs": [],
   "source": [
    "df[(df.Trailer_views<0.3*lv)]=0.3*lv "
   ]
  },
  {
   "cell_type": "markdown",
   "metadata": {},
   "source": [
    "### done, now we go for the other variables ( case of upper outliers for twitter hastags) "
   ]
  },
  {
   "cell_type": "code",
   "execution_count": 21,
   "metadata": {},
   "outputs": [
    {
     "data": {
      "text/html": [
       "<div>\n",
       "<style scoped>\n",
       "    .dataframe tbody tr th:only-of-type {\n",
       "        vertical-align: middle;\n",
       "    }\n",
       "\n",
       "    .dataframe tbody tr th {\n",
       "        vertical-align: top;\n",
       "    }\n",
       "\n",
       "    .dataframe thead th {\n",
       "        text-align: right;\n",
       "    }\n",
       "</style>\n",
       "<table border=\"1\" class=\"dataframe\">\n",
       "  <thead>\n",
       "    <tr style=\"text-align: right;\">\n",
       "      <th></th>\n",
       "      <th>Collection</th>\n",
       "      <th>Marketing expense</th>\n",
       "      <th>Production expense</th>\n",
       "      <th>Multiplex coverage</th>\n",
       "      <th>Budget</th>\n",
       "      <th>Movie_length</th>\n",
       "      <th>Lead_ Actor_Rating</th>\n",
       "      <th>Lead_Actress_rating</th>\n",
       "      <th>Director_rating</th>\n",
       "      <th>Producer_rating</th>\n",
       "      <th>Critic_rating</th>\n",
       "      <th>Trailer_views</th>\n",
       "      <th>3D_available</th>\n",
       "      <th>Time_taken</th>\n",
       "      <th>Twitter_hastags</th>\n",
       "      <th>Genre</th>\n",
       "      <th>Avg_age_actors</th>\n",
       "      <th>MPAA_film_rating</th>\n",
       "      <th>Num_multiplex</th>\n",
       "      <th>Start_Tech_Oscar</th>\n",
       "    </tr>\n",
       "  </thead>\n",
       "  <tbody>\n",
       "    <tr>\n",
       "      <td>2</td>\n",
       "      <td>69400.0</td>\n",
       "      <td>20.5458</td>\n",
       "      <td>69.14</td>\n",
       "      <td>0.5310</td>\n",
       "      <td>39912.675</td>\n",
       "      <td>134.6</td>\n",
       "      <td>7.485</td>\n",
       "      <td>7.570</td>\n",
       "      <td>7.495</td>\n",
       "      <td>7.515</td>\n",
       "      <td>7.44</td>\n",
       "      <td>547051.0</td>\n",
       "      <td>NO</td>\n",
       "      <td>147.88</td>\n",
       "      <td>2022.4</td>\n",
       "      <td>Comedy</td>\n",
       "      <td>38.0</td>\n",
       "      <td>PG</td>\n",
       "      <td>458.0</td>\n",
       "      <td>0.0</td>\n",
       "    </tr>\n",
       "    <tr>\n",
       "      <td>166</td>\n",
       "      <td>100000.0</td>\n",
       "      <td>60.2038</td>\n",
       "      <td>94.16</td>\n",
       "      <td>0.3950</td>\n",
       "      <td>44045.595</td>\n",
       "      <td>169.7</td>\n",
       "      <td>8.945</td>\n",
       "      <td>9.045</td>\n",
       "      <td>8.845</td>\n",
       "      <td>9.070</td>\n",
       "      <td>9.06</td>\n",
       "      <td>517904.0</td>\n",
       "      <td>YES</td>\n",
       "      <td>166.00</td>\n",
       "      <td>308.0</td>\n",
       "      <td>Thriller</td>\n",
       "      <td>37.0</td>\n",
       "      <td>PG</td>\n",
       "      <td>522.0</td>\n",
       "      <td>0.0</td>\n",
       "    </tr>\n",
       "    <tr>\n",
       "      <td>204</td>\n",
       "      <td>100000.0</td>\n",
       "      <td>20.4018</td>\n",
       "      <td>60.36</td>\n",
       "      <td>0.5839</td>\n",
       "      <td>44628.870</td>\n",
       "      <td>105.4</td>\n",
       "      <td>7.295</td>\n",
       "      <td>7.600</td>\n",
       "      <td>7.360</td>\n",
       "      <td>7.505</td>\n",
       "      <td>8.06</td>\n",
       "      <td>517393.0</td>\n",
       "      <td>YES</td>\n",
       "      <td>178.00</td>\n",
       "      <td>308.0</td>\n",
       "      <td>Thriller</td>\n",
       "      <td>51.0</td>\n",
       "      <td>PG</td>\n",
       "      <td>442.0</td>\n",
       "      <td>0.0</td>\n",
       "    </tr>\n",
       "    <tr>\n",
       "      <td>267</td>\n",
       "      <td>100000.0</td>\n",
       "      <td>31.5668</td>\n",
       "      <td>62.94</td>\n",
       "      <td>0.4250</td>\n",
       "      <td>46089.835</td>\n",
       "      <td>140.5</td>\n",
       "      <td>8.700</td>\n",
       "      <td>8.935</td>\n",
       "      <td>8.785</td>\n",
       "      <td>8.740</td>\n",
       "      <td>9.40</td>\n",
       "      <td>495431.0</td>\n",
       "      <td>YES</td>\n",
       "      <td>160.00</td>\n",
       "      <td>308.0</td>\n",
       "      <td>Comedy</td>\n",
       "      <td>42.0</td>\n",
       "      <td>PG</td>\n",
       "      <td>633.0</td>\n",
       "      <td>0.0</td>\n",
       "    </tr>\n",
       "    <tr>\n",
       "      <td>369</td>\n",
       "      <td>100000.0</td>\n",
       "      <td>133.3996</td>\n",
       "      <td>91.20</td>\n",
       "      <td>0.3690</td>\n",
       "      <td>37124.065</td>\n",
       "      <td>170.3</td>\n",
       "      <td>9.225</td>\n",
       "      <td>9.360</td>\n",
       "      <td>9.175</td>\n",
       "      <td>9.530</td>\n",
       "      <td>7.96</td>\n",
       "      <td>513408.0</td>\n",
       "      <td>YES</td>\n",
       "      <td>134.00</td>\n",
       "      <td>308.0</td>\n",
       "      <td>Thriller</td>\n",
       "      <td>58.0</td>\n",
       "      <td>PG</td>\n",
       "      <td>675.0</td>\n",
       "      <td>0.0</td>\n",
       "    </tr>\n",
       "    <tr>\n",
       "      <td>423</td>\n",
       "      <td>26800.0</td>\n",
       "      <td>161.0084</td>\n",
       "      <td>91.20</td>\n",
       "      <td>0.3860</td>\n",
       "      <td>33902.165</td>\n",
       "      <td>158.6</td>\n",
       "      <td>8.960</td>\n",
       "      <td>9.100</td>\n",
       "      <td>8.830</td>\n",
       "      <td>9.065</td>\n",
       "      <td>7.96</td>\n",
       "      <td>340669.0</td>\n",
       "      <td>NO</td>\n",
       "      <td>165.36</td>\n",
       "      <td>1622.4</td>\n",
       "      <td>Drama</td>\n",
       "      <td>29.0</td>\n",
       "      <td>PG</td>\n",
       "      <td>634.0</td>\n",
       "      <td>0.0</td>\n",
       "    </tr>\n",
       "  </tbody>\n",
       "</table>\n",
       "</div>"
      ],
      "text/plain": [
       "     Collection  Marketing expense  Production expense  Multiplex coverage  \\\n",
       "2       69400.0            20.5458               69.14              0.5310   \n",
       "166    100000.0            60.2038               94.16              0.3950   \n",
       "204    100000.0            20.4018               60.36              0.5839   \n",
       "267    100000.0            31.5668               62.94              0.4250   \n",
       "369    100000.0           133.3996               91.20              0.3690   \n",
       "423     26800.0           161.0084               91.20              0.3860   \n",
       "\n",
       "        Budget  Movie_length  Lead_ Actor_Rating  Lead_Actress_rating  \\\n",
       "2    39912.675         134.6               7.485                7.570   \n",
       "166  44045.595         169.7               8.945                9.045   \n",
       "204  44628.870         105.4               7.295                7.600   \n",
       "267  46089.835         140.5               8.700                8.935   \n",
       "369  37124.065         170.3               9.225                9.360   \n",
       "423  33902.165         158.6               8.960                9.100   \n",
       "\n",
       "     Director_rating  Producer_rating  Critic_rating  Trailer_views  \\\n",
       "2              7.495            7.515           7.44       547051.0   \n",
       "166            8.845            9.070           9.06       517904.0   \n",
       "204            7.360            7.505           8.06       517393.0   \n",
       "267            8.785            8.740           9.40       495431.0   \n",
       "369            9.175            9.530           7.96       513408.0   \n",
       "423            8.830            9.065           7.96       340669.0   \n",
       "\n",
       "    3D_available  Time_taken  Twitter_hastags     Genre  Avg_age_actors  \\\n",
       "2             NO      147.88           2022.4    Comedy            38.0   \n",
       "166          YES      166.00            308.0  Thriller            37.0   \n",
       "204          YES      178.00            308.0  Thriller            51.0   \n",
       "267          YES      160.00            308.0    Comedy            42.0   \n",
       "369          YES      134.00            308.0  Thriller            58.0   \n",
       "423           NO      165.36           1622.4     Drama            29.0   \n",
       "\n",
       "    MPAA_film_rating  Num_multiplex  Start_Tech_Oscar  \n",
       "2                 PG          458.0               0.0  \n",
       "166               PG          522.0               0.0  \n",
       "204               PG          442.0               0.0  \n",
       "267               PG          633.0               0.0  \n",
       "369               PG          675.0               0.0  \n",
       "423               PG          634.0               0.0  "
      ]
     },
     "execution_count": 21,
     "metadata": {},
     "output_type": "execute_result"
    }
   ],
   "source": [
    "#detect the outlier and display is as a value not an array output ( the reason behind using [0])\n",
    "lu = np.percentile(df.Twitter_hastags,[99])[0]\n",
    "#display all the values lower then 0.3*1% percentile value\n",
    "df[(df.Twitter_hastags>lu)]"
   ]
  },
  {
   "cell_type": "code",
   "execution_count": 22,
   "metadata": {},
   "outputs": [],
   "source": [
    "#adjust values that are higher than 3 times the 99 percentile value: \n",
    "df[(df.Twitter_hastags>3*lu)]=3*lu"
   ]
  },
  {
   "cell_type": "markdown",
   "metadata": {},
   "source": [
    "### Missing values imputation : "
   ]
  },
  {
   "cell_type": "code",
   "execution_count": 23,
   "metadata": {},
   "outputs": [
    {
     "name": "stdout",
     "output_type": "stream",
     "text": [
      "<class 'pandas.core.frame.DataFrame'>\n",
      "RangeIndex: 506 entries, 0 to 505\n",
      "Data columns (total 20 columns):\n",
      "Collection             506 non-null float64\n",
      "Marketing expense      506 non-null float64\n",
      "Production expense     506 non-null float64\n",
      "Multiplex coverage     506 non-null float64\n",
      "Budget                 506 non-null float64\n",
      "Movie_length           506 non-null float64\n",
      "Lead_ Actor_Rating     506 non-null float64\n",
      "Lead_Actress_rating    506 non-null float64\n",
      "Director_rating        506 non-null float64\n",
      "Producer_rating        506 non-null float64\n",
      "Critic_rating          506 non-null float64\n",
      "Trailer_views          506 non-null float64\n",
      "3D_available           506 non-null object\n",
      "Time_taken             506 non-null float64\n",
      "Twitter_hastags        506 non-null float64\n",
      "Genre                  506 non-null object\n",
      "Avg_age_actors         506 non-null float64\n",
      "MPAA_film_rating       506 non-null object\n",
      "Num_multiplex          506 non-null float64\n",
      "Start_Tech_Oscar       506 non-null float64\n",
      "dtypes: float64(17), object(3)\n",
      "memory usage: 79.2+ KB\n"
     ]
    }
   ],
   "source": [
    "df= df.fillna(df.mean())\n",
    "# or df= df.columnX.fillna(df.columnX.mean()) in case of a specific row\n",
    "df.info()"
   ]
  },
  {
   "cell_type": "markdown",
   "metadata": {},
   "source": [
    "### Mixing 4 variables into one average one: "
   ]
  },
  {
   "cell_type": "code",
   "execution_count": 24,
   "metadata": {},
   "outputs": [
    {
     "data": {
      "text/html": [
       "<div>\n",
       "<style scoped>\n",
       "    .dataframe tbody tr th:only-of-type {\n",
       "        vertical-align: middle;\n",
       "    }\n",
       "\n",
       "    .dataframe tbody tr th {\n",
       "        vertical-align: top;\n",
       "    }\n",
       "\n",
       "    .dataframe thead th {\n",
       "        text-align: right;\n",
       "    }\n",
       "</style>\n",
       "<table border=\"1\" class=\"dataframe\">\n",
       "  <thead>\n",
       "    <tr style=\"text-align: right;\">\n",
       "      <th></th>\n",
       "      <th>Collection</th>\n",
       "      <th>Marketing expense</th>\n",
       "      <th>Production expense</th>\n",
       "      <th>Multiplex coverage</th>\n",
       "      <th>Budget</th>\n",
       "      <th>Movie_length</th>\n",
       "      <th>Lead_ Actor_Rating</th>\n",
       "      <th>Lead_Actress_rating</th>\n",
       "      <th>Director_rating</th>\n",
       "      <th>Producer_rating</th>\n",
       "      <th>Critic_rating</th>\n",
       "      <th>Trailer_views</th>\n",
       "      <th>3D_available</th>\n",
       "      <th>Time_taken</th>\n",
       "      <th>Twitter_hastags</th>\n",
       "      <th>Genre</th>\n",
       "      <th>Avg_age_actors</th>\n",
       "      <th>MPAA_film_rating</th>\n",
       "      <th>Num_multiplex</th>\n",
       "      <th>Start_Tech_Oscar</th>\n",
       "    </tr>\n",
       "  </thead>\n",
       "  <tbody>\n",
       "    <tr>\n",
       "      <td>0</td>\n",
       "      <td>48000.0000</td>\n",
       "      <td>20.1264</td>\n",
       "      <td>59.6200</td>\n",
       "      <td>0.4620</td>\n",
       "      <td>36524.1250</td>\n",
       "      <td>138.7000</td>\n",
       "      <td>7.8250</td>\n",
       "      <td>8.0950</td>\n",
       "      <td>7.9100</td>\n",
       "      <td>7.9950</td>\n",
       "      <td>7.9400</td>\n",
       "      <td>527367.0000</td>\n",
       "      <td>YES</td>\n",
       "      <td>109.6000</td>\n",
       "      <td>223.8400</td>\n",
       "      <td>Thriller</td>\n",
       "      <td>23.0000</td>\n",
       "      <td>PG</td>\n",
       "      <td>494.0000</td>\n",
       "      <td>0.0000</td>\n",
       "    </tr>\n",
       "    <tr>\n",
       "      <td>1</td>\n",
       "      <td>43200.0000</td>\n",
       "      <td>20.5462</td>\n",
       "      <td>69.1400</td>\n",
       "      <td>0.5310</td>\n",
       "      <td>35668.6550</td>\n",
       "      <td>152.4000</td>\n",
       "      <td>7.5050</td>\n",
       "      <td>7.6500</td>\n",
       "      <td>7.4400</td>\n",
       "      <td>7.4700</td>\n",
       "      <td>7.4400</td>\n",
       "      <td>494055.0000</td>\n",
       "      <td>NO</td>\n",
       "      <td>146.6400</td>\n",
       "      <td>243.4560</td>\n",
       "      <td>Drama</td>\n",
       "      <td>42.0000</td>\n",
       "      <td>PG</td>\n",
       "      <td>462.0000</td>\n",
       "      <td>1.0000</td>\n",
       "    </tr>\n",
       "    <tr>\n",
       "      <td>2</td>\n",
       "      <td>923.9712</td>\n",
       "      <td>923.9712</td>\n",
       "      <td>923.9712</td>\n",
       "      <td>923.9712</td>\n",
       "      <td>923.9712</td>\n",
       "      <td>923.9712</td>\n",
       "      <td>923.9712</td>\n",
       "      <td>923.9712</td>\n",
       "      <td>923.9712</td>\n",
       "      <td>923.9712</td>\n",
       "      <td>923.9712</td>\n",
       "      <td>923.9712</td>\n",
       "      <td>923.971</td>\n",
       "      <td>923.9712</td>\n",
       "      <td>923.9712</td>\n",
       "      <td>923.971</td>\n",
       "      <td>923.9712</td>\n",
       "      <td>923.971</td>\n",
       "      <td>923.9712</td>\n",
       "      <td>923.9712</td>\n",
       "    </tr>\n",
       "    <tr>\n",
       "      <td>3</td>\n",
       "      <td>66800.0000</td>\n",
       "      <td>20.6474</td>\n",
       "      <td>59.3600</td>\n",
       "      <td>0.5420</td>\n",
       "      <td>38873.8900</td>\n",
       "      <td>119.3000</td>\n",
       "      <td>6.8950</td>\n",
       "      <td>7.0350</td>\n",
       "      <td>6.9200</td>\n",
       "      <td>7.0200</td>\n",
       "      <td>8.2600</td>\n",
       "      <td>516279.0000</td>\n",
       "      <td>YES</td>\n",
       "      <td>185.3600</td>\n",
       "      <td>225.3440</td>\n",
       "      <td>Drama</td>\n",
       "      <td>45.0000</td>\n",
       "      <td>PG</td>\n",
       "      <td>472.0000</td>\n",
       "      <td>0.0000</td>\n",
       "    </tr>\n",
       "    <tr>\n",
       "      <td>4</td>\n",
       "      <td>72400.0000</td>\n",
       "      <td>21.3810</td>\n",
       "      <td>59.3600</td>\n",
       "      <td>0.5420</td>\n",
       "      <td>39701.5850</td>\n",
       "      <td>127.7000</td>\n",
       "      <td>6.9200</td>\n",
       "      <td>7.0700</td>\n",
       "      <td>6.8150</td>\n",
       "      <td>7.0700</td>\n",
       "      <td>8.2600</td>\n",
       "      <td>531448.0000</td>\n",
       "      <td>NO</td>\n",
       "      <td>176.4800</td>\n",
       "      <td>225.7920</td>\n",
       "      <td>Drama</td>\n",
       "      <td>55.0000</td>\n",
       "      <td>PG</td>\n",
       "      <td>395.0000</td>\n",
       "      <td>0.0000</td>\n",
       "    </tr>\n",
       "    <tr>\n",
       "      <td>...</td>\n",
       "      <td>...</td>\n",
       "      <td>...</td>\n",
       "      <td>...</td>\n",
       "      <td>...</td>\n",
       "      <td>...</td>\n",
       "      <td>...</td>\n",
       "      <td>...</td>\n",
       "      <td>...</td>\n",
       "      <td>...</td>\n",
       "      <td>...</td>\n",
       "      <td>...</td>\n",
       "      <td>...</td>\n",
       "      <td>...</td>\n",
       "      <td>...</td>\n",
       "      <td>...</td>\n",
       "      <td>...</td>\n",
       "      <td>...</td>\n",
       "      <td>...</td>\n",
       "      <td>...</td>\n",
       "      <td>...</td>\n",
       "    </tr>\n",
       "    <tr>\n",
       "      <td>501</td>\n",
       "      <td>44800.0000</td>\n",
       "      <td>21.2526</td>\n",
       "      <td>78.8600</td>\n",
       "      <td>0.4270</td>\n",
       "      <td>36624.1150</td>\n",
       "      <td>142.6000</td>\n",
       "      <td>8.6800</td>\n",
       "      <td>8.7750</td>\n",
       "      <td>8.6200</td>\n",
       "      <td>8.9700</td>\n",
       "      <td>6.8000</td>\n",
       "      <td>492480.0000</td>\n",
       "      <td>NO</td>\n",
       "      <td>186.9600</td>\n",
       "      <td>243.5840</td>\n",
       "      <td>Action</td>\n",
       "      <td>27.0000</td>\n",
       "      <td>PG</td>\n",
       "      <td>561.0000</td>\n",
       "      <td>1.0000</td>\n",
       "    </tr>\n",
       "    <tr>\n",
       "      <td>502</td>\n",
       "      <td>41200.0000</td>\n",
       "      <td>20.9054</td>\n",
       "      <td>78.8600</td>\n",
       "      <td>0.4270</td>\n",
       "      <td>33996.6000</td>\n",
       "      <td>150.2000</td>\n",
       "      <td>8.7800</td>\n",
       "      <td>8.9450</td>\n",
       "      <td>8.7700</td>\n",
       "      <td>8.9300</td>\n",
       "      <td>7.8000</td>\n",
       "      <td>482875.0000</td>\n",
       "      <td>YES</td>\n",
       "      <td>132.2400</td>\n",
       "      <td>263.2960</td>\n",
       "      <td>Action</td>\n",
       "      <td>20.0000</td>\n",
       "      <td>PG</td>\n",
       "      <td>600.0000</td>\n",
       "      <td>1.0000</td>\n",
       "    </tr>\n",
       "    <tr>\n",
       "      <td>503</td>\n",
       "      <td>47800.0000</td>\n",
       "      <td>21.2152</td>\n",
       "      <td>78.8600</td>\n",
       "      <td>0.4270</td>\n",
       "      <td>38751.6800</td>\n",
       "      <td>164.5000</td>\n",
       "      <td>8.8300</td>\n",
       "      <td>8.9700</td>\n",
       "      <td>8.8550</td>\n",
       "      <td>9.0100</td>\n",
       "      <td>7.8000</td>\n",
       "      <td>532239.0000</td>\n",
       "      <td>NO</td>\n",
       "      <td>109.5600</td>\n",
       "      <td>243.8240</td>\n",
       "      <td>Comedy</td>\n",
       "      <td>31.0000</td>\n",
       "      <td>PG</td>\n",
       "      <td>576.0000</td>\n",
       "      <td>1.0000</td>\n",
       "    </tr>\n",
       "    <tr>\n",
       "      <td>504</td>\n",
       "      <td>44000.0000</td>\n",
       "      <td>22.1918</td>\n",
       "      <td>78.8600</td>\n",
       "      <td>0.4270</td>\n",
       "      <td>37740.6700</td>\n",
       "      <td>162.8000</td>\n",
       "      <td>8.7300</td>\n",
       "      <td>8.8450</td>\n",
       "      <td>8.8000</td>\n",
       "      <td>8.8450</td>\n",
       "      <td>6.8000</td>\n",
       "      <td>496077.0000</td>\n",
       "      <td>YES</td>\n",
       "      <td>158.8000</td>\n",
       "      <td>303.5200</td>\n",
       "      <td>Comedy</td>\n",
       "      <td>47.0000</td>\n",
       "      <td>PG</td>\n",
       "      <td>607.0000</td>\n",
       "      <td>1.0000</td>\n",
       "    </tr>\n",
       "    <tr>\n",
       "      <td>505</td>\n",
       "      <td>38000.0000</td>\n",
       "      <td>20.9482</td>\n",
       "      <td>78.8600</td>\n",
       "      <td>0.4270</td>\n",
       "      <td>33496.6500</td>\n",
       "      <td>154.3000</td>\n",
       "      <td>8.6400</td>\n",
       "      <td>8.8800</td>\n",
       "      <td>8.6800</td>\n",
       "      <td>8.7900</td>\n",
       "      <td>6.8000</td>\n",
       "      <td>518438.0000</td>\n",
       "      <td>YES</td>\n",
       "      <td>205.6000</td>\n",
       "      <td>203.0400</td>\n",
       "      <td>Comedy</td>\n",
       "      <td>45.0000</td>\n",
       "      <td>PG</td>\n",
       "      <td>604.0000</td>\n",
       "      <td>1.0000</td>\n",
       "    </tr>\n",
       "  </tbody>\n",
       "</table>\n",
       "<p>506 rows × 20 columns</p>\n",
       "</div>"
      ],
      "text/plain": [
       "     Collection  Marketing expense  Production expense  Multiplex coverage  \\\n",
       "0    48000.0000            20.1264             59.6200              0.4620   \n",
       "1    43200.0000            20.5462             69.1400              0.5310   \n",
       "2      923.9712           923.9712            923.9712            923.9712   \n",
       "3    66800.0000            20.6474             59.3600              0.5420   \n",
       "4    72400.0000            21.3810             59.3600              0.5420   \n",
       "..          ...                ...                 ...                 ...   \n",
       "501  44800.0000            21.2526             78.8600              0.4270   \n",
       "502  41200.0000            20.9054             78.8600              0.4270   \n",
       "503  47800.0000            21.2152             78.8600              0.4270   \n",
       "504  44000.0000            22.1918             78.8600              0.4270   \n",
       "505  38000.0000            20.9482             78.8600              0.4270   \n",
       "\n",
       "         Budget  Movie_length  Lead_ Actor_Rating  Lead_Actress_rating  \\\n",
       "0    36524.1250      138.7000              7.8250               8.0950   \n",
       "1    35668.6550      152.4000              7.5050               7.6500   \n",
       "2      923.9712      923.9712            923.9712             923.9712   \n",
       "3    38873.8900      119.3000              6.8950               7.0350   \n",
       "4    39701.5850      127.7000              6.9200               7.0700   \n",
       "..          ...           ...                 ...                  ...   \n",
       "501  36624.1150      142.6000              8.6800               8.7750   \n",
       "502  33996.6000      150.2000              8.7800               8.9450   \n",
       "503  38751.6800      164.5000              8.8300               8.9700   \n",
       "504  37740.6700      162.8000              8.7300               8.8450   \n",
       "505  33496.6500      154.3000              8.6400               8.8800   \n",
       "\n",
       "     Director_rating  Producer_rating  Critic_rating  Trailer_views  \\\n",
       "0             7.9100           7.9950         7.9400    527367.0000   \n",
       "1             7.4400           7.4700         7.4400    494055.0000   \n",
       "2           923.9712         923.9712       923.9712       923.9712   \n",
       "3             6.9200           7.0200         8.2600    516279.0000   \n",
       "4             6.8150           7.0700         8.2600    531448.0000   \n",
       "..               ...              ...            ...            ...   \n",
       "501           8.6200           8.9700         6.8000    492480.0000   \n",
       "502           8.7700           8.9300         7.8000    482875.0000   \n",
       "503           8.8550           9.0100         7.8000    532239.0000   \n",
       "504           8.8000           8.8450         6.8000    496077.0000   \n",
       "505           8.6800           8.7900         6.8000    518438.0000   \n",
       "\n",
       "    3D_available  Time_taken  Twitter_hastags     Genre  Avg_age_actors  \\\n",
       "0            YES    109.6000         223.8400  Thriller         23.0000   \n",
       "1             NO    146.6400         243.4560     Drama         42.0000   \n",
       "2        923.971    923.9712         923.9712   923.971        923.9712   \n",
       "3            YES    185.3600         225.3440     Drama         45.0000   \n",
       "4             NO    176.4800         225.7920     Drama         55.0000   \n",
       "..           ...         ...              ...       ...             ...   \n",
       "501           NO    186.9600         243.5840    Action         27.0000   \n",
       "502          YES    132.2400         263.2960    Action         20.0000   \n",
       "503           NO    109.5600         243.8240    Comedy         31.0000   \n",
       "504          YES    158.8000         303.5200    Comedy         47.0000   \n",
       "505          YES    205.6000         203.0400    Comedy         45.0000   \n",
       "\n",
       "    MPAA_film_rating  Num_multiplex  Start_Tech_Oscar  \n",
       "0                 PG       494.0000            0.0000  \n",
       "1                 PG       462.0000            1.0000  \n",
       "2            923.971       923.9712          923.9712  \n",
       "3                 PG       472.0000            0.0000  \n",
       "4                 PG       395.0000            0.0000  \n",
       "..               ...            ...               ...  \n",
       "501               PG       561.0000            1.0000  \n",
       "502               PG       600.0000            1.0000  \n",
       "503               PG       576.0000            1.0000  \n",
       "504               PG       607.0000            1.0000  \n",
       "505               PG       604.0000            1.0000  \n",
       "\n",
       "[506 rows x 20 columns]"
      ]
     },
     "execution_count": 24,
     "metadata": {},
     "output_type": "execute_result"
    }
   ],
   "source": [
    "df"
   ]
  },
  {
   "cell_type": "code",
   "execution_count": 25,
   "metadata": {},
   "outputs": [
    {
     "data": {
      "text/html": [
       "<div>\n",
       "<style scoped>\n",
       "    .dataframe tbody tr th:only-of-type {\n",
       "        vertical-align: middle;\n",
       "    }\n",
       "\n",
       "    .dataframe tbody tr th {\n",
       "        vertical-align: top;\n",
       "    }\n",
       "\n",
       "    .dataframe thead th {\n",
       "        text-align: right;\n",
       "    }\n",
       "</style>\n",
       "<table border=\"1\" class=\"dataframe\">\n",
       "  <thead>\n",
       "    <tr style=\"text-align: right;\">\n",
       "      <th></th>\n",
       "      <th>Collection</th>\n",
       "      <th>Marketing expense</th>\n",
       "      <th>Production expense</th>\n",
       "      <th>Multiplex coverage</th>\n",
       "      <th>Budget</th>\n",
       "      <th>Movie_length</th>\n",
       "      <th>actorrating</th>\n",
       "      <th>Lead_Actress_rating</th>\n",
       "      <th>Director_rating</th>\n",
       "      <th>Producer_rating</th>\n",
       "      <th>Critic_rating</th>\n",
       "      <th>Trailer_views</th>\n",
       "      <th>3D_available</th>\n",
       "      <th>Time_taken</th>\n",
       "      <th>Twitter_hastags</th>\n",
       "      <th>Genre</th>\n",
       "      <th>Avg_age_actors</th>\n",
       "      <th>MPAA_film_rating</th>\n",
       "      <th>Num_multiplex</th>\n",
       "      <th>Start_Tech_Oscar</th>\n",
       "    </tr>\n",
       "  </thead>\n",
       "  <tbody>\n",
       "    <tr>\n",
       "      <td>0</td>\n",
       "      <td>48000.0000</td>\n",
       "      <td>20.1264</td>\n",
       "      <td>59.6200</td>\n",
       "      <td>0.4620</td>\n",
       "      <td>36524.1250</td>\n",
       "      <td>138.7000</td>\n",
       "      <td>7.8250</td>\n",
       "      <td>8.0950</td>\n",
       "      <td>7.9100</td>\n",
       "      <td>7.9950</td>\n",
       "      <td>7.9400</td>\n",
       "      <td>527367.0000</td>\n",
       "      <td>YES</td>\n",
       "      <td>109.6000</td>\n",
       "      <td>223.8400</td>\n",
       "      <td>Thriller</td>\n",
       "      <td>23.0000</td>\n",
       "      <td>PG</td>\n",
       "      <td>494.0000</td>\n",
       "      <td>0.0000</td>\n",
       "    </tr>\n",
       "    <tr>\n",
       "      <td>1</td>\n",
       "      <td>43200.0000</td>\n",
       "      <td>20.5462</td>\n",
       "      <td>69.1400</td>\n",
       "      <td>0.5310</td>\n",
       "      <td>35668.6550</td>\n",
       "      <td>152.4000</td>\n",
       "      <td>7.5050</td>\n",
       "      <td>7.6500</td>\n",
       "      <td>7.4400</td>\n",
       "      <td>7.4700</td>\n",
       "      <td>7.4400</td>\n",
       "      <td>494055.0000</td>\n",
       "      <td>NO</td>\n",
       "      <td>146.6400</td>\n",
       "      <td>243.4560</td>\n",
       "      <td>Drama</td>\n",
       "      <td>42.0000</td>\n",
       "      <td>PG</td>\n",
       "      <td>462.0000</td>\n",
       "      <td>1.0000</td>\n",
       "    </tr>\n",
       "    <tr>\n",
       "      <td>2</td>\n",
       "      <td>923.9712</td>\n",
       "      <td>923.9712</td>\n",
       "      <td>923.9712</td>\n",
       "      <td>923.9712</td>\n",
       "      <td>923.9712</td>\n",
       "      <td>923.9712</td>\n",
       "      <td>923.9712</td>\n",
       "      <td>923.9712</td>\n",
       "      <td>923.9712</td>\n",
       "      <td>923.9712</td>\n",
       "      <td>923.9712</td>\n",
       "      <td>923.9712</td>\n",
       "      <td>923.971</td>\n",
       "      <td>923.9712</td>\n",
       "      <td>923.9712</td>\n",
       "      <td>923.971</td>\n",
       "      <td>923.9712</td>\n",
       "      <td>923.971</td>\n",
       "      <td>923.9712</td>\n",
       "      <td>923.9712</td>\n",
       "    </tr>\n",
       "    <tr>\n",
       "      <td>3</td>\n",
       "      <td>66800.0000</td>\n",
       "      <td>20.6474</td>\n",
       "      <td>59.3600</td>\n",
       "      <td>0.5420</td>\n",
       "      <td>38873.8900</td>\n",
       "      <td>119.3000</td>\n",
       "      <td>6.8950</td>\n",
       "      <td>7.0350</td>\n",
       "      <td>6.9200</td>\n",
       "      <td>7.0200</td>\n",
       "      <td>8.2600</td>\n",
       "      <td>516279.0000</td>\n",
       "      <td>YES</td>\n",
       "      <td>185.3600</td>\n",
       "      <td>225.3440</td>\n",
       "      <td>Drama</td>\n",
       "      <td>45.0000</td>\n",
       "      <td>PG</td>\n",
       "      <td>472.0000</td>\n",
       "      <td>0.0000</td>\n",
       "    </tr>\n",
       "    <tr>\n",
       "      <td>4</td>\n",
       "      <td>72400.0000</td>\n",
       "      <td>21.3810</td>\n",
       "      <td>59.3600</td>\n",
       "      <td>0.5420</td>\n",
       "      <td>39701.5850</td>\n",
       "      <td>127.7000</td>\n",
       "      <td>6.9200</td>\n",
       "      <td>7.0700</td>\n",
       "      <td>6.8150</td>\n",
       "      <td>7.0700</td>\n",
       "      <td>8.2600</td>\n",
       "      <td>531448.0000</td>\n",
       "      <td>NO</td>\n",
       "      <td>176.4800</td>\n",
       "      <td>225.7920</td>\n",
       "      <td>Drama</td>\n",
       "      <td>55.0000</td>\n",
       "      <td>PG</td>\n",
       "      <td>395.0000</td>\n",
       "      <td>0.0000</td>\n",
       "    </tr>\n",
       "    <tr>\n",
       "      <td>...</td>\n",
       "      <td>...</td>\n",
       "      <td>...</td>\n",
       "      <td>...</td>\n",
       "      <td>...</td>\n",
       "      <td>...</td>\n",
       "      <td>...</td>\n",
       "      <td>...</td>\n",
       "      <td>...</td>\n",
       "      <td>...</td>\n",
       "      <td>...</td>\n",
       "      <td>...</td>\n",
       "      <td>...</td>\n",
       "      <td>...</td>\n",
       "      <td>...</td>\n",
       "      <td>...</td>\n",
       "      <td>...</td>\n",
       "      <td>...</td>\n",
       "      <td>...</td>\n",
       "      <td>...</td>\n",
       "      <td>...</td>\n",
       "    </tr>\n",
       "    <tr>\n",
       "      <td>501</td>\n",
       "      <td>44800.0000</td>\n",
       "      <td>21.2526</td>\n",
       "      <td>78.8600</td>\n",
       "      <td>0.4270</td>\n",
       "      <td>36624.1150</td>\n",
       "      <td>142.6000</td>\n",
       "      <td>8.6800</td>\n",
       "      <td>8.7750</td>\n",
       "      <td>8.6200</td>\n",
       "      <td>8.9700</td>\n",
       "      <td>6.8000</td>\n",
       "      <td>492480.0000</td>\n",
       "      <td>NO</td>\n",
       "      <td>186.9600</td>\n",
       "      <td>243.5840</td>\n",
       "      <td>Action</td>\n",
       "      <td>27.0000</td>\n",
       "      <td>PG</td>\n",
       "      <td>561.0000</td>\n",
       "      <td>1.0000</td>\n",
       "    </tr>\n",
       "    <tr>\n",
       "      <td>502</td>\n",
       "      <td>41200.0000</td>\n",
       "      <td>20.9054</td>\n",
       "      <td>78.8600</td>\n",
       "      <td>0.4270</td>\n",
       "      <td>33996.6000</td>\n",
       "      <td>150.2000</td>\n",
       "      <td>8.7800</td>\n",
       "      <td>8.9450</td>\n",
       "      <td>8.7700</td>\n",
       "      <td>8.9300</td>\n",
       "      <td>7.8000</td>\n",
       "      <td>482875.0000</td>\n",
       "      <td>YES</td>\n",
       "      <td>132.2400</td>\n",
       "      <td>263.2960</td>\n",
       "      <td>Action</td>\n",
       "      <td>20.0000</td>\n",
       "      <td>PG</td>\n",
       "      <td>600.0000</td>\n",
       "      <td>1.0000</td>\n",
       "    </tr>\n",
       "    <tr>\n",
       "      <td>503</td>\n",
       "      <td>47800.0000</td>\n",
       "      <td>21.2152</td>\n",
       "      <td>78.8600</td>\n",
       "      <td>0.4270</td>\n",
       "      <td>38751.6800</td>\n",
       "      <td>164.5000</td>\n",
       "      <td>8.8300</td>\n",
       "      <td>8.9700</td>\n",
       "      <td>8.8550</td>\n",
       "      <td>9.0100</td>\n",
       "      <td>7.8000</td>\n",
       "      <td>532239.0000</td>\n",
       "      <td>NO</td>\n",
       "      <td>109.5600</td>\n",
       "      <td>243.8240</td>\n",
       "      <td>Comedy</td>\n",
       "      <td>31.0000</td>\n",
       "      <td>PG</td>\n",
       "      <td>576.0000</td>\n",
       "      <td>1.0000</td>\n",
       "    </tr>\n",
       "    <tr>\n",
       "      <td>504</td>\n",
       "      <td>44000.0000</td>\n",
       "      <td>22.1918</td>\n",
       "      <td>78.8600</td>\n",
       "      <td>0.4270</td>\n",
       "      <td>37740.6700</td>\n",
       "      <td>162.8000</td>\n",
       "      <td>8.7300</td>\n",
       "      <td>8.8450</td>\n",
       "      <td>8.8000</td>\n",
       "      <td>8.8450</td>\n",
       "      <td>6.8000</td>\n",
       "      <td>496077.0000</td>\n",
       "      <td>YES</td>\n",
       "      <td>158.8000</td>\n",
       "      <td>303.5200</td>\n",
       "      <td>Comedy</td>\n",
       "      <td>47.0000</td>\n",
       "      <td>PG</td>\n",
       "      <td>607.0000</td>\n",
       "      <td>1.0000</td>\n",
       "    </tr>\n",
       "    <tr>\n",
       "      <td>505</td>\n",
       "      <td>38000.0000</td>\n",
       "      <td>20.9482</td>\n",
       "      <td>78.8600</td>\n",
       "      <td>0.4270</td>\n",
       "      <td>33496.6500</td>\n",
       "      <td>154.3000</td>\n",
       "      <td>8.6400</td>\n",
       "      <td>8.8800</td>\n",
       "      <td>8.6800</td>\n",
       "      <td>8.7900</td>\n",
       "      <td>6.8000</td>\n",
       "      <td>518438.0000</td>\n",
       "      <td>YES</td>\n",
       "      <td>205.6000</td>\n",
       "      <td>203.0400</td>\n",
       "      <td>Comedy</td>\n",
       "      <td>45.0000</td>\n",
       "      <td>PG</td>\n",
       "      <td>604.0000</td>\n",
       "      <td>1.0000</td>\n",
       "    </tr>\n",
       "  </tbody>\n",
       "</table>\n",
       "<p>506 rows × 20 columns</p>\n",
       "</div>"
      ],
      "text/plain": [
       "     Collection  Marketing expense  Production expense  Multiplex coverage  \\\n",
       "0    48000.0000            20.1264             59.6200              0.4620   \n",
       "1    43200.0000            20.5462             69.1400              0.5310   \n",
       "2      923.9712           923.9712            923.9712            923.9712   \n",
       "3    66800.0000            20.6474             59.3600              0.5420   \n",
       "4    72400.0000            21.3810             59.3600              0.5420   \n",
       "..          ...                ...                 ...                 ...   \n",
       "501  44800.0000            21.2526             78.8600              0.4270   \n",
       "502  41200.0000            20.9054             78.8600              0.4270   \n",
       "503  47800.0000            21.2152             78.8600              0.4270   \n",
       "504  44000.0000            22.1918             78.8600              0.4270   \n",
       "505  38000.0000            20.9482             78.8600              0.4270   \n",
       "\n",
       "         Budget  Movie_length  actorrating  Lead_Actress_rating  \\\n",
       "0    36524.1250      138.7000       7.8250               8.0950   \n",
       "1    35668.6550      152.4000       7.5050               7.6500   \n",
       "2      923.9712      923.9712     923.9712             923.9712   \n",
       "3    38873.8900      119.3000       6.8950               7.0350   \n",
       "4    39701.5850      127.7000       6.9200               7.0700   \n",
       "..          ...           ...          ...                  ...   \n",
       "501  36624.1150      142.6000       8.6800               8.7750   \n",
       "502  33996.6000      150.2000       8.7800               8.9450   \n",
       "503  38751.6800      164.5000       8.8300               8.9700   \n",
       "504  37740.6700      162.8000       8.7300               8.8450   \n",
       "505  33496.6500      154.3000       8.6400               8.8800   \n",
       "\n",
       "     Director_rating  Producer_rating  Critic_rating  Trailer_views  \\\n",
       "0             7.9100           7.9950         7.9400    527367.0000   \n",
       "1             7.4400           7.4700         7.4400    494055.0000   \n",
       "2           923.9712         923.9712       923.9712       923.9712   \n",
       "3             6.9200           7.0200         8.2600    516279.0000   \n",
       "4             6.8150           7.0700         8.2600    531448.0000   \n",
       "..               ...              ...            ...            ...   \n",
       "501           8.6200           8.9700         6.8000    492480.0000   \n",
       "502           8.7700           8.9300         7.8000    482875.0000   \n",
       "503           8.8550           9.0100         7.8000    532239.0000   \n",
       "504           8.8000           8.8450         6.8000    496077.0000   \n",
       "505           8.6800           8.7900         6.8000    518438.0000   \n",
       "\n",
       "    3D_available  Time_taken  Twitter_hastags     Genre  Avg_age_actors  \\\n",
       "0            YES    109.6000         223.8400  Thriller         23.0000   \n",
       "1             NO    146.6400         243.4560     Drama         42.0000   \n",
       "2        923.971    923.9712         923.9712   923.971        923.9712   \n",
       "3            YES    185.3600         225.3440     Drama         45.0000   \n",
       "4             NO    176.4800         225.7920     Drama         55.0000   \n",
       "..           ...         ...              ...       ...             ...   \n",
       "501           NO    186.9600         243.5840    Action         27.0000   \n",
       "502          YES    132.2400         263.2960    Action         20.0000   \n",
       "503           NO    109.5600         243.8240    Comedy         31.0000   \n",
       "504          YES    158.8000         303.5200    Comedy         47.0000   \n",
       "505          YES    205.6000         203.0400    Comedy         45.0000   \n",
       "\n",
       "    MPAA_film_rating  Num_multiplex  Start_Tech_Oscar  \n",
       "0                 PG       494.0000            0.0000  \n",
       "1                 PG       462.0000            1.0000  \n",
       "2            923.971       923.9712          923.9712  \n",
       "3                 PG       472.0000            0.0000  \n",
       "4                 PG       395.0000            0.0000  \n",
       "..               ...            ...               ...  \n",
       "501               PG       561.0000            1.0000  \n",
       "502               PG       600.0000            1.0000  \n",
       "503               PG       576.0000            1.0000  \n",
       "504               PG       607.0000            1.0000  \n",
       "505               PG       604.0000            1.0000  \n",
       "\n",
       "[506 rows x 20 columns]"
      ]
     },
     "execution_count": 25,
     "metadata": {},
     "output_type": "execute_result"
    }
   ],
   "source": [
    "# here, I have just renamed one of the variable because the code didn't want to run using that name ( cause it contains spaces maybe)\n",
    "df.rename(columns={\"Lead_ Actor_Rating\": \"actorrating\"}, inplace=True)\n",
    "df"
   ]
  },
  {
   "cell_type": "code",
   "execution_count": 26,
   "metadata": {},
   "outputs": [],
   "source": [
    "df['Average_rating']= (df.actorrating + df.Lead_Actress_rating + df.Director_rating + df.Producer_rating + df.Critic_rating)/5"
   ]
  },
  {
   "cell_type": "markdown",
   "metadata": {},
   "source": [
    "### Then we delete these variables after using them to calculate the average rating "
   ]
  },
  {
   "cell_type": "code",
   "execution_count": 27,
   "metadata": {},
   "outputs": [],
   "source": [
    "\n",
    "del df['actorrating'] \n",
    "del df['Director_rating'] \n",
    "del df['Lead_Actress_rating'] \n",
    "del df['Producer_rating'] \n",
    "del df['Critic_rating'] "
   ]
  },
  {
   "cell_type": "markdown",
   "metadata": {},
   "source": [
    "### Now, we do transform categorical variables into dummy variables ( the number of dummy variables we need is the number of options per category - 1, so we delete extra ones) "
   ]
  },
  {
   "cell_type": "code",
   "execution_count": 28,
   "metadata": {},
   "outputs": [
    {
     "data": {
      "text/html": [
       "<div>\n",
       "<style scoped>\n",
       "    .dataframe tbody tr th:only-of-type {\n",
       "        vertical-align: middle;\n",
       "    }\n",
       "\n",
       "    .dataframe tbody tr th {\n",
       "        vertical-align: top;\n",
       "    }\n",
       "\n",
       "    .dataframe thead th {\n",
       "        text-align: right;\n",
       "    }\n",
       "</style>\n",
       "<table border=\"1\" class=\"dataframe\">\n",
       "  <thead>\n",
       "    <tr style=\"text-align: right;\">\n",
       "      <th></th>\n",
       "      <th>Collection</th>\n",
       "      <th>Marketing expense</th>\n",
       "      <th>Production expense</th>\n",
       "      <th>Multiplex coverage</th>\n",
       "      <th>Budget</th>\n",
       "      <th>Movie_length</th>\n",
       "      <th>Trailer_views</th>\n",
       "      <th>Time_taken</th>\n",
       "      <th>Twitter_hastags</th>\n",
       "      <th>Avg_age_actors</th>\n",
       "      <th>...</th>\n",
       "      <th>3D_available_923.9712000000001</th>\n",
       "      <th>3D_available_NO</th>\n",
       "      <th>3D_available_YES</th>\n",
       "      <th>Genre_923.9712000000001</th>\n",
       "      <th>Genre_Action</th>\n",
       "      <th>Genre_Comedy</th>\n",
       "      <th>Genre_Drama</th>\n",
       "      <th>Genre_Thriller</th>\n",
       "      <th>MPAA_film_rating_923.9712000000001</th>\n",
       "      <th>MPAA_film_rating_PG</th>\n",
       "    </tr>\n",
       "  </thead>\n",
       "  <tbody>\n",
       "    <tr>\n",
       "      <td>0</td>\n",
       "      <td>48000.0000</td>\n",
       "      <td>20.1264</td>\n",
       "      <td>59.6200</td>\n",
       "      <td>0.4620</td>\n",
       "      <td>36524.1250</td>\n",
       "      <td>138.7000</td>\n",
       "      <td>527367.0000</td>\n",
       "      <td>109.6000</td>\n",
       "      <td>223.8400</td>\n",
       "      <td>23.0000</td>\n",
       "      <td>...</td>\n",
       "      <td>0</td>\n",
       "      <td>0</td>\n",
       "      <td>1</td>\n",
       "      <td>0</td>\n",
       "      <td>0</td>\n",
       "      <td>0</td>\n",
       "      <td>0</td>\n",
       "      <td>1</td>\n",
       "      <td>0</td>\n",
       "      <td>1</td>\n",
       "    </tr>\n",
       "    <tr>\n",
       "      <td>1</td>\n",
       "      <td>43200.0000</td>\n",
       "      <td>20.5462</td>\n",
       "      <td>69.1400</td>\n",
       "      <td>0.5310</td>\n",
       "      <td>35668.6550</td>\n",
       "      <td>152.4000</td>\n",
       "      <td>494055.0000</td>\n",
       "      <td>146.6400</td>\n",
       "      <td>243.4560</td>\n",
       "      <td>42.0000</td>\n",
       "      <td>...</td>\n",
       "      <td>0</td>\n",
       "      <td>1</td>\n",
       "      <td>0</td>\n",
       "      <td>0</td>\n",
       "      <td>0</td>\n",
       "      <td>0</td>\n",
       "      <td>1</td>\n",
       "      <td>0</td>\n",
       "      <td>0</td>\n",
       "      <td>1</td>\n",
       "    </tr>\n",
       "    <tr>\n",
       "      <td>2</td>\n",
       "      <td>923.9712</td>\n",
       "      <td>923.9712</td>\n",
       "      <td>923.9712</td>\n",
       "      <td>923.9712</td>\n",
       "      <td>923.9712</td>\n",
       "      <td>923.9712</td>\n",
       "      <td>923.9712</td>\n",
       "      <td>923.9712</td>\n",
       "      <td>923.9712</td>\n",
       "      <td>923.9712</td>\n",
       "      <td>...</td>\n",
       "      <td>1</td>\n",
       "      <td>0</td>\n",
       "      <td>0</td>\n",
       "      <td>1</td>\n",
       "      <td>0</td>\n",
       "      <td>0</td>\n",
       "      <td>0</td>\n",
       "      <td>0</td>\n",
       "      <td>1</td>\n",
       "      <td>0</td>\n",
       "    </tr>\n",
       "    <tr>\n",
       "      <td>3</td>\n",
       "      <td>66800.0000</td>\n",
       "      <td>20.6474</td>\n",
       "      <td>59.3600</td>\n",
       "      <td>0.5420</td>\n",
       "      <td>38873.8900</td>\n",
       "      <td>119.3000</td>\n",
       "      <td>516279.0000</td>\n",
       "      <td>185.3600</td>\n",
       "      <td>225.3440</td>\n",
       "      <td>45.0000</td>\n",
       "      <td>...</td>\n",
       "      <td>0</td>\n",
       "      <td>0</td>\n",
       "      <td>1</td>\n",
       "      <td>0</td>\n",
       "      <td>0</td>\n",
       "      <td>0</td>\n",
       "      <td>1</td>\n",
       "      <td>0</td>\n",
       "      <td>0</td>\n",
       "      <td>1</td>\n",
       "    </tr>\n",
       "    <tr>\n",
       "      <td>4</td>\n",
       "      <td>72400.0000</td>\n",
       "      <td>21.3810</td>\n",
       "      <td>59.3600</td>\n",
       "      <td>0.5420</td>\n",
       "      <td>39701.5850</td>\n",
       "      <td>127.7000</td>\n",
       "      <td>531448.0000</td>\n",
       "      <td>176.4800</td>\n",
       "      <td>225.7920</td>\n",
       "      <td>55.0000</td>\n",
       "      <td>...</td>\n",
       "      <td>0</td>\n",
       "      <td>1</td>\n",
       "      <td>0</td>\n",
       "      <td>0</td>\n",
       "      <td>0</td>\n",
       "      <td>0</td>\n",
       "      <td>1</td>\n",
       "      <td>0</td>\n",
       "      <td>0</td>\n",
       "      <td>1</td>\n",
       "    </tr>\n",
       "  </tbody>\n",
       "</table>\n",
       "<p>5 rows × 23 columns</p>\n",
       "</div>"
      ],
      "text/plain": [
       "   Collection  Marketing expense  Production expense  Multiplex coverage  \\\n",
       "0  48000.0000            20.1264             59.6200              0.4620   \n",
       "1  43200.0000            20.5462             69.1400              0.5310   \n",
       "2    923.9712           923.9712            923.9712            923.9712   \n",
       "3  66800.0000            20.6474             59.3600              0.5420   \n",
       "4  72400.0000            21.3810             59.3600              0.5420   \n",
       "\n",
       "       Budget  Movie_length  Trailer_views  Time_taken  Twitter_hastags  \\\n",
       "0  36524.1250      138.7000    527367.0000    109.6000         223.8400   \n",
       "1  35668.6550      152.4000    494055.0000    146.6400         243.4560   \n",
       "2    923.9712      923.9712       923.9712    923.9712         923.9712   \n",
       "3  38873.8900      119.3000    516279.0000    185.3600         225.3440   \n",
       "4  39701.5850      127.7000    531448.0000    176.4800         225.7920   \n",
       "\n",
       "   Avg_age_actors  ...  3D_available_923.9712000000001  3D_available_NO  \\\n",
       "0         23.0000  ...                               0                0   \n",
       "1         42.0000  ...                               0                1   \n",
       "2        923.9712  ...                               1                0   \n",
       "3         45.0000  ...                               0                0   \n",
       "4         55.0000  ...                               0                1   \n",
       "\n",
       "   3D_available_YES  Genre_923.9712000000001  Genre_Action  Genre_Comedy  \\\n",
       "0                 1                        0             0             0   \n",
       "1                 0                        0             0             0   \n",
       "2                 0                        1             0             0   \n",
       "3                 1                        0             0             0   \n",
       "4                 0                        0             0             0   \n",
       "\n",
       "   Genre_Drama  Genre_Thriller  MPAA_film_rating_923.9712000000001  \\\n",
       "0            0               1                                   0   \n",
       "1            1               0                                   0   \n",
       "2            0               0                                   1   \n",
       "3            1               0                                   0   \n",
       "4            1               0                                   0   \n",
       "\n",
       "   MPAA_film_rating_PG  \n",
       "0                    1  \n",
       "1                    1  \n",
       "2                    0  \n",
       "3                    1  \n",
       "4                    1  \n",
       "\n",
       "[5 rows x 23 columns]"
      ]
     },
     "execution_count": 28,
     "metadata": {},
     "output_type": "execute_result"
    }
   ],
   "source": [
    "df=pd.get_dummies(df) \n",
    "df.head()"
   ]
  },
  {
   "cell_type": "code",
   "execution_count": 29,
   "metadata": {},
   "outputs": [],
   "source": [
    "del df['Genre_923.9712000000001']  \n",
    "del df['MPAA_film_rating_923.9712000000001'] \n",
    "del df['3D_available_923.9712000000001'] \n",
    "del df['3D_available_NO'] \n",
    "del df['Genre_Action']"
   ]
  },
  {
   "cell_type": "code",
   "execution_count": 30,
   "metadata": {
    "scrolled": true
   },
   "outputs": [
    {
     "data": {
      "text/html": [
       "<div>\n",
       "<style scoped>\n",
       "    .dataframe tbody tr th:only-of-type {\n",
       "        vertical-align: middle;\n",
       "    }\n",
       "\n",
       "    .dataframe tbody tr th {\n",
       "        vertical-align: top;\n",
       "    }\n",
       "\n",
       "    .dataframe thead th {\n",
       "        text-align: right;\n",
       "    }\n",
       "</style>\n",
       "<table border=\"1\" class=\"dataframe\">\n",
       "  <thead>\n",
       "    <tr style=\"text-align: right;\">\n",
       "      <th></th>\n",
       "      <th>Collection</th>\n",
       "      <th>Marketing expense</th>\n",
       "      <th>Production expense</th>\n",
       "      <th>Multiplex coverage</th>\n",
       "      <th>Budget</th>\n",
       "      <th>Movie_length</th>\n",
       "      <th>Trailer_views</th>\n",
       "      <th>Time_taken</th>\n",
       "      <th>Twitter_hastags</th>\n",
       "      <th>Avg_age_actors</th>\n",
       "      <th>Num_multiplex</th>\n",
       "      <th>Start_Tech_Oscar</th>\n",
       "      <th>Average_rating</th>\n",
       "      <th>3D_available_YES</th>\n",
       "      <th>Genre_Comedy</th>\n",
       "      <th>Genre_Drama</th>\n",
       "      <th>Genre_Thriller</th>\n",
       "      <th>MPAA_film_rating_PG</th>\n",
       "    </tr>\n",
       "  </thead>\n",
       "  <tbody>\n",
       "    <tr>\n",
       "      <td>0</td>\n",
       "      <td>48000.0000</td>\n",
       "      <td>20.1264</td>\n",
       "      <td>59.6200</td>\n",
       "      <td>0.4620</td>\n",
       "      <td>36524.1250</td>\n",
       "      <td>138.7000</td>\n",
       "      <td>527367.0000</td>\n",
       "      <td>109.6000</td>\n",
       "      <td>223.8400</td>\n",
       "      <td>23.0000</td>\n",
       "      <td>494.0000</td>\n",
       "      <td>0.0000</td>\n",
       "      <td>7.9530</td>\n",
       "      <td>1</td>\n",
       "      <td>0</td>\n",
       "      <td>0</td>\n",
       "      <td>1</td>\n",
       "      <td>1</td>\n",
       "    </tr>\n",
       "    <tr>\n",
       "      <td>1</td>\n",
       "      <td>43200.0000</td>\n",
       "      <td>20.5462</td>\n",
       "      <td>69.1400</td>\n",
       "      <td>0.5310</td>\n",
       "      <td>35668.6550</td>\n",
       "      <td>152.4000</td>\n",
       "      <td>494055.0000</td>\n",
       "      <td>146.6400</td>\n",
       "      <td>243.4560</td>\n",
       "      <td>42.0000</td>\n",
       "      <td>462.0000</td>\n",
       "      <td>1.0000</td>\n",
       "      <td>7.5010</td>\n",
       "      <td>0</td>\n",
       "      <td>0</td>\n",
       "      <td>1</td>\n",
       "      <td>0</td>\n",
       "      <td>1</td>\n",
       "    </tr>\n",
       "    <tr>\n",
       "      <td>2</td>\n",
       "      <td>923.9712</td>\n",
       "      <td>923.9712</td>\n",
       "      <td>923.9712</td>\n",
       "      <td>923.9712</td>\n",
       "      <td>923.9712</td>\n",
       "      <td>923.9712</td>\n",
       "      <td>923.9712</td>\n",
       "      <td>923.9712</td>\n",
       "      <td>923.9712</td>\n",
       "      <td>923.9712</td>\n",
       "      <td>923.9712</td>\n",
       "      <td>923.9712</td>\n",
       "      <td>923.9712</td>\n",
       "      <td>0</td>\n",
       "      <td>0</td>\n",
       "      <td>0</td>\n",
       "      <td>0</td>\n",
       "      <td>0</td>\n",
       "    </tr>\n",
       "    <tr>\n",
       "      <td>3</td>\n",
       "      <td>66800.0000</td>\n",
       "      <td>20.6474</td>\n",
       "      <td>59.3600</td>\n",
       "      <td>0.5420</td>\n",
       "      <td>38873.8900</td>\n",
       "      <td>119.3000</td>\n",
       "      <td>516279.0000</td>\n",
       "      <td>185.3600</td>\n",
       "      <td>225.3440</td>\n",
       "      <td>45.0000</td>\n",
       "      <td>472.0000</td>\n",
       "      <td>0.0000</td>\n",
       "      <td>7.2260</td>\n",
       "      <td>1</td>\n",
       "      <td>0</td>\n",
       "      <td>1</td>\n",
       "      <td>0</td>\n",
       "      <td>1</td>\n",
       "    </tr>\n",
       "    <tr>\n",
       "      <td>4</td>\n",
       "      <td>72400.0000</td>\n",
       "      <td>21.3810</td>\n",
       "      <td>59.3600</td>\n",
       "      <td>0.5420</td>\n",
       "      <td>39701.5850</td>\n",
       "      <td>127.7000</td>\n",
       "      <td>531448.0000</td>\n",
       "      <td>176.4800</td>\n",
       "      <td>225.7920</td>\n",
       "      <td>55.0000</td>\n",
       "      <td>395.0000</td>\n",
       "      <td>0.0000</td>\n",
       "      <td>7.2270</td>\n",
       "      <td>0</td>\n",
       "      <td>0</td>\n",
       "      <td>1</td>\n",
       "      <td>0</td>\n",
       "      <td>1</td>\n",
       "    </tr>\n",
       "  </tbody>\n",
       "</table>\n",
       "</div>"
      ],
      "text/plain": [
       "   Collection  Marketing expense  Production expense  Multiplex coverage  \\\n",
       "0  48000.0000            20.1264             59.6200              0.4620   \n",
       "1  43200.0000            20.5462             69.1400              0.5310   \n",
       "2    923.9712           923.9712            923.9712            923.9712   \n",
       "3  66800.0000            20.6474             59.3600              0.5420   \n",
       "4  72400.0000            21.3810             59.3600              0.5420   \n",
       "\n",
       "       Budget  Movie_length  Trailer_views  Time_taken  Twitter_hastags  \\\n",
       "0  36524.1250      138.7000    527367.0000    109.6000         223.8400   \n",
       "1  35668.6550      152.4000    494055.0000    146.6400         243.4560   \n",
       "2    923.9712      923.9712       923.9712    923.9712         923.9712   \n",
       "3  38873.8900      119.3000    516279.0000    185.3600         225.3440   \n",
       "4  39701.5850      127.7000    531448.0000    176.4800         225.7920   \n",
       "\n",
       "   Avg_age_actors  Num_multiplex  Start_Tech_Oscar  Average_rating  \\\n",
       "0         23.0000       494.0000            0.0000          7.9530   \n",
       "1         42.0000       462.0000            1.0000          7.5010   \n",
       "2        923.9712       923.9712          923.9712        923.9712   \n",
       "3         45.0000       472.0000            0.0000          7.2260   \n",
       "4         55.0000       395.0000            0.0000          7.2270   \n",
       "\n",
       "   3D_available_YES  Genre_Comedy  Genre_Drama  Genre_Thriller  \\\n",
       "0                 1             0            0               1   \n",
       "1                 0             0            1               0   \n",
       "2                 0             0            0               0   \n",
       "3                 1             0            1               0   \n",
       "4                 0             0            1               0   \n",
       "\n",
       "   MPAA_film_rating_PG  \n",
       "0                    1  \n",
       "1                    1  \n",
       "2                    0  \n",
       "3                    1  \n",
       "4                    1  "
      ]
     },
     "execution_count": 30,
     "metadata": {},
     "output_type": "execute_result"
    }
   ],
   "source": [
    "df.head()"
   ]
  },
  {
   "cell_type": "code",
   "execution_count": 31,
   "metadata": {},
   "outputs": [
    {
     "data": {
      "text/html": [
       "<div>\n",
       "<style scoped>\n",
       "    .dataframe tbody tr th:only-of-type {\n",
       "        vertical-align: middle;\n",
       "    }\n",
       "\n",
       "    .dataframe tbody tr th {\n",
       "        vertical-align: top;\n",
       "    }\n",
       "\n",
       "    .dataframe thead th {\n",
       "        text-align: right;\n",
       "    }\n",
       "</style>\n",
       "<table border=\"1\" class=\"dataframe\">\n",
       "  <thead>\n",
       "    <tr style=\"text-align: right;\">\n",
       "      <th></th>\n",
       "      <th>Collection</th>\n",
       "      <th>Marketing expense</th>\n",
       "      <th>Production expense</th>\n",
       "      <th>Multiplex coverage</th>\n",
       "      <th>Budget</th>\n",
       "      <th>Movie_length</th>\n",
       "      <th>Trailer_views</th>\n",
       "      <th>Time_taken</th>\n",
       "      <th>Twitter_hastags</th>\n",
       "      <th>Avg_age_actors</th>\n",
       "      <th>Num_multiplex</th>\n",
       "      <th>Start_Tech_Oscar</th>\n",
       "      <th>Average_rating</th>\n",
       "      <th>3D_available_YES</th>\n",
       "      <th>Genre_Comedy</th>\n",
       "      <th>Genre_Drama</th>\n",
       "      <th>Genre_Thriller</th>\n",
       "      <th>MPAA_film_rating_PG</th>\n",
       "    </tr>\n",
       "  </thead>\n",
       "  <tbody>\n",
       "    <tr>\n",
       "      <td>0</td>\n",
       "      <td>48000.0</td>\n",
       "      <td>20.1264</td>\n",
       "      <td>59.62</td>\n",
       "      <td>0.462</td>\n",
       "      <td>36524.125</td>\n",
       "      <td>138.7</td>\n",
       "      <td>527367.0</td>\n",
       "      <td>109.60</td>\n",
       "      <td>223.840</td>\n",
       "      <td>23.0</td>\n",
       "      <td>494.0</td>\n",
       "      <td>1</td>\n",
       "      <td>7.953</td>\n",
       "      <td>1</td>\n",
       "      <td>0</td>\n",
       "      <td>0</td>\n",
       "      <td>1</td>\n",
       "      <td>1</td>\n",
       "    </tr>\n",
       "    <tr>\n",
       "      <td>1</td>\n",
       "      <td>43200.0</td>\n",
       "      <td>20.5462</td>\n",
       "      <td>69.14</td>\n",
       "      <td>0.531</td>\n",
       "      <td>35668.655</td>\n",
       "      <td>152.4</td>\n",
       "      <td>494055.0</td>\n",
       "      <td>146.64</td>\n",
       "      <td>243.456</td>\n",
       "      <td>42.0</td>\n",
       "      <td>462.0</td>\n",
       "      <td>0</td>\n",
       "      <td>7.501</td>\n",
       "      <td>0</td>\n",
       "      <td>0</td>\n",
       "      <td>1</td>\n",
       "      <td>0</td>\n",
       "      <td>1</td>\n",
       "    </tr>\n",
       "    <tr>\n",
       "      <td>3</td>\n",
       "      <td>66800.0</td>\n",
       "      <td>20.6474</td>\n",
       "      <td>59.36</td>\n",
       "      <td>0.542</td>\n",
       "      <td>38873.890</td>\n",
       "      <td>119.3</td>\n",
       "      <td>516279.0</td>\n",
       "      <td>185.36</td>\n",
       "      <td>225.344</td>\n",
       "      <td>45.0</td>\n",
       "      <td>472.0</td>\n",
       "      <td>1</td>\n",
       "      <td>7.226</td>\n",
       "      <td>1</td>\n",
       "      <td>0</td>\n",
       "      <td>1</td>\n",
       "      <td>0</td>\n",
       "      <td>1</td>\n",
       "    </tr>\n",
       "    <tr>\n",
       "      <td>4</td>\n",
       "      <td>72400.0</td>\n",
       "      <td>21.3810</td>\n",
       "      <td>59.36</td>\n",
       "      <td>0.542</td>\n",
       "      <td>39701.585</td>\n",
       "      <td>127.7</td>\n",
       "      <td>531448.0</td>\n",
       "      <td>176.48</td>\n",
       "      <td>225.792</td>\n",
       "      <td>55.0</td>\n",
       "      <td>395.0</td>\n",
       "      <td>1</td>\n",
       "      <td>7.227</td>\n",
       "      <td>0</td>\n",
       "      <td>0</td>\n",
       "      <td>1</td>\n",
       "      <td>0</td>\n",
       "      <td>1</td>\n",
       "    </tr>\n",
       "    <tr>\n",
       "      <td>5</td>\n",
       "      <td>57400.0</td>\n",
       "      <td>20.5970</td>\n",
       "      <td>59.36</td>\n",
       "      <td>0.542</td>\n",
       "      <td>35718.650</td>\n",
       "      <td>132.2</td>\n",
       "      <td>498425.0</td>\n",
       "      <td>143.48</td>\n",
       "      <td>284.592</td>\n",
       "      <td>53.0</td>\n",
       "      <td>460.0</td>\n",
       "      <td>0</td>\n",
       "      <td>7.028</td>\n",
       "      <td>1</td>\n",
       "      <td>1</td>\n",
       "      <td>0</td>\n",
       "      <td>0</td>\n",
       "      <td>1</td>\n",
       "    </tr>\n",
       "    <tr>\n",
       "      <td>...</td>\n",
       "      <td>...</td>\n",
       "      <td>...</td>\n",
       "      <td>...</td>\n",
       "      <td>...</td>\n",
       "      <td>...</td>\n",
       "      <td>...</td>\n",
       "      <td>...</td>\n",
       "      <td>...</td>\n",
       "      <td>...</td>\n",
       "      <td>...</td>\n",
       "      <td>...</td>\n",
       "      <td>...</td>\n",
       "      <td>...</td>\n",
       "      <td>...</td>\n",
       "      <td>...</td>\n",
       "      <td>...</td>\n",
       "      <td>...</td>\n",
       "      <td>...</td>\n",
       "    </tr>\n",
       "    <tr>\n",
       "      <td>501</td>\n",
       "      <td>44800.0</td>\n",
       "      <td>21.2526</td>\n",
       "      <td>78.86</td>\n",
       "      <td>0.427</td>\n",
       "      <td>36624.115</td>\n",
       "      <td>142.6</td>\n",
       "      <td>492480.0</td>\n",
       "      <td>186.96</td>\n",
       "      <td>243.584</td>\n",
       "      <td>27.0</td>\n",
       "      <td>561.0</td>\n",
       "      <td>0</td>\n",
       "      <td>8.369</td>\n",
       "      <td>0</td>\n",
       "      <td>0</td>\n",
       "      <td>0</td>\n",
       "      <td>0</td>\n",
       "      <td>1</td>\n",
       "    </tr>\n",
       "    <tr>\n",
       "      <td>502</td>\n",
       "      <td>41200.0</td>\n",
       "      <td>20.9054</td>\n",
       "      <td>78.86</td>\n",
       "      <td>0.427</td>\n",
       "      <td>33996.600</td>\n",
       "      <td>150.2</td>\n",
       "      <td>482875.0</td>\n",
       "      <td>132.24</td>\n",
       "      <td>263.296</td>\n",
       "      <td>20.0</td>\n",
       "      <td>600.0</td>\n",
       "      <td>0</td>\n",
       "      <td>8.645</td>\n",
       "      <td>1</td>\n",
       "      <td>0</td>\n",
       "      <td>0</td>\n",
       "      <td>0</td>\n",
       "      <td>1</td>\n",
       "    </tr>\n",
       "    <tr>\n",
       "      <td>503</td>\n",
       "      <td>47800.0</td>\n",
       "      <td>21.2152</td>\n",
       "      <td>78.86</td>\n",
       "      <td>0.427</td>\n",
       "      <td>38751.680</td>\n",
       "      <td>164.5</td>\n",
       "      <td>532239.0</td>\n",
       "      <td>109.56</td>\n",
       "      <td>243.824</td>\n",
       "      <td>31.0</td>\n",
       "      <td>576.0</td>\n",
       "      <td>0</td>\n",
       "      <td>8.693</td>\n",
       "      <td>0</td>\n",
       "      <td>1</td>\n",
       "      <td>0</td>\n",
       "      <td>0</td>\n",
       "      <td>1</td>\n",
       "    </tr>\n",
       "    <tr>\n",
       "      <td>504</td>\n",
       "      <td>44000.0</td>\n",
       "      <td>22.1918</td>\n",
       "      <td>78.86</td>\n",
       "      <td>0.427</td>\n",
       "      <td>37740.670</td>\n",
       "      <td>162.8</td>\n",
       "      <td>496077.0</td>\n",
       "      <td>158.80</td>\n",
       "      <td>303.520</td>\n",
       "      <td>47.0</td>\n",
       "      <td>607.0</td>\n",
       "      <td>0</td>\n",
       "      <td>8.404</td>\n",
       "      <td>1</td>\n",
       "      <td>1</td>\n",
       "      <td>0</td>\n",
       "      <td>0</td>\n",
       "      <td>1</td>\n",
       "    </tr>\n",
       "    <tr>\n",
       "      <td>505</td>\n",
       "      <td>38000.0</td>\n",
       "      <td>20.9482</td>\n",
       "      <td>78.86</td>\n",
       "      <td>0.427</td>\n",
       "      <td>33496.650</td>\n",
       "      <td>154.3</td>\n",
       "      <td>518438.0</td>\n",
       "      <td>205.60</td>\n",
       "      <td>203.040</td>\n",
       "      <td>45.0</td>\n",
       "      <td>604.0</td>\n",
       "      <td>0</td>\n",
       "      <td>8.358</td>\n",
       "      <td>1</td>\n",
       "      <td>1</td>\n",
       "      <td>0</td>\n",
       "      <td>0</td>\n",
       "      <td>1</td>\n",
       "    </tr>\n",
       "  </tbody>\n",
       "</table>\n",
       "<p>505 rows × 18 columns</p>\n",
       "</div>"
      ],
      "text/plain": [
       "     Collection  Marketing expense  Production expense  Multiplex coverage  \\\n",
       "0       48000.0            20.1264               59.62               0.462   \n",
       "1       43200.0            20.5462               69.14               0.531   \n",
       "3       66800.0            20.6474               59.36               0.542   \n",
       "4       72400.0            21.3810               59.36               0.542   \n",
       "5       57400.0            20.5970               59.36               0.542   \n",
       "..          ...                ...                 ...                 ...   \n",
       "501     44800.0            21.2526               78.86               0.427   \n",
       "502     41200.0            20.9054               78.86               0.427   \n",
       "503     47800.0            21.2152               78.86               0.427   \n",
       "504     44000.0            22.1918               78.86               0.427   \n",
       "505     38000.0            20.9482               78.86               0.427   \n",
       "\n",
       "        Budget  Movie_length  Trailer_views  Time_taken  Twitter_hastags  \\\n",
       "0    36524.125         138.7       527367.0      109.60          223.840   \n",
       "1    35668.655         152.4       494055.0      146.64          243.456   \n",
       "3    38873.890         119.3       516279.0      185.36          225.344   \n",
       "4    39701.585         127.7       531448.0      176.48          225.792   \n",
       "5    35718.650         132.2       498425.0      143.48          284.592   \n",
       "..         ...           ...            ...         ...              ...   \n",
       "501  36624.115         142.6       492480.0      186.96          243.584   \n",
       "502  33996.600         150.2       482875.0      132.24          263.296   \n",
       "503  38751.680         164.5       532239.0      109.56          243.824   \n",
       "504  37740.670         162.8       496077.0      158.80          303.520   \n",
       "505  33496.650         154.3       518438.0      205.60          203.040   \n",
       "\n",
       "     Avg_age_actors  Num_multiplex  Start_Tech_Oscar  Average_rating  \\\n",
       "0              23.0          494.0                 1           7.953   \n",
       "1              42.0          462.0                 0           7.501   \n",
       "3              45.0          472.0                 1           7.226   \n",
       "4              55.0          395.0                 1           7.227   \n",
       "5              53.0          460.0                 0           7.028   \n",
       "..              ...            ...               ...             ...   \n",
       "501            27.0          561.0                 0           8.369   \n",
       "502            20.0          600.0                 0           8.645   \n",
       "503            31.0          576.0                 0           8.693   \n",
       "504            47.0          607.0                 0           8.404   \n",
       "505            45.0          604.0                 0           8.358   \n",
       "\n",
       "     3D_available_YES  Genre_Comedy  Genre_Drama  Genre_Thriller  \\\n",
       "0                   1             0            0               1   \n",
       "1                   0             0            1               0   \n",
       "3                   1             0            1               0   \n",
       "4                   0             0            1               0   \n",
       "5                   1             1            0               0   \n",
       "..                ...           ...          ...             ...   \n",
       "501                 0             0            0               0   \n",
       "502                 1             0            0               0   \n",
       "503                 0             1            0               0   \n",
       "504                 1             1            0               0   \n",
       "505                 1             1            0               0   \n",
       "\n",
       "     MPAA_film_rating_PG  \n",
       "0                      1  \n",
       "1                      1  \n",
       "3                      1  \n",
       "4                      1  \n",
       "5                      1  \n",
       "..                   ...  \n",
       "501                    1  \n",
       "502                    1  \n",
       "503                    1  \n",
       "504                    1  \n",
       "505                    1  \n",
       "\n",
       "[505 rows x 18 columns]"
      ]
     },
     "execution_count": 31,
     "metadata": {},
     "output_type": "execute_result"
    }
   ],
   "source": [
    "df.drop(df.index[2], inplace= True)\n",
    "df['Start_Tech_Oscar'] = pd.get_dummies(df['Start_Tech_Oscar'])\n",
    "df"
   ]
  },
  {
   "cell_type": "markdown",
   "metadata": {},
   "source": [
    "### Logistic Regression: ( with a single predictor) "
   ]
  },
  {
   "cell_type": "code",
   "execution_count": 32,
   "metadata": {},
   "outputs": [],
   "source": [
    "X= df[['Budget']]\n",
    "y= df[['Start_Tech_Oscar']]"
   ]
  },
  {
   "cell_type": "markdown",
   "metadata": {},
   "source": [
    "#### 1st method: "
   ]
  },
  {
   "cell_type": "code",
   "execution_count": 33,
   "metadata": {},
   "outputs": [
    {
     "name": "stderr",
     "output_type": "stream",
     "text": [
      "C:\\Users\\amine\\Anaconda3\\lib\\site-packages\\sklearn\\utils\\validation.py:760: DataConversionWarning: A column-vector y was passed when a 1d array was expected. Please change the shape of y to (n_samples, ), for example using ravel().\n",
      "  y = column_or_1d(y, warn=True)\n"
     ]
    }
   ],
   "source": [
    "#fitting the model:\n",
    "clf= lr().fit(X,y)"
   ]
  },
  {
   "cell_type": "code",
   "execution_count": 34,
   "metadata": {},
   "outputs": [
    {
     "data": {
      "text/plain": [
       "array([[4.7661422e-06]])"
      ]
     },
     "execution_count": 34,
     "metadata": {},
     "output_type": "execute_result"
    }
   ],
   "source": [
    "clf.coef_"
   ]
  },
  {
   "cell_type": "code",
   "execution_count": 35,
   "metadata": {},
   "outputs": [
    {
     "data": {
      "text/plain": [
       "array([1.42473375e-10])"
      ]
     },
     "execution_count": 35,
     "metadata": {},
     "output_type": "execute_result"
    }
   ],
   "source": [
    "clf.intercept_"
   ]
  },
  {
   "cell_type": "markdown",
   "metadata": {},
   "source": [
    "#### 2nd method: "
   ]
  },
  {
   "cell_type": "code",
   "execution_count": 36,
   "metadata": {},
   "outputs": [
    {
     "name": "stderr",
     "output_type": "stream",
     "text": [
      "C:\\Users\\amine\\Anaconda3\\lib\\site-packages\\numpy\\core\\fromnumeric.py:2389: FutureWarning: Method .ptp is deprecated and will be removed in a future version. Use numpy.ptp instead.\n",
      "  return ptp(axis=axis, out=out, **kwargs)\n"
     ]
    },
    {
     "data": {
      "text/html": [
       "<div>\n",
       "<style scoped>\n",
       "    .dataframe tbody tr th:only-of-type {\n",
       "        vertical-align: middle;\n",
       "    }\n",
       "\n",
       "    .dataframe tbody tr th {\n",
       "        vertical-align: top;\n",
       "    }\n",
       "\n",
       "    .dataframe thead th {\n",
       "        text-align: right;\n",
       "    }\n",
       "</style>\n",
       "<table border=\"1\" class=\"dataframe\">\n",
       "  <thead>\n",
       "    <tr style=\"text-align: right;\">\n",
       "      <th></th>\n",
       "      <th>const</th>\n",
       "      <th>Budget</th>\n",
       "    </tr>\n",
       "  </thead>\n",
       "  <tbody>\n",
       "    <tr>\n",
       "      <td>0</td>\n",
       "      <td>1.0</td>\n",
       "      <td>36524.125</td>\n",
       "    </tr>\n",
       "    <tr>\n",
       "      <td>1</td>\n",
       "      <td>1.0</td>\n",
       "      <td>35668.655</td>\n",
       "    </tr>\n",
       "    <tr>\n",
       "      <td>3</td>\n",
       "      <td>1.0</td>\n",
       "      <td>38873.890</td>\n",
       "    </tr>\n",
       "    <tr>\n",
       "      <td>4</td>\n",
       "      <td>1.0</td>\n",
       "      <td>39701.585</td>\n",
       "    </tr>\n",
       "    <tr>\n",
       "      <td>5</td>\n",
       "      <td>1.0</td>\n",
       "      <td>35718.650</td>\n",
       "    </tr>\n",
       "  </tbody>\n",
       "</table>\n",
       "</div>"
      ],
      "text/plain": [
       "   const     Budget\n",
       "0    1.0  36524.125\n",
       "1    1.0  35668.655\n",
       "3    1.0  38873.890\n",
       "4    1.0  39701.585\n",
       "5    1.0  35718.650"
      ]
     },
     "execution_count": 36,
     "metadata": {},
     "output_type": "execute_result"
    }
   ],
   "source": [
    "X_const= sn.add_constant(X)\n",
    "X_const.head()"
   ]
  },
  {
   "cell_type": "code",
   "execution_count": 37,
   "metadata": {},
   "outputs": [
    {
     "name": "stdout",
     "output_type": "stream",
     "text": [
      "Optimization terminated successfully.\n",
      "         Current function value: 0.331729\n",
      "         Iterations 4\n"
     ]
    }
   ],
   "source": [
    "logistic = sm.Logit(y,X_const).fit()"
   ]
  },
  {
   "cell_type": "code",
   "execution_count": 38,
   "metadata": {},
   "outputs": [
    {
     "name": "stderr",
     "output_type": "stream",
     "text": [
      "C:\\Users\\amine\\Anaconda3\\lib\\site-packages\\statsmodels\\base\\model.py:492: HessianInversionWarning: Inverting hessian failed, no bse or cov_params available\n",
      "  'available', HessianInversionWarning)\n",
      "C:\\Users\\amine\\Anaconda3\\lib\\site-packages\\statsmodels\\base\\model.py:492: HessianInversionWarning: Inverting hessian failed, no bse or cov_params available\n",
      "  'available', HessianInversionWarning)\n",
      "C:\\Users\\amine\\Anaconda3\\lib\\site-packages\\statsmodels\\discrete\\discrete_model.py:3390: RuntimeWarning: divide by zero encountered in double_scalars\n",
      "  return 1 - self.llf/self.llnull\n"
     ]
    },
    {
     "data": {
      "text/html": [
       "<table class=\"simpletable\">\n",
       "<caption>Logit Regression Results</caption>\n",
       "<tr>\n",
       "  <th>Dep. Variable:</th>   <td>Start_Tech_Oscar</td> <th>  No. Observations:  </th>  <td>   505</td> \n",
       "</tr>\n",
       "<tr>\n",
       "  <th>Model:</th>                 <td>Logit</td>      <th>  Df Residuals:      </th>  <td>   503</td> \n",
       "</tr>\n",
       "<tr>\n",
       "  <th>Method:</th>                 <td>MLE</td>       <th>  Df Model:          </th>  <td>     1</td> \n",
       "</tr>\n",
       "<tr>\n",
       "  <th>Date:</th>            <td>Fri, 22 May 2020</td> <th>  Pseudo R-squ.:     </th>  <td>   inf</td> \n",
       "</tr>\n",
       "<tr>\n",
       "  <th>Time:</th>                <td>02:30:32</td>     <th>  Log-Likelihood:    </th> <td> -167.52</td>\n",
       "</tr>\n",
       "<tr>\n",
       "  <th>converged:</th>             <td>True</td>       <th>  LL-Null:           </th> <td>  0.0000</td>\n",
       "</tr>\n",
       "<tr>\n",
       "  <th>Covariance Type:</th>     <td>nonrobust</td>    <th>  LLR p-value:       </th>  <td> 1.000</td> \n",
       "</tr>\n",
       "</table>\n",
       "<table class=\"simpletable\">\n",
       "<tr>\n",
       "     <td></td>       <th>coef</th>     <th>std err</th>      <th>z</th>      <th>P>|z|</th>  <th>[0.025</th>    <th>0.975]</th>  \n",
       "</tr>\n",
       "<tr>\n",
       "  <th>const</th>  <td>    0.3309</td> <td>    0.751</td> <td>    0.441</td> <td> 0.659</td> <td>   -1.141</td> <td>    1.803</td>\n",
       "</tr>\n",
       "<tr>\n",
       "  <th>Budget</th> <td>-4.598e-06</td> <td> 2.14e-05</td> <td>   -0.215</td> <td> 0.830</td> <td>-4.65e-05</td> <td> 3.73e-05</td>\n",
       "</tr>\n",
       "</table>"
      ],
      "text/plain": [
       "<class 'statsmodels.iolib.summary.Summary'>\n",
       "\"\"\"\n",
       "                           Logit Regression Results                           \n",
       "==============================================================================\n",
       "Dep. Variable:       Start_Tech_Oscar   No. Observations:                  505\n",
       "Model:                          Logit   Df Residuals:                      503\n",
       "Method:                           MLE   Df Model:                            1\n",
       "Date:                Fri, 22 May 2020   Pseudo R-squ.:                     inf\n",
       "Time:                        02:30:32   Log-Likelihood:                -167.52\n",
       "converged:                       True   LL-Null:                        0.0000\n",
       "Covariance Type:            nonrobust   LLR p-value:                     1.000\n",
       "==============================================================================\n",
       "                 coef    std err          z      P>|z|      [0.025      0.975]\n",
       "------------------------------------------------------------------------------\n",
       "const          0.3309      0.751      0.441      0.659      -1.141       1.803\n",
       "Budget     -4.598e-06   2.14e-05     -0.215      0.830   -4.65e-05    3.73e-05\n",
       "==============================================================================\n",
       "\"\"\""
      ]
     },
     "execution_count": 38,
     "metadata": {},
     "output_type": "execute_result"
    }
   ],
   "source": [
    "logistic.summary()"
   ]
  },
  {
   "cell_type": "markdown",
   "metadata": {},
   "source": [
    "#### The intersection of the 'coeff' column with const and 'production expense' rows shows respectively beta0 and beta1 (intercept and coefficient) , the rest is statistics related to the trained model: P value, Z value ect.. "
   ]
  },
  {
   "cell_type": "markdown",
   "metadata": {},
   "source": [
    "### Logistic regression with Multiple predictor"
   ]
  },
  {
   "cell_type": "code",
   "execution_count": 39,
   "metadata": {},
   "outputs": [],
   "source": [
    "X= df.loc[:, df.columns !='Start_Tech_Oscar']\n",
    "y= df['Start_Tech_Oscar']"
   ]
  },
  {
   "cell_type": "code",
   "execution_count": 40,
   "metadata": {},
   "outputs": [
    {
     "name": "stderr",
     "output_type": "stream",
     "text": [
      "C:\\Users\\amine\\Anaconda3\\lib\\site-packages\\sklearn\\linear_model\\_logistic.py:940: ConvergenceWarning: lbfgs failed to converge (status=1):\n",
      "STOP: TOTAL NO. of ITERATIONS REACHED LIMIT.\n",
      "\n",
      "Increase the number of iterations (max_iter) or scale the data as shown in:\n",
      "    https://scikit-learn.org/stable/modules/preprocessing.html\n",
      "Please also refer to the documentation for alternative solver options:\n",
      "    https://scikit-learn.org/stable/modules/linear_model.html#logistic-regression\n",
      "  extra_warning_msg=_LOGISTIC_SOLVER_CONVERGENCE_MSG)\n"
     ]
    }
   ],
   "source": [
    "clf= lr().fit(X,y)"
   ]
  },
  {
   "cell_type": "code",
   "execution_count": 41,
   "metadata": {},
   "outputs": [
    {
     "data": {
      "text/plain": [
       "array([[ 5.57608585e-05,  4.67662789e-04, -2.41176211e-03,\n",
       "        -4.24818447e-03, -3.20113962e-05, -6.84542568e-04,\n",
       "        -6.37640164e-06, -4.07577205e-03,  5.58149573e-03,\n",
       "        -2.14919126e-03,  2.32632946e-03, -4.20490824e-03,\n",
       "         4.33522198e-05,  2.97383785e-05,  3.83233458e-05,\n",
       "        -5.24364608e-05,  2.81324953e-05]])"
      ]
     },
     "execution_count": 41,
     "metadata": {},
     "output_type": "execute_result"
    }
   ],
   "source": [
    "clf.coef_\n"
   ]
  },
  {
   "cell_type": "code",
   "execution_count": 42,
   "metadata": {},
   "outputs": [
    {
     "data": {
      "text/plain": [
       "array([2.35163995e-05])"
      ]
     },
     "execution_count": 42,
     "metadata": {},
     "output_type": "execute_result"
    }
   ],
   "source": [
    "clf.intercept_ "
   ]
  },
  {
   "cell_type": "code",
   "execution_count": 43,
   "metadata": {},
   "outputs": [
    {
     "name": "stderr",
     "output_type": "stream",
     "text": [
      "C:\\Users\\amine\\Anaconda3\\lib\\site-packages\\numpy\\core\\fromnumeric.py:2389: FutureWarning: Method .ptp is deprecated and will be removed in a future version. Use numpy.ptp instead.\n",
      "  return ptp(axis=axis, out=out, **kwargs)\n"
     ]
    },
    {
     "data": {
      "text/html": [
       "<div>\n",
       "<style scoped>\n",
       "    .dataframe tbody tr th:only-of-type {\n",
       "        vertical-align: middle;\n",
       "    }\n",
       "\n",
       "    .dataframe tbody tr th {\n",
       "        vertical-align: top;\n",
       "    }\n",
       "\n",
       "    .dataframe thead th {\n",
       "        text-align: right;\n",
       "    }\n",
       "</style>\n",
       "<table border=\"1\" class=\"dataframe\">\n",
       "  <thead>\n",
       "    <tr style=\"text-align: right;\">\n",
       "      <th></th>\n",
       "      <th>const</th>\n",
       "      <th>Collection</th>\n",
       "      <th>Marketing expense</th>\n",
       "      <th>Production expense</th>\n",
       "      <th>Multiplex coverage</th>\n",
       "      <th>Budget</th>\n",
       "      <th>Movie_length</th>\n",
       "      <th>Trailer_views</th>\n",
       "      <th>Time_taken</th>\n",
       "      <th>Twitter_hastags</th>\n",
       "      <th>Avg_age_actors</th>\n",
       "      <th>Num_multiplex</th>\n",
       "      <th>Average_rating</th>\n",
       "      <th>3D_available_YES</th>\n",
       "      <th>Genre_Comedy</th>\n",
       "      <th>Genre_Drama</th>\n",
       "      <th>Genre_Thriller</th>\n",
       "      <th>MPAA_film_rating_PG</th>\n",
       "    </tr>\n",
       "  </thead>\n",
       "  <tbody>\n",
       "    <tr>\n",
       "      <td>0</td>\n",
       "      <td>1.0</td>\n",
       "      <td>48000.0</td>\n",
       "      <td>20.1264</td>\n",
       "      <td>59.62</td>\n",
       "      <td>0.462</td>\n",
       "      <td>36524.125</td>\n",
       "      <td>138.7</td>\n",
       "      <td>527367.0</td>\n",
       "      <td>109.60</td>\n",
       "      <td>223.840</td>\n",
       "      <td>23.0</td>\n",
       "      <td>494.0</td>\n",
       "      <td>7.953</td>\n",
       "      <td>1</td>\n",
       "      <td>0</td>\n",
       "      <td>0</td>\n",
       "      <td>1</td>\n",
       "      <td>1</td>\n",
       "    </tr>\n",
       "    <tr>\n",
       "      <td>1</td>\n",
       "      <td>1.0</td>\n",
       "      <td>43200.0</td>\n",
       "      <td>20.5462</td>\n",
       "      <td>69.14</td>\n",
       "      <td>0.531</td>\n",
       "      <td>35668.655</td>\n",
       "      <td>152.4</td>\n",
       "      <td>494055.0</td>\n",
       "      <td>146.64</td>\n",
       "      <td>243.456</td>\n",
       "      <td>42.0</td>\n",
       "      <td>462.0</td>\n",
       "      <td>7.501</td>\n",
       "      <td>0</td>\n",
       "      <td>0</td>\n",
       "      <td>1</td>\n",
       "      <td>0</td>\n",
       "      <td>1</td>\n",
       "    </tr>\n",
       "    <tr>\n",
       "      <td>3</td>\n",
       "      <td>1.0</td>\n",
       "      <td>66800.0</td>\n",
       "      <td>20.6474</td>\n",
       "      <td>59.36</td>\n",
       "      <td>0.542</td>\n",
       "      <td>38873.890</td>\n",
       "      <td>119.3</td>\n",
       "      <td>516279.0</td>\n",
       "      <td>185.36</td>\n",
       "      <td>225.344</td>\n",
       "      <td>45.0</td>\n",
       "      <td>472.0</td>\n",
       "      <td>7.226</td>\n",
       "      <td>1</td>\n",
       "      <td>0</td>\n",
       "      <td>1</td>\n",
       "      <td>0</td>\n",
       "      <td>1</td>\n",
       "    </tr>\n",
       "    <tr>\n",
       "      <td>4</td>\n",
       "      <td>1.0</td>\n",
       "      <td>72400.0</td>\n",
       "      <td>21.3810</td>\n",
       "      <td>59.36</td>\n",
       "      <td>0.542</td>\n",
       "      <td>39701.585</td>\n",
       "      <td>127.7</td>\n",
       "      <td>531448.0</td>\n",
       "      <td>176.48</td>\n",
       "      <td>225.792</td>\n",
       "      <td>55.0</td>\n",
       "      <td>395.0</td>\n",
       "      <td>7.227</td>\n",
       "      <td>0</td>\n",
       "      <td>0</td>\n",
       "      <td>1</td>\n",
       "      <td>0</td>\n",
       "      <td>1</td>\n",
       "    </tr>\n",
       "    <tr>\n",
       "      <td>5</td>\n",
       "      <td>1.0</td>\n",
       "      <td>57400.0</td>\n",
       "      <td>20.5970</td>\n",
       "      <td>59.36</td>\n",
       "      <td>0.542</td>\n",
       "      <td>35718.650</td>\n",
       "      <td>132.2</td>\n",
       "      <td>498425.0</td>\n",
       "      <td>143.48</td>\n",
       "      <td>284.592</td>\n",
       "      <td>53.0</td>\n",
       "      <td>460.0</td>\n",
       "      <td>7.028</td>\n",
       "      <td>1</td>\n",
       "      <td>1</td>\n",
       "      <td>0</td>\n",
       "      <td>0</td>\n",
       "      <td>1</td>\n",
       "    </tr>\n",
       "  </tbody>\n",
       "</table>\n",
       "</div>"
      ],
      "text/plain": [
       "   const  Collection  Marketing expense  Production expense  \\\n",
       "0    1.0     48000.0            20.1264               59.62   \n",
       "1    1.0     43200.0            20.5462               69.14   \n",
       "3    1.0     66800.0            20.6474               59.36   \n",
       "4    1.0     72400.0            21.3810               59.36   \n",
       "5    1.0     57400.0            20.5970               59.36   \n",
       "\n",
       "   Multiplex coverage     Budget  Movie_length  Trailer_views  Time_taken  \\\n",
       "0               0.462  36524.125         138.7       527367.0      109.60   \n",
       "1               0.531  35668.655         152.4       494055.0      146.64   \n",
       "3               0.542  38873.890         119.3       516279.0      185.36   \n",
       "4               0.542  39701.585         127.7       531448.0      176.48   \n",
       "5               0.542  35718.650         132.2       498425.0      143.48   \n",
       "\n",
       "   Twitter_hastags  Avg_age_actors  Num_multiplex  Average_rating  \\\n",
       "0          223.840            23.0          494.0           7.953   \n",
       "1          243.456            42.0          462.0           7.501   \n",
       "3          225.344            45.0          472.0           7.226   \n",
       "4          225.792            55.0          395.0           7.227   \n",
       "5          284.592            53.0          460.0           7.028   \n",
       "\n",
       "   3D_available_YES  Genre_Comedy  Genre_Drama  Genre_Thriller  \\\n",
       "0                 1             0            0               1   \n",
       "1                 0             0            1               0   \n",
       "3                 1             0            1               0   \n",
       "4                 0             0            1               0   \n",
       "5                 1             1            0               0   \n",
       "\n",
       "   MPAA_film_rating_PG  \n",
       "0                    1  \n",
       "1                    1  \n",
       "3                    1  \n",
       "4                    1  \n",
       "5                    1  "
      ]
     },
     "execution_count": 43,
     "metadata": {},
     "output_type": "execute_result"
    }
   ],
   "source": [
    "X_const= sn.add_constant(X)\n",
    "X_const.head()"
   ]
  },
  {
   "cell_type": "code",
   "execution_count": 44,
   "metadata": {},
   "outputs": [
    {
     "name": "stdout",
     "output_type": "stream",
     "text": [
      "Optimization terminated successfully.\n",
      "         Current function value: inf\n",
      "         Iterations 13\n"
     ]
    },
    {
     "name": "stderr",
     "output_type": "stream",
     "text": [
      "C:\\Users\\amine\\Anaconda3\\lib\\site-packages\\statsmodels\\discrete\\discrete_model.py:1789: RuntimeWarning: divide by zero encountered in log\n",
      "  return np.sum(np.log(self.cdf(q*np.dot(X,params))))\n",
      "C:\\Users\\amine\\Anaconda3\\lib\\site-packages\\statsmodels\\base\\model.py:492: HessianInversionWarning: Inverting hessian failed, no bse or cov_params available\n",
      "  'available', HessianInversionWarning)\n",
      "C:\\Users\\amine\\Anaconda3\\lib\\site-packages\\statsmodels\\base\\model.py:492: HessianInversionWarning: Inverting hessian failed, no bse or cov_params available\n",
      "  'available', HessianInversionWarning)\n"
     ]
    },
    {
     "data": {
      "text/html": [
       "<table class=\"simpletable\">\n",
       "<caption>Logit Regression Results</caption>\n",
       "<tr>\n",
       "  <th>Dep. Variable:</th>   <td>Start_Tech_Oscar</td> <th>  No. Observations:  </th>  <td>   505</td> \n",
       "</tr>\n",
       "<tr>\n",
       "  <th>Model:</th>                 <td>Logit</td>      <th>  Df Residuals:      </th>  <td>   488</td> \n",
       "</tr>\n",
       "<tr>\n",
       "  <th>Method:</th>                 <td>MLE</td>       <th>  Df Model:          </th>  <td>    16</td> \n",
       "</tr>\n",
       "<tr>\n",
       "  <th>Date:</th>            <td>Fri, 22 May 2020</td> <th>  Pseudo R-squ.:     </th>  <td>   inf</td> \n",
       "</tr>\n",
       "<tr>\n",
       "  <th>Time:</th>                <td>02:30:33</td>     <th>  Log-Likelihood:    </th> <td>    -inf</td>\n",
       "</tr>\n",
       "<tr>\n",
       "  <th>converged:</th>             <td>True</td>       <th>  LL-Null:           </th> <td>  0.0000</td>\n",
       "</tr>\n",
       "<tr>\n",
       "  <th>Covariance Type:</th>     <td>nonrobust</td>    <th>  LLR p-value:       </th>  <td> 1.000</td> \n",
       "</tr>\n",
       "</table>\n",
       "<table class=\"simpletable\">\n",
       "<tr>\n",
       "           <td></td>              <th>coef</th>     <th>std err</th>      <th>z</th>      <th>P>|z|</th>  <th>[0.025</th>    <th>0.975]</th>  \n",
       "</tr>\n",
       "<tr>\n",
       "  <th>Collection</th>          <td>    0.0001</td> <td> 1.37e-05</td> <td>    7.289</td> <td> 0.000</td> <td> 7.32e-05</td> <td>    0.000</td>\n",
       "</tr>\n",
       "<tr>\n",
       "  <th>Marketing expense</th>   <td>    0.0009</td> <td>    0.001</td> <td>    1.206</td> <td> 0.228</td> <td>   -0.001</td> <td>    0.002</td>\n",
       "</tr>\n",
       "<tr>\n",
       "  <th>Production expense</th>  <td>    0.0057</td> <td>    0.012</td> <td>    0.458</td> <td> 0.647</td> <td>   -0.019</td> <td>    0.030</td>\n",
       "</tr>\n",
       "<tr>\n",
       "  <th>Multiplex coverage</th>  <td>   -4.6673</td> <td>    2.548</td> <td>   -1.832</td> <td> 0.067</td> <td>   -9.661</td> <td>    0.327</td>\n",
       "</tr>\n",
       "<tr>\n",
       "  <th>Budget</th>              <td>   -0.0002</td> <td> 4.68e-05</td> <td>   -3.790</td> <td> 0.000</td> <td>   -0.000</td> <td>-8.58e-05</td>\n",
       "</tr>\n",
       "<tr>\n",
       "  <th>Movie_length</th>        <td>    0.0069</td> <td>    0.006</td> <td>    1.124</td> <td> 0.261</td> <td>   -0.005</td> <td>    0.019</td>\n",
       "</tr>\n",
       "<tr>\n",
       "  <th>Trailer_views</th>       <td>-1.482e-05</td> <td> 2.95e-06</td> <td>   -5.026</td> <td> 0.000</td> <td>-2.06e-05</td> <td>-9.04e-06</td>\n",
       "</tr>\n",
       "<tr>\n",
       "  <th>Time_taken</th>          <td>   -0.0068</td> <td>    0.003</td> <td>   -2.074</td> <td> 0.038</td> <td>   -0.013</td> <td>   -0.000</td>\n",
       "</tr>\n",
       "<tr>\n",
       "  <th>Twitter_hastags</th>     <td>    0.0029</td> <td>    0.003</td> <td>    0.979</td> <td> 0.327</td> <td>   -0.003</td> <td>    0.009</td>\n",
       "</tr>\n",
       "<tr>\n",
       "  <th>Avg_age_actors</th>      <td>    0.0051</td> <td>    0.008</td> <td>    0.640</td> <td> 0.522</td> <td>   -0.011</td> <td>    0.021</td>\n",
       "</tr>\n",
       "<tr>\n",
       "  <th>Num_multiplex</th>       <td>   -0.0023</td> <td>    0.002</td> <td>   -0.979</td> <td> 0.327</td> <td>   -0.007</td> <td>    0.002</td>\n",
       "</tr>\n",
       "<tr>\n",
       "  <th>Average_rating</th>      <td>   -0.9143</td> <td>    0.227</td> <td>   -4.022</td> <td> 0.000</td> <td>   -1.360</td> <td>   -0.469</td>\n",
       "</tr>\n",
       "<tr>\n",
       "  <th>3D_available_YES</th>    <td>    0.2022</td> <td>    0.204</td> <td>    0.993</td> <td> 0.321</td> <td>   -0.197</td> <td>    0.601</td>\n",
       "</tr>\n",
       "<tr>\n",
       "  <th>Genre_Comedy</th>        <td>   -0.0953</td> <td>    0.319</td> <td>   -0.299</td> <td> 0.765</td> <td>   -0.721</td> <td>    0.530</td>\n",
       "</tr>\n",
       "<tr>\n",
       "  <th>Genre_Drama</th>         <td>   -0.0470</td> <td>    0.346</td> <td>   -0.136</td> <td> 0.892</td> <td>   -0.725</td> <td>    0.631</td>\n",
       "</tr>\n",
       "<tr>\n",
       "  <th>Genre_Thriller</th>      <td>   -0.3960</td> <td>    0.312</td> <td>   -1.271</td> <td> 0.204</td> <td>   -1.007</td> <td>    0.215</td>\n",
       "</tr>\n",
       "<tr>\n",
       "  <th>MPAA_film_rating_PG</th> <td>   18.0058</td> <td>    3.825</td> <td>    4.708</td> <td> 0.000</td> <td>   10.509</td> <td>   25.502</td>\n",
       "</tr>\n",
       "</table>"
      ],
      "text/plain": [
       "<class 'statsmodels.iolib.summary.Summary'>\n",
       "\"\"\"\n",
       "                           Logit Regression Results                           \n",
       "==============================================================================\n",
       "Dep. Variable:       Start_Tech_Oscar   No. Observations:                  505\n",
       "Model:                          Logit   Df Residuals:                      488\n",
       "Method:                           MLE   Df Model:                           16\n",
       "Date:                Fri, 22 May 2020   Pseudo R-squ.:                     inf\n",
       "Time:                        02:30:33   Log-Likelihood:                   -inf\n",
       "converged:                       True   LL-Null:                        0.0000\n",
       "Covariance Type:            nonrobust   LLR p-value:                     1.000\n",
       "=======================================================================================\n",
       "                          coef    std err          z      P>|z|      [0.025      0.975]\n",
       "---------------------------------------------------------------------------------------\n",
       "Collection              0.0001   1.37e-05      7.289      0.000    7.32e-05       0.000\n",
       "Marketing expense       0.0009      0.001      1.206      0.228      -0.001       0.002\n",
       "Production expense      0.0057      0.012      0.458      0.647      -0.019       0.030\n",
       "Multiplex coverage     -4.6673      2.548     -1.832      0.067      -9.661       0.327\n",
       "Budget                 -0.0002   4.68e-05     -3.790      0.000      -0.000   -8.58e-05\n",
       "Movie_length            0.0069      0.006      1.124      0.261      -0.005       0.019\n",
       "Trailer_views       -1.482e-05   2.95e-06     -5.026      0.000   -2.06e-05   -9.04e-06\n",
       "Time_taken             -0.0068      0.003     -2.074      0.038      -0.013      -0.000\n",
       "Twitter_hastags         0.0029      0.003      0.979      0.327      -0.003       0.009\n",
       "Avg_age_actors          0.0051      0.008      0.640      0.522      -0.011       0.021\n",
       "Num_multiplex          -0.0023      0.002     -0.979      0.327      -0.007       0.002\n",
       "Average_rating         -0.9143      0.227     -4.022      0.000      -1.360      -0.469\n",
       "3D_available_YES        0.2022      0.204      0.993      0.321      -0.197       0.601\n",
       "Genre_Comedy           -0.0953      0.319     -0.299      0.765      -0.721       0.530\n",
       "Genre_Drama            -0.0470      0.346     -0.136      0.892      -0.725       0.631\n",
       "Genre_Thriller         -0.3960      0.312     -1.271      0.204      -1.007       0.215\n",
       "MPAA_film_rating_PG    18.0058      3.825      4.708      0.000      10.509      25.502\n",
       "=======================================================================================\n",
       "\"\"\""
      ]
     },
     "execution_count": 44,
     "metadata": {},
     "output_type": "execute_result"
    }
   ],
   "source": [
    "logistic = sm.Logit(y,X).fit()\n",
    "logistic.summary()"
   ]
  },
  {
   "cell_type": "markdown",
   "metadata": {},
   "source": [
    "### Predicting and confusion Matrix"
   ]
  },
  {
   "cell_type": "code",
   "execution_count": 45,
   "metadata": {},
   "outputs": [
    {
     "data": {
      "text/plain": [
       "array([[0.55419198, 0.44580802],\n",
       "       [0.60652384, 0.39347616],\n",
       "       [0.3907228 , 0.6092772 ],\n",
       "       ...,\n",
       "       [0.52805979, 0.47194021],\n",
       "       [0.47207685, 0.52792315],\n",
       "       [0.72677214, 0.27322786]])"
      ]
     },
     "execution_count": 45,
     "metadata": {},
     "output_type": "execute_result"
    }
   ],
   "source": [
    "clf.predict_proba(X)\n",
    "#st column is the probability of 0 (no Oscar) and the second column is the probability of 1( yes_oscar)\n",
    "# the sum of the 2 columns for every line of the dataset is equal to 1"
   ]
  },
  {
   "cell_type": "code",
   "execution_count": 46,
   "metadata": {},
   "outputs": [
    {
     "data": {
      "text/plain": [
       "array([0, 0, 1, 1, 1, 1, 1, 1, 1, 0, 0, 1, 1, 0, 0, 0, 0, 0, 0, 0, 0, 1,\n",
       "       0, 0, 0, 0, 0, 1, 0, 0, 0, 1, 0, 0, 0, 0, 0, 0, 1, 1, 1, 1, 1, 0,\n",
       "       0, 0, 1, 1, 1, 1, 0, 0, 0, 0, 1, 1, 1, 1, 0, 0, 0, 0, 1, 1, 0, 0,\n",
       "       0, 0, 0, 0, 0, 0, 0, 0, 0, 0, 0, 0, 1, 1, 0, 0, 0, 1, 1, 1, 0, 0,\n",
       "       1, 0, 0, 0, 0, 0, 1, 0, 1, 1, 1, 1, 0, 0, 1, 0, 0, 1, 1, 0, 0, 0,\n",
       "       1, 1, 0, 0, 0, 1, 1, 1, 0, 0, 0, 1, 0, 1, 1, 1, 1, 0, 0, 0, 0, 0,\n",
       "       0, 0, 0, 0, 0, 0, 0, 0, 1, 1, 1, 1, 1, 1, 1, 1, 1, 1, 1, 1, 1, 1,\n",
       "       0, 0, 1, 1, 1, 0, 1, 1, 1, 1, 1, 1, 0, 1, 1, 0, 0, 1, 0, 1, 1, 1,\n",
       "       1, 1, 1, 1, 1, 1, 1, 1, 1, 1, 1, 0, 1, 1, 1, 1, 1, 1, 1, 1, 1, 1,\n",
       "       1, 1, 0, 1, 1, 1, 1, 1, 1, 1, 1, 1, 1, 1, 1, 1, 1, 1, 1, 1, 1, 1,\n",
       "       1, 1, 1, 1, 1, 1, 1, 1, 1, 0, 1, 1, 1, 1, 1, 1, 1, 0, 1, 0, 0, 0,\n",
       "       1, 0, 0, 1, 0, 1, 0, 0, 0, 0, 1, 0, 1, 1, 1, 1, 1, 1, 1, 1, 1, 1,\n",
       "       1, 1, 1, 1, 1, 1, 0, 0, 1, 1, 1, 1, 1, 1, 1, 1, 1, 1, 1, 1, 0, 0,\n",
       "       0, 0, 1, 0, 1, 0, 1, 0, 0, 0, 1, 0, 0, 0, 0, 0, 1, 1, 1, 1, 1, 0,\n",
       "       0, 0, 1, 0, 1, 0, 0, 1, 0, 0, 0, 1, 1, 0, 1, 0, 0, 0, 1, 0, 1, 0,\n",
       "       0, 0, 0, 0, 0, 0, 0, 1, 0, 0, 1, 0, 1, 1, 0, 0, 0, 1, 0, 0, 0, 0,\n",
       "       1, 0, 0, 1, 1, 1, 1, 1, 1, 1, 1, 0, 1, 1, 1, 1, 1, 1, 1, 1, 1, 1,\n",
       "       0, 1, 1, 1, 0, 1, 0, 0, 1, 1, 0, 1, 1, 1, 0, 0, 1, 1, 0, 1, 1, 0,\n",
       "       0, 0, 1, 0, 0, 1, 0, 0, 1, 1, 1, 1, 1, 0, 1, 1, 1, 1, 0, 0, 1, 0,\n",
       "       0, 1, 0, 0, 0, 0, 1, 0, 0, 0, 0, 0, 0, 0, 0, 0, 1, 0, 0, 1, 1, 1,\n",
       "       1, 1, 1, 1, 1, 1, 0, 0, 0, 0, 0, 1, 1, 1, 0, 1, 0, 1, 1, 0, 0, 1,\n",
       "       1, 0, 1, 0, 1, 1, 1, 1, 0, 1, 1, 0, 0, 1, 1, 1, 1, 0, 1, 1, 0, 1,\n",
       "       0, 0, 0, 1, 0, 0, 0, 1, 1, 1, 1, 1, 1, 1, 1, 0, 0, 1, 0, 1, 0],\n",
       "      dtype=uint8)"
      ]
     },
     "execution_count": 46,
     "metadata": {},
     "output_type": "execute_result"
    }
   ],
   "source": [
    "y_pred= clf.predict(X)\n",
    "y_pred\n",
    "# represents the predictions ( oscar or no_oscar) based on the probabilities given by \"predidict_proba()\" :\n",
    "# by default, the default boundary is 0.5; if P>0.5 --> y=1, else y=0"
   ]
  },
  {
   "cell_type": "code",
   "execution_count": 47,
   "metadata": {},
   "outputs": [
    {
     "data": {
      "text/plain": [
       "array([ True, False,  True,  True,  True,  True,  True,  True,  True,\n",
       "        True,  True,  True,  True,  True,  True,  True,  True,  True,\n",
       "        True,  True,  True,  True,  True,  True, False, False, False,\n",
       "        True, False,  True, False,  True,  True, False, False,  True,\n",
       "       False,  True,  True,  True,  True,  True,  True, False, False,\n",
       "        True,  True,  True,  True,  True, False,  True, False,  True,\n",
       "        True,  True,  True,  True,  True, False,  True, False,  True,\n",
       "        True, False, False,  True,  True, False,  True, False, False,\n",
       "        True, False, False, False, False,  True,  True,  True,  True,\n",
       "        True, False,  True,  True,  True,  True, False,  True,  True,\n",
       "        True,  True,  True,  True,  True, False,  True,  True,  True,\n",
       "        True,  True,  True,  True, False,  True,  True,  True, False,\n",
       "        True,  True,  True,  True,  True,  True,  True,  True,  True,\n",
       "        True, False,  True, False,  True,  True,  True,  True,  True,\n",
       "        True,  True, False,  True,  True,  True, False,  True,  True,\n",
       "        True,  True,  True,  True,  True,  True,  True,  True,  True,\n",
       "        True,  True,  True,  True,  True,  True,  True,  True,  True,\n",
       "        True,  True,  True,  True,  True,  True,  True,  True,  True,\n",
       "        True,  True,  True,  True,  True,  True,  True,  True, False,\n",
       "        True,  True,  True,  True,  True,  True,  True,  True,  True,\n",
       "        True,  True,  True,  True,  True,  True,  True,  True,  True,\n",
       "        True,  True,  True,  True,  True,  True,  True,  True,  True,\n",
       "        True,  True,  True,  True,  True,  True,  True,  True,  True,\n",
       "        True,  True,  True,  True,  True,  True,  True,  True,  True,\n",
       "        True,  True,  True,  True,  True,  True,  True,  True,  True,\n",
       "        True,  True,  True,  True,  True,  True,  True,  True,  True,\n",
       "        True,  True,  True,  True,  True,  True, False, False,  True,\n",
       "       False, False,  True, False,  True, False,  True, False,  True,\n",
       "        True, False,  True,  True,  True,  True,  True,  True,  True,\n",
       "        True,  True,  True,  True,  True,  True,  True,  True,  True,\n",
       "        True,  True,  True,  True,  True,  True,  True,  True,  True,\n",
       "        True,  True,  True,  True,  True, False, False,  True, False,\n",
       "        True, False,  True,  True,  True, False,  True,  True,  True,\n",
       "       False,  True, False, False,  True,  True,  True,  True,  True,\n",
       "        True, False, False,  True,  True,  True,  True,  True, False,\n",
       "        True,  True,  True,  True,  True,  True, False,  True,  True,\n",
       "        True,  True,  True, False,  True, False,  True,  True, False,\n",
       "        True,  True, False,  True,  True,  True,  True,  True, False,\n",
       "        True,  True, False, False, False,  True,  True,  True, False,\n",
       "       False,  True, False, False,  True,  True,  True,  True,  True,\n",
       "        True,  True,  True, False,  True,  True,  True,  True,  True,\n",
       "        True,  True,  True,  True,  True,  True,  True,  True,  True,\n",
       "       False,  True, False, False,  True,  True,  True,  True,  True,\n",
       "        True,  True,  True,  True,  True, False,  True,  True,  True,\n",
       "       False,  True,  True, False, False,  True,  True,  True,  True,\n",
       "        True,  True,  True,  True, False,  True,  True,  True,  True,\n",
       "       False, False,  True,  True, False,  True, False,  True, False,\n",
       "       False,  True, False, False,  True, False, False,  True, False,\n",
       "       False, False,  True, False, False,  True,  True,  True,  True,\n",
       "        True,  True,  True,  True,  True, False,  True,  True, False,\n",
       "        True,  True,  True,  True,  True,  True,  True,  True,  True,\n",
       "        True,  True,  True,  True,  True,  True,  True,  True,  True,\n",
       "        True,  True,  True,  True,  True, False,  True,  True,  True,\n",
       "        True,  True,  True,  True,  True,  True,  True,  True,  True,\n",
       "        True,  True, False, False,  True,  True,  True,  True,  True,\n",
       "        True,  True,  True,  True,  True,  True,  True,  True,  True,\n",
       "       False])"
      ]
     },
     "execution_count": 47,
     "metadata": {},
     "output_type": "execute_result"
    }
   ],
   "source": [
    "#In this case, we did change the boundary to 0.4, and compared the \"no_oscar\" probabilities (which are on the second column of X) by 0.4,\n",
    "#this is what explains the usage of index [1] which is the index of the 2nd column of the probability array \n",
    "y_pred_newboundary= (clf.predict_proba(X)[:,1]>= 0.4)\n",
    "y_pred_newboundary\n",
    "# the result is boolean, if the comparison condition is satisfied then true, else false."
   ]
  },
  {
   "cell_type": "code",
   "execution_count": 48,
   "metadata": {},
   "outputs": [
    {
     "data": {
      "text/plain": [
       "array([[125, 106],\n",
       "       [ 98, 176]], dtype=int64)"
      ]
     },
     "execution_count": 48,
     "metadata": {},
     "output_type": "execute_result"
    }
   ],
   "source": [
    "confusion_matrix(y, y_pred)\n",
    "# the matrix represents the cases where:      [[  0,0  0-1 (y=0 while y_pred=1; type 1 error) \n",
    "############################ (type 2 error)       1-0  1-1 ( both y & y_pred are \"yes\" )       ]]"
   ]
  },
  {
   "cell_type": "code",
   "execution_count": 49,
   "metadata": {},
   "outputs": [
    {
     "data": {
      "text/plain": [
       "Text(33.0, 0.5, 'truth')"
      ]
     },
     "execution_count": 49,
     "metadata": {},
     "output_type": "execute_result"
    },
    {
     "data": {
      "image/png": "[encoded data removed]",
      "text/plain": [
       "<Figure size 432x288 with 2 Axes>"
      ]
     },
     "metadata": {
      "needs_background": "light"
     },
     "output_type": "display_data"
    }
   ],
   "source": [
    "cm = confusion_matrix(y, y_pred_newboundary) \n",
    "%matplotlib inline\n",
    "plt.figure(figsize=(6,4))\n",
    "sns.heatmap(cm)\n",
    "plt.xlabel('predicted')\n",
    "plt.ylabel('truth')"
   ]
  },
  {
   "cell_type": "markdown",
   "metadata": {},
   "source": [
    "### precision score = nbr of true positives / (nbr of true positives + nbr of false positives)"
   ]
  },
  {
   "cell_type": "markdown",
   "metadata": {},
   "source": [
    "##### Remark: Based on the confusion matrix, True positive is when y_pred= 'yes' while y='yes'. Also False positives is when y_pred='yes' but y= 'no', and lastly, False negatives is when y_pred = 'no' but should be 'yes' instead"
   ]
  },
  {
   "cell_type": "code",
   "execution_count": 50,
   "metadata": {},
   "outputs": [
    {
     "data": {
      "text/plain": [
       "0.624113475177305"
      ]
     },
     "execution_count": 50,
     "metadata": {},
     "output_type": "execute_result"
    }
   ],
   "source": [
    "precision_score(y, y_pred)"
   ]
  },
  {
   "cell_type": "markdown",
   "metadata": {},
   "source": [
    "### recall_score = nbr of true positives / (nbr of true positives + nbr of false negatives)"
   ]
  },
  {
   "cell_type": "code",
   "execution_count": 51,
   "metadata": {},
   "outputs": [
    {
     "data": {
      "text/plain": [
       "0.6423357664233577"
      ]
     },
     "execution_count": 51,
     "metadata": {},
     "output_type": "execute_result"
    }
   ],
   "source": [
    "recall_score(y, y_pred) "
   ]
  },
  {
   "cell_type": "markdown",
   "metadata": {},
   "source": [
    "### roc_auc_score = \"False Positive RATE\" in function of \"True Positive RATE\" :   f(FPR) = TPR, the closest to 1 the better it is"
   ]
  },
  {
   "cell_type": "code",
   "execution_count": 52,
   "metadata": {},
   "outputs": [
    {
     "data": {
      "text/plain": [
       "0.5917306537744493"
      ]
     },
     "execution_count": 52,
     "metadata": {},
     "output_type": "execute_result"
    }
   ],
   "source": [
    "roc_auc_score(y, y_pred)"
   ]
  },
  {
   "cell_type": "markdown",
   "metadata": {},
   "source": [
    "## LDA : Linear Discriminant Analysis"
   ]
  },
  {
   "cell_type": "code",
   "execution_count": 53,
   "metadata": {},
   "outputs": [],
   "source": [
    "clf_lda= LinearDiscriminantAnalysis()"
   ]
  },
  {
   "cell_type": "code",
   "execution_count": 54,
   "metadata": {},
   "outputs": [
    {
     "data": {
      "text/plain": [
       "LinearDiscriminantAnalysis(n_components=None, priors=None, shrinkage=None,\n",
       "                           solver='svd', store_covariance=False, tol=0.0001)"
      ]
     },
     "execution_count": 54,
     "metadata": {},
     "output_type": "execute_result"
    }
   ],
   "source": [
    "clf_lda.fit(X, y)"
   ]
  },
  {
   "cell_type": "code",
   "execution_count": 55,
   "metadata": {},
   "outputs": [],
   "source": [
    "y_lda_pred = clf_lda.predict(X)"
   ]
  },
  {
   "cell_type": "code",
   "execution_count": 56,
   "metadata": {},
   "outputs": [
    {
     "data": {
      "text/plain": [
       "Text(33.0, 0.5, 'truth')"
      ]
     },
     "execution_count": 56,
     "metadata": {},
     "output_type": "execute_result"
    },
    {
     "data": {
      "image/png": "[encoded data removed]",
      "text/plain": [
       "<Figure size 432x288 with 2 Axes>"
      ]
     },
     "metadata": {
      "needs_background": "light"
     },
     "output_type": "display_data"
    }
   ],
   "source": [
    "cm1 = confusion_matrix(y, y_lda_pred)\n",
    "%matplotlib inline\n",
    "plt.figure(figsize=(6,4))\n",
    "sns.heatmap(cm1)\n",
    "plt.xlabel('predicted')\n",
    "plt.ylabel('truth')"
   ]
  },
  {
   "cell_type": "code",
   "execution_count": 57,
   "metadata": {},
   "outputs": [],
   "source": [
    "X_train, X_test, y_train, y_test = train_test_split(X, y, test_size=0.2, random_state=0)"
   ]
  },
  {
   "cell_type": "code",
   "execution_count": 58,
   "metadata": {},
   "outputs": [
    {
     "name": "stdout",
     "output_type": "stream",
     "text": [
      "(404, 17) (101, 17) (404,) (101,)\n"
     ]
    }
   ],
   "source": [
    "#size of our x and y train & test saples ( 5 is the number of variables included in X)\n",
    "print( X_train.shape, X_test.shape, y_train.shape, y_test.shape)"
   ]
  },
  {
   "cell_type": "markdown",
   "metadata": {},
   "source": [
    "## Logistic Regression"
   ]
  },
  {
   "cell_type": "code",
   "execution_count": 59,
   "metadata": {},
   "outputs": [
    {
     "data": {
      "text/plain": [
       "LogisticRegression(C=1.0, class_weight=None, dual=False, fit_intercept=True,\n",
       "                   intercept_scaling=1, l1_ratio=None, max_iter=100,\n",
       "                   multi_class='auto', n_jobs=None, penalty='l2',\n",
       "                   random_state=None, solver='lbfgs', tol=0.0001, verbose=0,\n",
       "                   warm_start=False)"
      ]
     },
     "execution_count": 59,
     "metadata": {},
     "output_type": "execute_result"
    }
   ],
   "source": [
    "clf_lr= lr()\n",
    "clf_lr.fit(X_train, y_train)\n"
   ]
  },
  {
   "cell_type": "code",
   "execution_count": 60,
   "metadata": {},
   "outputs": [],
   "source": [
    "y_test_pred= clf_lr.predict(X_test)"
   ]
  },
  {
   "cell_type": "code",
   "execution_count": 61,
   "metadata": {},
   "outputs": [
    {
     "data": {
      "text/plain": [
       "Text(33.0, 0.5, 'y_test_from_split')"
      ]
     },
     "execution_count": 61,
     "metadata": {},
     "output_type": "execute_result"
    },
    {
     "data": {
      "image/png": "[encoded data removed]",
      "text/plain": [
       "<Figure size 432x288 with 2 Axes>"
      ]
     },
     "metadata": {
      "needs_background": "light"
     },
     "output_type": "display_data"
    }
   ],
   "source": [
    "cm1 = confusion_matrix(y_test, y_test_pred)\n",
    "%matplotlib inline\n",
    "plt.figure(figsize=(6,4))\n",
    "sns.heatmap(cm1)\n",
    "plt.xlabel('y_test_predicted')\n",
    "plt.ylabel('y_test_from_split')"
   ]
  },
  {
   "cell_type": "code",
   "execution_count": 62,
   "metadata": {},
   "outputs": [
    {
     "data": {
      "text/plain": [
       "0.594059405940594"
      ]
     },
     "execution_count": 62,
     "metadata": {},
     "output_type": "execute_result"
    }
   ],
   "source": [
    "accuracy_score(y_test, y_test_pred)"
   ]
  },
  {
   "cell_type": "markdown",
   "metadata": {},
   "source": [
    "## Data Standardization: ( scaler )"
   ]
  },
  {
   "cell_type": "code",
   "execution_count": 63,
   "metadata": {},
   "outputs": [],
   "source": [
    "# we do standardize S train and X test so that the knn model accuracy does not decrease because of the range of the data for some variables\n",
    "scaler= preprocessing.StandardScaler().fit(X_train) \n",
    "X_train_s= scaler.transform(X_train)\n"
   ]
  },
  {
   "cell_type": "code",
   "execution_count": 64,
   "metadata": {},
   "outputs": [
    {
     "data": {
      "text/plain": [
       "array([[ 0.04869194, -0.52718557, -0.27294754, ..., -0.51234754,\n",
       "         1.2349089 ,  0.1       ],\n",
       "       [ 2.41337245, -0.52236919, -0.28519382, ..., -0.51234754,\n",
       "        -0.80977633,  0.1       ],\n",
       "       [-0.75399777,  0.62667148,  0.07301007, ...,  1.95180015,\n",
       "        -0.80977633,  0.1       ],\n",
       "       ...,\n",
       "       [-0.60213756, -0.5121999 , -0.23244059, ..., -0.51234754,\n",
       "         1.2349089 ,  0.1       ],\n",
       "       [-0.2007927 , -0.49885553, -0.12505007, ..., -0.51234754,\n",
       "         1.2349089 ,  0.1       ],\n",
       "       [-0.18994554, -0.51714532, -0.1516622 , ..., -0.51234754,\n",
       "        -0.80977633,  0.1       ]])"
      ]
     },
     "execution_count": 64,
     "metadata": {},
     "output_type": "execute_result"
    }
   ],
   "source": [
    "scaler= preprocessing.StandardScaler().fit(X_test) \n",
    "X_test_s= scaler.transform(X_test)\n",
    "X_test_s"
   ]
  },
  {
   "cell_type": "markdown",
   "metadata": {},
   "source": [
    "## K- Nearest Neighbors  APPLICATION "
   ]
  },
  {
   "cell_type": "code",
   "execution_count": 65,
   "metadata": {},
   "outputs": [
    {
     "data": {
      "text/plain": [
       "0.44554455445544555"
      ]
     },
     "execution_count": 65,
     "metadata": {},
     "output_type": "execute_result"
    }
   ],
   "source": [
    "#case of k=1\n",
    "knn_1 = knc(n_neighbors= 1)\n",
    "knn_1.fit(X_train_s, y_train)\n",
    "\n",
    "y_pred_k1nn = knn_1.predict(X_test_s)\n",
    "accuracy_score(y_test, y_pred_k1nn)"
   ]
  },
  {
   "cell_type": "code",
   "execution_count": 66,
   "metadata": {},
   "outputs": [
    {
     "data": {
      "text/plain": [
       "0.5445544554455446"
      ]
     },
     "execution_count": 66,
     "metadata": {},
     "output_type": "execute_result"
    }
   ],
   "source": [
    "#case_of k=3\n",
    "knn_3 = knc(n_neighbors= 3)\n",
    "knn_3.fit(X_train_s, y_train)\n",
    "accuracy_score(y_test, knn_3.predict(X_test_s))"
   ]
  },
  {
   "cell_type": "markdown",
   "metadata": {},
   "source": [
    "## Confusion matrix for k= 1"
   ]
  },
  {
   "cell_type": "code",
   "execution_count": 67,
   "metadata": {},
   "outputs": [
    {
     "data": {
      "text/plain": [
       "Text(33.0, 0.5, 'y_test')"
      ]
     },
     "execution_count": 67,
     "metadata": {},
     "output_type": "execute_result"
    },
    {
     "data": {
      "image/png": "[encoded data removed]",
      "text/plain": [
       "<Figure size 432x288 with 2 Axes>"
      ]
     },
     "metadata": {
      "needs_background": "light"
     },
     "output_type": "display_data"
    }
   ],
   "source": [
    "cm2= confusion_matrix(y_test, y_pred_k1nn)\n",
    "%matplotlib inline\n",
    "plt.figure(figsize=(6,4))\n",
    "sns.heatmap(cm2)\n",
    "plt.xlabel('y_test_knn_predicted')\n",
    "plt.ylabel('y_test')"
   ]
  },
  {
   "cell_type": "markdown",
   "metadata": {},
   "source": [
    "## Optimizing parameter K for best accuracy possible using Grid Search"
   ]
  },
  {
   "cell_type": "code",
   "execution_count": 68,
   "metadata": {},
   "outputs": [],
   "source": [
    "k_values = {'n_neighbors': [1, 2, 3, 4, 5, 6, 7, 8, 9, 10, 11, 12, 13, 14, 15, 16, 17, 18, 19, 20] }\n",
    "#n_neighbors is the parameter responsible of iterating the Gridsearch over the values 1-20; each time it takes a value"
   ]
  },
  {
   "cell_type": "code",
   "execution_count": 69,
   "metadata": {},
   "outputs": [],
   "source": [
    "grid = GridSearchCV(knc(), k_values) "
   ]
  },
  {
   "cell_type": "code",
   "execution_count": 70,
   "metadata": {},
   "outputs": [
    {
     "data": {
      "text/plain": [
       "GridSearchCV(cv=None, error_score=nan,\n",
       "             estimator=KNeighborsClassifier(algorithm='auto', leaf_size=30,\n",
       "                                            metric='minkowski',\n",
       "                                            metric_params=None, n_jobs=None,\n",
       "                                            n_neighbors=5, p=2,\n",
       "                                            weights='uniform'),\n",
       "             iid='deprecated', n_jobs=None,\n",
       "             param_grid={'n_neighbors': [1, 2, 3, 4, 5, 6, 7, 8, 9, 10, 11, 12,\n",
       "                                         13, 14, 15, 16, 17, 18, 19, 20]},\n",
       "             pre_dispatch='2*n_jobs', refit=True, return_train_score=False,\n",
       "             scoring=None, verbose=0)"
      ]
     },
     "execution_count": 70,
     "metadata": {},
     "output_type": "execute_result"
    }
   ],
   "source": [
    "# fit the grid with data\n",
    "grid.fit(X_train_s, y_train)"
   ]
  },
  {
   "cell_type": "code",
   "execution_count": 71,
   "metadata": {},
   "outputs": [
    {
     "data": {
      "text/plain": [
       "{'n_neighbors': 7}"
      ]
     },
     "execution_count": 71,
     "metadata": {},
     "output_type": "execute_result"
    }
   ],
   "source": [
    "grid.best_params_"
   ]
  },
  {
   "cell_type": "code",
   "execution_count": 72,
   "metadata": {},
   "outputs": [
    {
     "data": {
      "text/plain": [
       "KNeighborsClassifier(algorithm='auto', leaf_size=30, metric='minkowski',\n",
       "                     metric_params=None, n_jobs=None, n_neighbors=7, p=2,\n",
       "                     weights='uniform')"
      ]
     },
     "execution_count": 72,
     "metadata": {},
     "output_type": "execute_result"
    }
   ],
   "source": [
    "grid.best_estimator_ #optimal K based on the GridSearch"
   ]
  },
  {
   "cell_type": "code",
   "execution_count": 73,
   "metadata": {},
   "outputs": [],
   "source": [
    "optimized_knn= grid.best_estimator_"
   ]
  },
  {
   "cell_type": "code",
   "execution_count": 74,
   "metadata": {},
   "outputs": [],
   "source": [
    "y_pred_knn_bestk =  optimized_knn.predict(X_test_s)"
   ]
  },
  {
   "cell_type": "code",
   "execution_count": 75,
   "metadata": {},
   "outputs": [
    {
     "data": {
      "text/plain": [
       "Text(33.0, 0.5, 'y_test')"
      ]
     },
     "execution_count": 75,
     "metadata": {},
     "output_type": "execute_result"
    },
    {
     "data": {
      "image/png": "[encoded data removed]",
      "text/plain": [
       "<Figure size 432x288 with 2 Axes>"
      ]
     },
     "metadata": {
      "needs_background": "light"
     },
     "output_type": "display_data"
    }
   ],
   "source": [
    "cm3 = confusion_matrix(y_test, y_pred_knn_bestk)\n",
    "%matplotlib inline\n",
    "plt.figure(figsize=(6,4))\n",
    "sns.heatmap(cm3)\n",
    "plt.xlabel('y test predicted with Knn ( optimal K)')\n",
    "plt.ylabel('y_test')"
   ]
  },
  {
   "cell_type": "code",
   "execution_count": 76,
   "metadata": {},
   "outputs": [
    {
     "data": {
      "text/plain": [
       "0.5346534653465347"
      ]
     },
     "execution_count": 76,
     "metadata": {},
     "output_type": "execute_result"
    }
   ],
   "source": [
    "accuracy_score(y_test, y_pred_knn_bestk)"
   ]
  },
  {
   "cell_type": "markdown",
   "metadata": {},
   "source": [
    "### Or instead of GridSearch, we can visualize the results and pick the optimal K from the graph using a traditional counter-based function"
   ]
  },
  {
   "cell_type": "code",
   "execution_count": 77,
   "metadata": {},
   "outputs": [],
   "source": [
    "k_range = range (1,31)\n",
    "precision = []\n",
    "for k in k_range:\n",
    "    knn = knc(n_neighbors = k)\n",
    "    knn.fit(X_train_s,y_train)\n",
    "    y_pred = knn.predict(X_test_s)\n",
    "    precision.append(accuracy_score(y_test, y_pred))"
   ]
  },
  {
   "cell_type": "code",
   "execution_count": 78,
   "metadata": {},
   "outputs": [
    {
     "data": {
      "image/png": "[encoded data removed]",
      "text/plain": [
       "<Figure size 864x432 with 1 Axes>"
      ]
     },
     "metadata": {
      "needs_background": "light"
     },
     "output_type": "display_data"
    }
   ],
   "source": [
    "%matplotlib inline\n",
    "\n",
    "plt.figure(figsize=(12,6)) \n",
    "\n",
    "plt.title('Variance of K over the Test', fontsize= 16)\n",
    "plt.xlabel('range of K', fontsize= 12)\n",
    "plt.ylabel('Accuracy of K', fontsize=12)\n",
    " \n",
    "plt.xticks(fontsize=12)  #the fontsize of the numbers of the X  scale / the numbers size \n",
    "plt.yticks(fontsize=12) \n",
    "\n",
    "plt.xlim(0,30) # label limits (range of X data)\n",
    "plt.ylim(0.3,0.7)\n",
    "\n",
    "plt.plot(k_range, precision, linewidth=2, marker='o')\n",
    "\n",
    "plt.show()"
   ]
  },
  {
   "cell_type": "markdown",
   "metadata": {},
   "source": [
    "### Here , we can easily notice that the result given by GridSearch (k_optimal=7) isn't identical to the result given by the typical counter-based function, as shows the graph above ( k_optimal= 25)"
   ]
  },
  {
   "cell_type": "code",
   "execution_count": null,
   "metadata": {},
   "outputs": [],
   "source": []
  },
  {
   "cell_type": "markdown",
   "metadata": {},
   "source": [
    "### =================================================================================="
   ]
  },
  {
   "cell_type": "markdown",
   "metadata": {},
   "source": [
    "## Reminders: \n",
    "### When we have very small P_values, it means that the correspondant independant variables of these p_values are impacting the response variable==> we should keep those variables, and vice versa"
   ]
  },
  {
   "cell_type": "markdown",
   "metadata": {},
   "source": [
    "### \"Estimate\" column in the model summary is for the Beta values ; \n",
    "\t### 1- the larger the values, the higher is the impact of that variable on the response variable or output\n",
    "    ### 2- the (-) sign means that the higher we increase that variable , the output decreases"
   ]
  },
  {
   "cell_type": "markdown",
   "metadata": {},
   "source": [
    "### KNN is a non parametric Method; there are no Betas\n",
    "### among drawbacks of KNN, it doesn't tell us the relationship of that specific variable with response variable"
   ]
  },
  {
   "cell_type": "markdown",
   "metadata": {},
   "source": [
    "### Linear Discriminant analysis is based on the conditional probability "
   ]
  },
  {
   "cell_type": "code",
   "execution_count": 79,
   "metadata": {},
   "outputs": [
    {
     "data": {
      "text/plain": [
       "'>>> from sklearn import preprocessing\\n>>> le = preprocessing.LabelEncoder()\\n>>> le.fit([1, 2, 2, 6])\\nLabelEncoder()\\n>>> le.classes_\\narray([1, 2, 6])\\n>>> le.transform([1, 1, 2, 6])\\narray([0, 0, 1, 2]...)\\n>>> le.inverse_transform([0, 0, 1, 2])\\narray([1, 1, 2, 6]) '"
      ]
     },
     "execution_count": 79,
     "metadata": {},
     "output_type": "execute_result"
    }
   ],
   "source": [
    "# Important tool: the LabelEncoder from sklearn(might need it later)\n",
    "'''>>> from sklearn import preprocessing\n",
    ">>> le = preprocessing.LabelEncoder()\n",
    ">>> le.fit([1, 2, 2, 6])\n",
    "LabelEncoder()\n",
    ">>> le.classes_\n",
    "array([1, 2, 6])\n",
    ">>> le.transform([1, 1, 2, 6])\n",
    "array([0, 0, 1, 2]...)\n",
    ">>> le.inverse_transform([0, 0, 1, 2])\n",
    "array([1, 1, 2, 6]) ''' "
   ]
  },
  {
   "cell_type": "code",
   "execution_count": 80,
   "metadata": {},
   "outputs": [
    {
     "data": {
      "text/plain": [
       "'from sklearn.linear_model import LogisticRegression\\n# fit final model\\nmodel = LogisticRegression()\\nmodel.fit(X, y)'"
      ]
     },
     "execution_count": 80,
     "metadata": {},
     "output_type": "execute_result"
    }
   ],
   "source": [
    "# example of training a final classification model\n",
    "'''from sklearn.linear_model import LogisticRegression\n",
    "# fit final model\n",
    "model = LogisticRegression()\n",
    "model.fit(X, y)'''"
   ]
  },
  {
   "cell_type": "markdown",
   "metadata": {},
   "source": [
    "## ============================================================================"
   ]
  },
  {
   "cell_type": "markdown",
   "metadata": {},
   "source": [
    "## Linear Regression for one variable case & Multiple variable case: "
   ]
  },
  {
   "cell_type": "markdown",
   "metadata": {},
   "source": [
    "### 1- One Variable:"
   ]
  },
  {
   "cell_type": "markdown",
   "metadata": {},
   "source": [
    "#### for the dependant variables , we gonna choose another variable instead of \"Start_Tech_Oscar\" since this last is of type boolean and the graph obtained later on won't present a good visualization for a boolean type variable, instead, we'll adopt \"Trailer views\" as dependant variable for both the model and the plot"
   ]
  },
  {
   "cell_type": "code",
   "execution_count": 81,
   "metadata": {},
   "outputs": [],
   "source": [
    "from sklearn.linear_model import LinearRegression"
   ]
  },
  {
   "cell_type": "code",
   "execution_count": 103,
   "metadata": {},
   "outputs": [],
   "source": [
    "x= df[['Budget']]  # the dependant variable should be two-dimensional ( Double brackets)\n",
    "y= df['Trailer_views']"
   ]
  },
  {
   "cell_type": "code",
   "execution_count": 104,
   "metadata": {},
   "outputs": [
    {
     "data": {
      "text/plain": [
       "LinearRegression(copy_X=True, fit_intercept=True, n_jobs=None, normalize=False)"
      ]
     },
     "execution_count": 104,
     "metadata": {},
     "output_type": "execute_result"
    }
   ],
   "source": [
    "lm = LinearRegression()\n",
    "lm.fit(x, y)"
   ]
  },
  {
   "cell_type": "code",
   "execution_count": 105,
   "metadata": {},
   "outputs": [
    {
     "name": "stdout",
     "output_type": "stream",
     "text": [
      "67912.83542001667 [10.93935454]\n"
     ]
    }
   ],
   "source": [
    "print(lm.intercept_ , lm.coef_)"
   ]
  },
  {
   "cell_type": "markdown",
   "metadata": {},
   "source": [
    "### plotting the regression: "
   ]
  },
  {
   "cell_type": "code",
   "execution_count": 107,
   "metadata": {},
   "outputs": [
    {
     "data": {
      "text/plain": [
       "<seaborn.axisgrid.JointGrid at 0x2c4e7bce8c8>"
      ]
     },
     "execution_count": 107,
     "metadata": {},
     "output_type": "execute_result"
    },
    {
     "data": {
      "image/png": "[encoded data removed]",
      "text/plain": [
       "<Figure size 432x432 with 3 Axes>"
      ]
     },
     "metadata": {
      "needs_background": "light"
     },
     "output_type": "display_data"
    }
   ],
   "source": [
    "x= df['Budget'] # now here in plotting, X and Y should be of the same dimension\n",
    "sns.jointplot(x, y , data= df, kind='reg')"
   ]
  },
  {
   "cell_type": "markdown",
   "metadata": {},
   "source": [
    "### 2 - Multiple variables: "
   ]
  },
  {
   "cell_type": "markdown",
   "metadata": {},
   "source": [
    "#### Method 1: ( works for only 1 variable case too)"
   ]
  },
  {
   "cell_type": "code",
   "execution_count": 111,
   "metadata": {},
   "outputs": [],
   "source": [
    "import statsmodels.api as stm"
   ]
  },
  {
   "cell_type": "code",
   "execution_count": 117,
   "metadata": {},
   "outputs": [
    {
     "name": "stderr",
     "output_type": "stream",
     "text": [
      "C:\\Users\\amine\\Anaconda3\\lib\\site-packages\\numpy\\core\\fromnumeric.py:2389: FutureWarning: Method .ptp is deprecated and will be removed in a future version. Use numpy.ptp instead.\n",
      "  return ptp(axis=axis, out=out, **kwargs)\n"
     ]
    }
   ],
   "source": [
    "X_multi= df.drop(\"Start_Tech_Oscar\", axis= 1) # Important remark: axis=0 is for rows / axis=1 is for columns\n",
    "X_multi_const= stm.add_constant(X_multi)"
   ]
  },
  {
   "cell_type": "code",
   "execution_count": 118,
   "metadata": {},
   "outputs": [],
   "source": [
    "y_multi= df['Start_Tech_Oscar']"
   ]
  },
  {
   "cell_type": "code",
   "execution_count": 119,
   "metadata": {},
   "outputs": [],
   "source": [
    "lm_multi = stm.OLS(y_multi, X_multi_const).fit()"
   ]
  },
  {
   "cell_type": "code",
   "execution_count": 120,
   "metadata": {},
   "outputs": [
    {
     "data": {
      "text/html": [
       "<table class=\"simpletable\">\n",
       "<caption>OLS Regression Results</caption>\n",
       "<tr>\n",
       "  <th>Dep. Variable:</th>    <td>Start_Tech_Oscar</td> <th>  R-squared:         </th> <td>   0.169</td>\n",
       "</tr>\n",
       "<tr>\n",
       "  <th>Model:</th>                   <td>OLS</td>       <th>  Adj. R-squared:    </th> <td>   0.140</td>\n",
       "</tr>\n",
       "<tr>\n",
       "  <th>Method:</th>             <td>Least Squares</td>  <th>  F-statistic:       </th> <td>   5.811</td>\n",
       "</tr>\n",
       "<tr>\n",
       "  <th>Date:</th>             <td>Fri, 22 May 2020</td> <th>  Prob (F-statistic):</th> <td>3.53e-12</td>\n",
       "</tr>\n",
       "<tr>\n",
       "  <th>Time:</th>                 <td>04:45:51</td>     <th>  Log-Likelihood:    </th> <td> -318.05</td>\n",
       "</tr>\n",
       "<tr>\n",
       "  <th>No. Observations:</th>      <td>   505</td>      <th>  AIC:               </th> <td>   672.1</td>\n",
       "</tr>\n",
       "<tr>\n",
       "  <th>Df Residuals:</th>          <td>   487</td>      <th>  BIC:               </th> <td>   748.1</td>\n",
       "</tr>\n",
       "<tr>\n",
       "  <th>Df Model:</th>              <td>    17</td>      <th>                     </th>     <td> </td>   \n",
       "</tr>\n",
       "<tr>\n",
       "  <th>Covariance Type:</th>      <td>nonrobust</td>    <th>                     </th>     <td> </td>   \n",
       "</tr>\n",
       "</table>\n",
       "<table class=\"simpletable\">\n",
       "<tr>\n",
       "           <td></td>              <th>coef</th>     <th>std err</th>      <th>t</th>      <th>P>|t|</th>  <th>[0.025</th>    <th>0.975]</th>  \n",
       "</tr>\n",
       "<tr>\n",
       "  <th>const</th>               <td> 1146.0085</td> <td>  500.289</td> <td>    2.291</td> <td> 0.022</td> <td>  163.017</td> <td> 2129.000</td>\n",
       "</tr>\n",
       "<tr>\n",
       "  <th>Collection</th>          <td> 1.731e-05</td> <td>    2e-06</td> <td>    8.640</td> <td> 0.000</td> <td> 1.34e-05</td> <td> 2.13e-05</td>\n",
       "</tr>\n",
       "<tr>\n",
       "  <th>Marketing expense</th>   <td>    0.0001</td> <td>    0.000</td> <td>    0.765</td> <td> 0.445</td> <td>   -0.000</td> <td>    0.000</td>\n",
       "</tr>\n",
       "<tr>\n",
       "  <th>Production expense</th>  <td>    0.0004</td> <td>    0.003</td> <td>    0.141</td> <td> 0.888</td> <td>   -0.005</td> <td>    0.005</td>\n",
       "</tr>\n",
       "<tr>\n",
       "  <th>Multiplex coverage</th>  <td>   -1.0626</td> <td>    0.528</td> <td>   -2.014</td> <td> 0.045</td> <td>   -2.099</td> <td>   -0.026</td>\n",
       "</tr>\n",
       "<tr>\n",
       "  <th>Budget</th>              <td> -2.81e-05</td> <td>  7.8e-06</td> <td>   -3.604</td> <td> 0.000</td> <td>-4.34e-05</td> <td>-1.28e-05</td>\n",
       "</tr>\n",
       "<tr>\n",
       "  <th>Movie_length</th>        <td>    0.0011</td> <td>    0.001</td> <td>    0.865</td> <td> 0.388</td> <td>   -0.001</td> <td>    0.004</td>\n",
       "</tr>\n",
       "<tr>\n",
       "  <th>Trailer_views</th>       <td>-2.811e-06</td> <td> 5.32e-07</td> <td>   -5.285</td> <td> 0.000</td> <td>-3.86e-06</td> <td>-1.77e-06</td>\n",
       "</tr>\n",
       "<tr>\n",
       "  <th>Time_taken</th>          <td>   -0.0015</td> <td>    0.001</td> <td>   -2.187</td> <td> 0.029</td> <td>   -0.003</td> <td>   -0.000</td>\n",
       "</tr>\n",
       "<tr>\n",
       "  <th>Twitter_hastags</th>     <td>    0.0006</td> <td>    0.001</td> <td>    0.964</td> <td> 0.335</td> <td>   -0.001</td> <td>    0.002</td>\n",
       "</tr>\n",
       "<tr>\n",
       "  <th>Avg_age_actors</th>      <td>    0.0011</td> <td>    0.002</td> <td>    0.660</td> <td> 0.509</td> <td>   -0.002</td> <td>    0.004</td>\n",
       "</tr>\n",
       "<tr>\n",
       "  <th>Num_multiplex</th>       <td>   -0.0006</td> <td>    0.000</td> <td>   -1.149</td> <td> 0.251</td> <td>   -0.002</td> <td>    0.000</td>\n",
       "</tr>\n",
       "<tr>\n",
       "  <th>Average_rating</th>      <td>   -0.1789</td> <td>    0.045</td> <td>   -3.967</td> <td> 0.000</td> <td>   -0.268</td> <td>   -0.090</td>\n",
       "</tr>\n",
       "<tr>\n",
       "  <th>3D_available_YES</th>    <td>    0.0407</td> <td>    0.043</td> <td>    0.951</td> <td> 0.342</td> <td>   -0.043</td> <td>    0.125</td>\n",
       "</tr>\n",
       "<tr>\n",
       "  <th>Genre_Comedy</th>        <td>   -0.0331</td> <td>    0.067</td> <td>   -0.491</td> <td> 0.623</td> <td>   -0.165</td> <td>    0.099</td>\n",
       "</tr>\n",
       "<tr>\n",
       "  <th>Genre_Drama</th>         <td>   -0.0054</td> <td>    0.073</td> <td>   -0.074</td> <td> 0.941</td> <td>   -0.150</td> <td>    0.139</td>\n",
       "</tr>\n",
       "<tr>\n",
       "  <th>Genre_Thriller</th>      <td>   -0.0902</td> <td>    0.066</td> <td>   -1.365</td> <td> 0.173</td> <td>   -0.220</td> <td>    0.040</td>\n",
       "</tr>\n",
       "<tr>\n",
       "  <th>MPAA_film_rating_PG</th> <td>-1141.9142</td> <td>  499.676</td> <td>   -2.285</td> <td> 0.023</td> <td>-2123.702</td> <td> -160.126</td>\n",
       "</tr>\n",
       "</table>\n",
       "<table class=\"simpletable\">\n",
       "<tr>\n",
       "  <th>Omnibus:</th>       <td>4154.833</td> <th>  Durbin-Watson:     </th> <td>   1.868</td>\n",
       "</tr>\n",
       "<tr>\n",
       "  <th>Prob(Omnibus):</th>  <td> 0.000</td>  <th>  Jarque-Bera (JB):  </th> <td>  48.384</td>\n",
       "</tr>\n",
       "<tr>\n",
       "  <th>Skew:</th>           <td>-0.037</td>  <th>  Prob(JB):          </th> <td>3.12e-11</td>\n",
       "</tr>\n",
       "<tr>\n",
       "  <th>Kurtosis:</th>       <td> 1.485</td>  <th>  Cond. No.          </th> <td>1.57e+10</td>\n",
       "</tr>\n",
       "</table><br/><br/>Warnings:<br/>[1] Standard Errors assume that the covariance matrix of the errors is correctly specified.<br/>[2] The condition number is large, 1.57e+10. This might indicate that there are<br/>strong multicollinearity or other numerical problems."
      ],
      "text/plain": [
       "<class 'statsmodels.iolib.summary.Summary'>\n",
       "\"\"\"\n",
       "                            OLS Regression Results                            \n",
       "==============================================================================\n",
       "Dep. Variable:       Start_Tech_Oscar   R-squared:                       0.169\n",
       "Model:                            OLS   Adj. R-squared:                  0.140\n",
       "Method:                 Least Squares   F-statistic:                     5.811\n",
       "Date:                Fri, 22 May 2020   Prob (F-statistic):           3.53e-12\n",
       "Time:                        04:45:51   Log-Likelihood:                -318.05\n",
       "No. Observations:                 505   AIC:                             672.1\n",
       "Df Residuals:                     487   BIC:                             748.1\n",
       "Df Model:                          17                                         \n",
       "Covariance Type:            nonrobust                                         \n",
       "=======================================================================================\n",
       "                          coef    std err          t      P>|t|      [0.025      0.975]\n",
       "---------------------------------------------------------------------------------------\n",
       "const                1146.0085    500.289      2.291      0.022     163.017    2129.000\n",
       "Collection           1.731e-05      2e-06      8.640      0.000    1.34e-05    2.13e-05\n",
       "Marketing expense       0.0001      0.000      0.765      0.445      -0.000       0.000\n",
       "Production expense      0.0004      0.003      0.141      0.888      -0.005       0.005\n",
       "Multiplex coverage     -1.0626      0.528     -2.014      0.045      -2.099      -0.026\n",
       "Budget               -2.81e-05    7.8e-06     -3.604      0.000   -4.34e-05   -1.28e-05\n",
       "Movie_length            0.0011      0.001      0.865      0.388      -0.001       0.004\n",
       "Trailer_views       -2.811e-06   5.32e-07     -5.285      0.000   -3.86e-06   -1.77e-06\n",
       "Time_taken             -0.0015      0.001     -2.187      0.029      -0.003      -0.000\n",
       "Twitter_hastags         0.0006      0.001      0.964      0.335      -0.001       0.002\n",
       "Avg_age_actors          0.0011      0.002      0.660      0.509      -0.002       0.004\n",
       "Num_multiplex          -0.0006      0.000     -1.149      0.251      -0.002       0.000\n",
       "Average_rating         -0.1789      0.045     -3.967      0.000      -0.268      -0.090\n",
       "3D_available_YES        0.0407      0.043      0.951      0.342      -0.043       0.125\n",
       "Genre_Comedy           -0.0331      0.067     -0.491      0.623      -0.165       0.099\n",
       "Genre_Drama            -0.0054      0.073     -0.074      0.941      -0.150       0.139\n",
       "Genre_Thriller         -0.0902      0.066     -1.365      0.173      -0.220       0.040\n",
       "MPAA_film_rating_PG -1141.9142    499.676     -2.285      0.023   -2123.702    -160.126\n",
       "==============================================================================\n",
       "Omnibus:                     4154.833   Durbin-Watson:                   1.868\n",
       "Prob(Omnibus):                  0.000   Jarque-Bera (JB):               48.384\n",
       "Skew:                          -0.037   Prob(JB):                     3.12e-11\n",
       "Kurtosis:                       1.485   Cond. No.                     1.57e+10\n",
       "==============================================================================\n",
       "\n",
       "Warnings:\n",
       "[1] Standard Errors assume that the covariance matrix of the errors is correctly specified.\n",
       "[2] The condition number is large, 1.57e+10. This might indicate that there are\n",
       "strong multicollinearity or other numerical problems.\n",
       "\"\"\""
      ]
     },
     "execution_count": 120,
     "metadata": {},
     "output_type": "execute_result"
    }
   ],
   "source": [
    "lm_multi.summary()"
   ]
  },
  {
   "cell_type": "markdown",
   "metadata": {},
   "source": [
    "#### =====================================================   \n",
    "    #### Dep. Variable:    Start_Tech_Oscar     R-squared:        0.169 \n",
    "    #### Model:                 OLS             Adj. R-squared:   0.140\n",
    "\n",
    "#### ==> R squared and R adjusted are too far from 1; weak correlation "
   ]
  },
  {
   "cell_type": "markdown",
   "metadata": {},
   "source": [
    "#### =====================================================\n",
    "    #### Method    Least Squares        F-statistic:     5.811\n",
    "\n",
    "#### F-statistic is important  ==> we can say with confidence that our independant variables has no impact on our dependant variables"
   ]
  },
  {
   "cell_type": "markdown",
   "metadata": {},
   "source": [
    "#### ======================================================\n",
    "    #### No. Observations:     505  : our \"n\"\n",
    "\n",
    "    #### Df Model:              17  : our 'nbr of DEPENDANT variables' or 'k'\n",
    "\n",
    "    #### Df Residuals:         487  : Degree of Freedom: df= n-k-1 = 505-17-1 = 487\n",
    "    \n"
   ]
  },
  {
   "cell_type": "markdown",
   "metadata": {},
   "source": [
    "#### =========================================================\n",
    "\n",
    "    ##### The lower the P-value, the more important and intervening is the correspendant dependant variable in determining the independant variable "
   ]
  },
  {
   "cell_type": "markdown",
   "metadata": {},
   "source": [
    "    #### according to the summary below, the most important dependant variables (or factors) are: Collection, Budget, and Average rating"
   ]
  },
  {
   "cell_type": "markdown",
   "metadata": {},
   "source": [
    "### Method 2: ( Using Sklearn): "
   ]
  },
  {
   "cell_type": "code",
   "execution_count": 121,
   "metadata": {},
   "outputs": [
    {
     "data": {
      "text/plain": [
       "LinearRegression(copy_X=True, fit_intercept=True, n_jobs=None, normalize=False)"
      ]
     },
     "execution_count": 121,
     "metadata": {},
     "output_type": "execute_result"
    }
   ],
   "source": [
    "lm2 = LinearRegression()\n",
    "lm2.fit(X_multi, y_multi) #with Sklearn, we use dependant variables without adding a constant to them (<> X_multi_const)"
   ]
  },
  {
   "cell_type": "code",
   "execution_count": 122,
   "metadata": {},
   "outputs": [
    {
     "name": "stdout",
     "output_type": "stream",
     "text": [
      "1146.0084963566023 [ 1.73145170e-05  1.07810583e-04  3.67172128e-04 -1.06259814e+00\n",
      " -2.80978912e-05  1.07815595e-03 -2.81125526e-06 -1.49639086e-03\n",
      "  5.99030264e-04  1.10889275e-03 -5.56817457e-04 -1.78903713e-01\n",
      "  4.06881215e-02 -3.30700655e-02 -5.41101197e-03 -9.02279899e-02\n",
      " -1.14191415e+03]\n"
     ]
    }
   ],
   "source": [
    "print(lm2.intercept_ , lm2.coef_)"
   ]
  },
  {
   "cell_type": "code",
   "execution_count": null,
   "metadata": {},
   "outputs": [],
   "source": []
  }
 ],
 "metadata": {
  "kernelspec": {
   "display_name": "Python 3",
   "language": "python",
   "name": "python3"
  },
  "language_info": {
   "codemirror_mode": {
    "name": "ipython",
    "version": 3
   },
   "file_extension": ".py",
   "mimetype": "text/x-python",
   "name": "python",
   "nbconvert_exporter": "python",
   "pygments_lexer": "ipython3",
   "version": "3.7.4"
  }
 },
 "nbformat": 4,
 "nbformat_minor": 2
}
